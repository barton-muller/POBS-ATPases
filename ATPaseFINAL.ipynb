{
 "cells": [
  {
   "cell_type": "code",
   "execution_count": 1,
   "id": "ca933821",
   "metadata": {},
   "outputs": [],
   "source": [
    "save = False\n",
    "figsize = (6,5)"
   ]
  },
  {
   "cell_type": "markdown",
   "id": "81e00149",
   "metadata": {},
   "source": [
    "# Plotting functions \n"
   ]
  },
  {
   "cell_type": "code",
   "execution_count": 2,
   "id": "a64e5a8a",
   "metadata": {},
   "outputs": [
    {
     "name": "stderr",
     "output_type": "stream",
     "text": [
      "/Applications/anaconda3/lib/python3.11/site-packages/pandas/core/arrays/masked.py:60: UserWarning: Pandas requires version '1.3.6' or newer of 'bottleneck' (version '1.3.5' currently installed).\n",
      "  from pandas.core import (\n"
     ]
    }
   ],
   "source": [
    "# plotting functions\n",
    "import numpy as np\n",
    "import matplotlib.pyplot as plt\n",
    "import seaborn as sns\n",
    "import matplotlib.ticker as ticker\n",
    "from scipy.interpolate import griddata\n",
    "from scipy.optimize import curve_fit\n",
    "# from module import plottingfuncs\n",
    "\n",
    "nicecolors = [\"royalblue\", \"darkorange\", \"limegreen\", \"purple\", \"teal\", \"gold\", \"fuchsia\", \"maroon\", \"gray\", \"black\"]\n",
    "\n",
    "def plot_scatter(ax, x, y, label=None, color=\"royalblue\", marker=None, alpha=0.7):\n",
    "    \"\"\"\n",
    "    Plots a scatter plot on the given axes.\n",
    "\n",
    "    Args:\n",
    "        ax (matplotlib.axes.Axes): The axes on which to plot.\n",
    "        x (array-like): The x-coordinates of the data points.\n",
    "        y (array-like): The y-coordinates of the data points.\n",
    "        label (str, optional): The label for the scatter plot. Defaults to None.\n",
    "        color (str, optional): The color of the scatter plot. Defaults to \"royalblue\".\n",
    "    \"\"\"\n",
    "    label = f'{label}' if label else None\n",
    "    # Plot data\n",
    "    sns.scatterplot(x=x, y=y, ax=ax, label=label, color=color, marker=marker, alpha=alpha,\n",
    "                        s=80)\n",
    "    sns.despine(ax=ax)\n",
    "\n",
    "def plot_line(ax, x, y, label=None, color=\"royalblue\", marker=None, alpha=0.7):\n",
    "    \"\"\"\n",
    "    Plots a line plot on the given axes.\n",
    "\n",
    "    Args:\n",
    "        ax (matplotlib.axes.Axes): The axes on which to plot.\n",
    "        x (array-like): The x-coordinates of the data points.\n",
    "        y (array-like): The y-coordinates of the data points.\n",
    "        label (str, optional): The label for the line plot. Defaults to None.\n",
    "        color (str, optional): The color of the line plot. Defaults to \"royalblue\".\n",
    "        marker (str, optional): The marker style for the line plot. Defaults to None.\n",
    "    \"\"\"\n",
    "    label = f'{label}' if label else None\n",
    "    # Plot data\n",
    "    sns.lineplot(x=x, y=y, ax=ax, label=label, color=color, marker=marker, alpha=alpha)\n",
    "    sns.despine(ax=ax)\n",
    "\n",
    "def plot_data(ax, x, y, label=None, color=\"royalblue\", marker='o', alpha=0.7):\n",
    "    \"\"\"\n",
    "    Plots a line plot on the given axes.\n",
    "\n",
    "    Args:\n",
    "        ax (matplotlib.axes.Axes): The axes on which to plot.\n",
    "        x (array-like): The x-coordinates of the data points.\n",
    "        y (array-like): The y-coordinates of the data points.\n",
    "        label (str, optional): The label for the line plot. Defaults to None.\n",
    "        color (str, optional): The color of the line plot. Defaults to \"royalblue\".\n",
    "        marker (str, optional): The marker style for the line plot. Defaults to None.\n",
    "    \"\"\"\n",
    "    label = f'{label}' if label else None\n",
    "    # Plot data\n",
    "    sns.lineplot(x=x, y=y, ax=ax, label=label, color=color, marker=marker, alpha=alpha)\n",
    "    sns.despine(ax=ax)\n",
    "\n",
    "def plot_labels(ax, xlabel='', ylabel='', title='', fts=16):\n",
    "    \"\"\"\n",
    "    Sets the labels and title of the given axes.\n",
    "\n",
    "    Args:\n",
    "        ax (matplotlib.axes.Axes): The axes to modify.\n",
    "        xlabel (str, optional): The label for the x-axis. Defaults to ''.\n",
    "        ylabel (str, optional): The label for the y-axis. Defaults to ''.\n",
    "        title (str, optional): The title of the plot. Defaults to ''.\n",
    "        fts (int, optional): The font size for the labels and title. Defaults to 16.\n",
    "    \"\"\"\n",
    "    # Labels and title\n",
    "    ax.set_xlabel(xlabel, fontsize=fts)\n",
    "    ax.set_ylabel(ylabel, fontsize=fts)\n",
    "    ax.set_title(title, fontsize=fts)\n",
    "\n",
    "def plot_fit(ax, x, y, fit_func, color=None, linestyle=None, label=None, p0=None):\n",
    "    \"\"\"\n",
    "    Fits a curve to the data and plots the fit on the given axes.\n",
    "\n",
    "    Args:\n",
    "        ax (matplotlib.axes.Axes): The axes on which to plot.\n",
    "        x (array-like): The x-coordinates of the data points.\n",
    "        y (array-like): The y-coordinates of the data points.\n",
    "        fit_func (callable): The function to use for fitting.\n",
    "        color (str, optional): The color of the fit line. Defaults to None.\n",
    "        linestyle (str, optional): The linestyle of the fit line. Defaults to None.\n",
    "        label (str or callable, optional): The label for the fit line. If callable,\n",
    "          it will be called with the fit parameters. Defaults to None.\n",
    "\n",
    "    Returns:\n",
    "        tuple: A tuple containing the fit parameters, covariance matrix, and R^2 value.\n",
    "    \"\"\"\n",
    "    # Fit curve\n",
    "    popt, popc = curve_fit(fit_func, x, y, p0=p0)\n",
    "\n",
    "    if callable(label):\n",
    "        label = label(*popt)\n",
    "    spread = max(x) - min(x)\n",
    "    xfit = np.linspace(min(x) - spread, max(x) + spread, 1000)\n",
    "    y_fit = fit_func(xfit, *popt)\n",
    "    label = f'{label}' if label else None\n",
    "    sns.lineplot(ax=ax, x=xfit, y=y_fit, label=label, color=color, linestyle=linestyle, alpha=0.7)\n",
    "\n",
    "    # Compute R^2\n",
    "    ss_res = np.sum((y - fit_func(x, *popt)) ** 2)  # Residual sum of squares\n",
    "    ss_tot = np.sum((y - np.mean(y)) ** 2)  # Total sum of squares\n",
    "    R2 = 1 - (ss_res / ss_tot)\n",
    "    print(f'Fit parameters: {popt}', f' R^2: {R2}')\n",
    "    return popt, popc, R2\n",
    "\n",
    "def plot_lims(ax, x, y, xlims=['d', 'd'], ylims=['d', 'd']):\n",
    "    \"\"\"\n",
    "    Sets the limits of the x and y axes.\n",
    "\n",
    "    Args:\n",
    "        ax (matplotlib.axes.Axes): The axes to modify.\n",
    "        x (array-like): The x-coordinates of the data points.\n",
    "        y (array-like): The y-coordinates of the data points.\n",
    "        xlims (list, optional): The limits for the x-axis. 'd' indicates default limits. Defaults to ['d', 'd'].\n",
    "        ylims (list, optional): The limits for the y-axis. 'd' indicates default limits. Defaults to ['d', 'd'].\n",
    "    \"\"\"\n",
    "    span = lambda x: max(x) - min(x)\n",
    "    if ylims:\n",
    "        if ylims[0] == 'd':\n",
    "            ylims[0] = min(y) - span(y) * 0.05\n",
    "        if ylims[1] == 'd':\n",
    "            ylims[1] = max(y) + span(y) * 0.05\n",
    "        ax.set_ylim(ylims)\n",
    "    if xlims:\n",
    "        if xlims[0] == 'd':\n",
    "            xlims[0] = min(x) - span(x) * 0.05\n",
    "        if xlims[1] == 'd':\n",
    "            xlims[1] = max(x) + span(x) * 0.05\n",
    "        ax.set_xlim(xlims)\n",
    "\n",
    "def plot_ticks(ax,fts =12, x_ticks=None, y_ticks=None, x_scale=None, y_scale=None, default_ticks=5):\n",
    "    \"\"\"\n",
    "    Adjusts the ticks of a matplotlib axis to look nicer, with improved tick value selection.\n",
    "\n",
    "    Args:\n",
    "        ax (matplotlib.axes.Axes): The axis to adjust.\n",
    "        x_ticks (int or list, optional): Number of x-axis ticks or explicit tick positions.\n",
    "        y_ticks (int or list, optional): Number of y-axis ticks or explicit tick positions.\n",
    "        x_scale (str, optional): Scaling of the x-axis ('linear', 'log', etc.).\n",
    "        y_scale (str, optional): Scaling of the y-axis ('linear', 'log', etc.).\n",
    "        default_ticks (int, optional): The default number of ticks if x_ticks or y_ticks are not provided.\n",
    "    \"\"\"\n",
    "\n",
    "    if x_ticks is None:\n",
    "        if x_scale == 'log':\n",
    "            ax.xaxis.set_major_locator(ticker.LogLocator(numticks=default_ticks))\n",
    "        else:\n",
    "            ax.xaxis.set_major_locator(ticker.MaxNLocator(nbins=default_ticks, integer=False))  # changed to MaxNLocator\n",
    "    elif isinstance(x_ticks, int):\n",
    "        if x_scale == 'log':\n",
    "            ax.xaxis.set_major_locator(ticker.LogLocator(numticks=x_ticks))\n",
    "        else:\n",
    "            ax.xaxis.set_major_locator(ticker.MaxNLocator(nbins=x_ticks, integer=False))  # changed to MaxNLocator\n",
    "    else:\n",
    "        ax.set_xticks(x_ticks)\n",
    "\n",
    "    if y_ticks is None:\n",
    "        if y_scale == 'log':\n",
    "            ax.yaxis.set_major_locator(ticker.LogLocator(numticks=default_ticks))\n",
    "        else:\n",
    "            ax.yaxis.set_major_locator(ticker.MaxNLocator(nbins=default_ticks, integer=False))  # changed to MaxNLocator\n",
    "    elif isinstance(y_ticks, int):\n",
    "        if y_scale == 'log':\n",
    "            ax.yaxis.set_major_locator(ticker.LogLocator(numticks=y_ticks))\n",
    "        else:\n",
    "            ax.yaxis.set_major_locator(ticker.MaxNLocator(nbins=y_ticks, integer=False))  # changed to MaxNLocator\n",
    "    else:\n",
    "        ax.set_yticks(y_ticks)\n",
    "\n",
    "    if x_scale == 'log':\n",
    "        ax.xaxis.set_major_formatter(ticker.ScalarFormatter())\n",
    "    if y_scale == 'log':\n",
    "        ax.yaxis.set_major_formatter(ticker.ScalarFormatter())\n",
    "\n",
    "    ax.tick_params(axis='both', which='major', labelsize=10)\n",
    "    ax.tick_params(axis='both', which='minor', labelsize=8)\n",
    "    ax.tick_params(axis='both', which='both', direction='out')\n",
    "    ax.tick_params(axis='both', which='major', length=5)\n",
    "    ax.tick_params(axis='both', which='minor', length=2.5)\n",
    "\n",
    "    if x_scale == 'log':\n",
    "        ax.xaxis.set_minor_locator(ticker.LogLocator(subs='auto'))\n",
    "    if y_scale == 'log':\n",
    "        ax.yaxis.set_minor_locator(ticker.LogLocator(subs='auto'))\n",
    "    if x_scale == 'linear':\n",
    "        ax.xaxis.set_minor_locator(ticker.AutoMinorLocator())\n",
    "    if y_scale == 'linear':\n",
    "        ax.yaxis.set_minor_locator(ticker.AutoMinorLocator())\n",
    "\n",
    "    ax.tick_params(axis='x', labelsize=fts)\n",
    "    ax.tick_params(axis='y', labelsize=fts)\n",
    "\n",
    "def plot_legend(ax, legfts=12, loc=None, remove=[]):\n",
    "    \"\"\"\n",
    "    Adds a legend to the given axis with optional customization.\n",
    "\n",
    "    Parameters:\n",
    "    ax (matplotlib.axes.Axes): The axis to add the legend to.\n",
    "    legfts (int, optional): Font size of the legend. Defaults to 12.\n",
    "    loc (str or int, optional): Location of the legend. Uses Matplotlib's legend location codes. Defaults to None.\n",
    "    remove (list, optional): List of indices of legend items to exclude. Defaults to an empty list.\n",
    "\n",
    "    Returns:\n",
    "    None\n",
    "    \"\"\"\n",
    "    handles, labels = ax.get_legend_handles_labels()\n",
    "    nlabels = [item for i, item in enumerate(labels) if i not in remove]\n",
    "    nhandles = [item for i, item in enumerate(handles) if i not in remove]\n",
    "    ax.legend(handles=nhandles, labels=nlabels, fontsize=legfts, loc=loc)\n",
    "\n",
    "\n",
    "def plot_show(fig,ax, save_path=None):\n",
    "    \"\"\"\n",
    "    Adjusts the layout of the figure and either displays or saves it.\n",
    "\n",
    "    Parameters:\n",
    "    fig (matplotlib.figure.Figure): The figure to display or save.\n",
    "    save_path (str, optional): File path to save the figure. If None, the figure is shown instead. Defaults to None.\n",
    "\n",
    "    Returns:\n",
    "    None\n",
    "    \"\"\"\n",
    "    fig.tight_layout()\n",
    "    if save_path:\n",
    "        fig.savefig(save_path, dpi=300, bbox_inches='tight')\n",
    "    fig.show()\n",
    "\n",
    "\n",
    "# fitting lambda functions\n",
    "exp_fit = lambda x, a, b: a* np.exp( b * x)\n",
    "exp_label = lambda a, b: f\"$y = {a:.2f} e^{{{b:.2f} x}}$\"\n",
    "\n",
    "exp_fitC = lambda x, a, b, c: a* np.exp( b * x) + c\n",
    "expC_label = lambda a, b, c: f\"$y = {a:.2f} e^{{{b:.2f} x}} + {c:.2f}$\"\n",
    "\n",
    "linear_fit = lambda x, a, b: a*x + b\n",
    "linear_label = lambda a, b: f\"$y = {a:.2f}x+ {b:.2f}$\"\n",
    "\n",
    "quad_fit = lambda x, a, b, c: a*x**2 + b*x +c\n",
    "quad_label = lambda a, b, c: f\"$y = {a:.2f}x^2 + {b:.2f}x+c$\"\n"
   ]
  },
  {
   "cell_type": "markdown",
   "id": "5dab8e4c",
   "metadata": {},
   "source": [
    "\n",
    "\n",
    "# Loading data from the excel file"
   ]
  },
  {
   "cell_type": "code",
   "execution_count": 3,
   "id": "5e58a273",
   "metadata": {},
   "outputs": [],
   "source": [
    "import pandas as pd\n",
    "import numpy as np\n",
    "from tqdm import tqdm\n",
    "\n",
    "pd.options.display.float_format = '{:.2f}'.format\n",
    "\n",
    "def extract_datasets_with_titles(df):\n",
    "    \"\"\"\n",
    "    Extracts individual datasets from a DataFrame separated by rows containing 'x'\n",
    "    and assigns dataset titles from the corresponding row.\n",
    "\n",
    "    Args:\n",
    "        df: The pandas DataFrame containing the data.\n",
    "\n",
    "    Returns:\n",
    "        A dictionary where keys are dataset titles and values are corresponding DataFrames.\n",
    "    \"\"\"\n",
    "    datasets = {}\n",
    "\n",
    "    # Store the dataset title\n",
    "    x_indicies = []\n",
    "    for index, row in df.iterrows():\n",
    "        row_values = row.values\n",
    "        # Check if row contains 'x', meaning it's a dataset separator\n",
    "        if 'x' in str(row_values):\n",
    "            x_indicies.append(index)\n",
    "\n",
    "\n",
    "    for i, index in enumerate(x_indicies[:-1]):\n",
    "        Title = df.iloc[index,1]\n",
    "        T = df.iloc[index,2]\n",
    "\n",
    "        # Save previous dataset (if exists)\n",
    "        df_extracted = pd.DataFrame(df.iloc[index+1:x_indicies[i+1]])\n",
    "        # print(df_extracted)\n",
    "        df_extracted = df_extracted.dropna(axis=1, how='all').dropna(axis=0, how='all')  # Clean NaNs\n",
    "\n",
    "        df_extracted.attrs['T'] = T\n",
    "        df_extracted.attrs['Title'] = Title\n",
    "\n",
    "        datasets[Title] = df_extracted  # Store dataset with its title\n",
    "\n",
    "    Title = df.iloc[x_indicies[-1],1]\n",
    "    T = df.iloc[x_indicies[-1],2]\n",
    "    df_extracted = pd.DataFrame(df.iloc[x_indicies[-1]+1:])\n",
    "    df_extracted = df_extracted.dropna(axis=1, how='all').dropna(axis=0, how='all')  # Clean NaNs\n",
    "    df_extracted.attrs['T'] = T\n",
    "    df_extracted.attrs['Title'] = Title\n",
    "    datasets[Title] = df_extracted  # Store dataset with its title\n",
    "\n",
    "\n",
    "    return datasets\n",
    "\n",
    "# dataset loading\n",
    "def load_dataset(name):\n",
    "    \"\"\" Not part of the class as invloved in preperation.\n",
    "    requires name of dataset\n",
    "    returns: x (varied concerntraions),\n",
    "             y (normalised luminosity measurements),\n",
    "             indepvar (the [enzyme] which is varried)\n",
    "    \"\"\"\n",
    "    dataset = datasets[name] # load data\n",
    "    indepvar = dataset.attrs['variable']\n",
    "    buffer_indices = dataset.attrs.get('buffer_indicies', [])\n",
    "    data = dataset.drop(columns=buffer_indices) #get only data values not buffer\n",
    "    slicer = slice(None,None) #can be used to remove certain values\n",
    "    # reminder x usually goes from hight to low in data!\n",
    "    x = data.loc[indepvar][slicer]\n",
    "    y = data.loc[\"norm_mean\"][slicer] #luminosity normed by avg buffer\n",
    "    T = data.attrs['T']\n",
    "    return x, y, indepvar, T\n",
    "\n",
    "def load_dataset_v2(name): # new version of load_dataset that can load ALLmain, TBD:\n",
    "    \"\"\" Not part of the class as invloved in preperation.\n",
    "    requires name of dataset\n",
    "    returns: x (varied concerntraions),\n",
    "             y (normalised luminosity measurements),\n",
    "             indepvar (the [enzyme] which is varried)\n",
    "    \"\"\"\n",
    "    dataset = datasets[name] # load data uses datasets outside of scope\n",
    "\n",
    "    indepvar = dataset.attrs['variable']\n",
    "    if indepvar != 'multi':\n",
    "      buffer_indices = dataset.attrs.get('buffer_indicies', [])\n",
    "      data = dataset.drop(columns=buffer_indices) #get only data values not buffer\n",
    "      slicer = slice(None,None) #can be used to remove certain values\n",
    "      # reminder x usually goes from hight to low in data!\n",
    "      x = data.loc[indepvar][slicer]\n",
    "      y = data.loc[\"norm_mean\"][slicer] #luminosity normed by avg buffer\n",
    "      T = data.attrs['T']\n",
    "      return x, y, indepvar, T\n",
    "    else: # actually works only for the AAP and FAE case in allmain but that's what we care for\n",
    "      indepvar1 = 'AAP'\n",
    "      indepvar2 = 'FAE'\n",
    "      buffer_indices = dataset.attrs.get('buffer_indicies', [])\n",
    "      data = dataset.drop(columns=buffer_indices) #get only data values not buffer\n",
    "      slicer = slice(None,None) #can be used to remove certain values\n",
    "      x1 = dataset.loc[indepvar1]\n",
    "      x2 = dataset.loc[indepvar2]\n",
    "      y = dataset.loc[\"norm_mean\"] #luminosity normed by avg buffer\n",
    "      T = dataset.attrs['T']\n",
    "      return x1, x2, y, indepvar1, indepvar2, T\n"
   ]
  },
  {
   "cell_type": "code",
   "execution_count": 4,
   "id": "b15e7196",
   "metadata": {},
   "outputs": [
    {
     "data": {
      "text/plain": [
       "dict_keys(['MFAmain', 'FAEmain', 'AAPmain', 'ALLmain', 'MFAsup1', 'MFAsup2', 'MFAsup3', 'FAEsup1', 'FAEsup2', 'FAEsup3', 'AAPsup1', 'AAPsup2', 'AAPsup3'])"
      ]
     },
     "execution_count": 4,
     "metadata": {},
     "output_type": "execute_result"
    }
   ],
   "source": [
    "# Load CSV file\n",
    "datapath = 'data_new.csv'\n",
    "df = pd.read_csv(datapath)\n",
    "\n",
    "# Extract datasets with titles\n",
    "datasets = extract_datasets_with_titles(df)\n",
    "\n",
    "# Rename row indices\n",
    "custom_row_names7 = [\"Rep1\", \"Rep2\", \"Rep3\", \"Rep4\", \"MFA\", \"FAE\", \"AAP\"]\n",
    "custom_row_names6 = [\"Rep1\", \"Rep2\", \"Rep3\", \"MFA\", \"FAE\", \"AAP\"]\n",
    "\n",
    "for title, dataset in datasets.items():\n",
    "    if len(dataset) == 7:  # Ensure enough rows exist\n",
    "        dataset.index = custom_row_names7[:len(dataset)]\n",
    "        dataset = dataset.astype(float)\n",
    "    if len(dataset) == 6:  # Ensure enough rows exist\n",
    "        dataset.index = custom_row_names6[:len(dataset)]\n",
    "        dataset = dataset.astype(float)\n",
    "\n",
    "    last_rows = dataset.iloc[-3:]\n",
    "    dataset.attrs['buffer_indicies'] = []\n",
    "\n",
    "    for index, i in enumerate(last_rows.columns):\n",
    "      if (last_rows[i] == 0).all():\n",
    "\n",
    "        dataset.rename(columns={i: f'buffer {index}'}, inplace=True)\n",
    "        dataset.attrs['buffer_indicies'] += [f'buffer {index}']\n",
    "    datasets[title] = dataset\n",
    "\n",
    "(datasets).keys()"
   ]
  },
  {
   "cell_type": "code",
   "execution_count": 5,
   "id": "4b75ac85",
   "metadata": {},
   "outputs": [],
   "source": [
    "# find mean, std, ... and add to table\n",
    "def add_stats(title):\n",
    "  data = datasets[title]\n",
    "  rep_rows = data.loc[data.index.str.contains(\"Rep\")]\n",
    "  data.loc[\"mean\"] = rep_rows.mean()\n",
    "  data.loc[\"std\"] = rep_rows.std()\n",
    "  data.loc[\"rsm\"] = data.loc[\"std\"]/len(rep_rows)**0.5\n",
    "\n",
    "  #find mean... for all buffer measuremets\n",
    "  # create df of only buffere data\n",
    "  buffer_columns = data.columns[data.columns.str.contains(\"buffer\")]\n",
    "  buf_cols = data[buffer_columns]\n",
    "  rep_rows = buf_cols.loc[buf_cols.index.str.contains(\"Rep\")]\n",
    "  #then find quants\n",
    "  buf_mean = rep_rows.values.mean()\n",
    "  buf_std = rep_rows.values.std()\n",
    "  buf_SE = rep_rows.values.std()/(rep_rows.values.size**0.5)\n",
    "  #save to overall df metadata\n",
    "  data.attrs[\"buffer\"] = {\"mean\":buf_mean, \"std\":buf_std, \"SE\":buf_SE}\n",
    "  data.loc['norm_mean'] = data.loc['mean']/buf_mean\n",
    "\n",
    "#add the nam,e of the independent varieable\n",
    "variables = {'MFAmain':'MFA',\n",
    "             'FAEmain':'FAE',\n",
    "             'AAPmain':'AAP',\n",
    "             'ALLmain':'multi',\n",
    "             'MFAsup1':'MFA',\n",
    "             'MFAsup2':'MFA',\n",
    "             'MFAsup3':'MFA',\n",
    "             'FAEsup1':'FAE',\n",
    "             'FAEsup2':'FAE',\n",
    "             'FAEsup3':'FAE',\n",
    "             'AAPsup1':'AAP',\n",
    "             'AAPsup2':'AAP',\n",
    "             'AAPsup3':'AAP'}\n",
    "for title in datasets.keys():\n",
    "    dataset = datasets[title]\n",
    "    datasets[title].attrs['variable'] = variables[title]\n",
    "\n",
    "for title in datasets.keys():\n",
    "  add_stats(title)\n"
   ]
  },
  {
   "cell_type": "code",
   "execution_count": 6,
   "id": "0ad817b0",
   "metadata": {},
   "outputs": [
    {
     "name": "stdout",
     "output_type": "stream",
     "text": [
      "Dataset Title: MFAmain\n",
      "Dataset Title: FAEmain\n",
      "Dataset Title: AAPmain\n",
      "Dataset Title: ALLmain\n",
      "Dataset Title: MFAsup1\n",
      "Dataset Title: MFAsup2\n",
      "Dataset Title: MFAsup3\n",
      "Dataset Title: FAEsup1\n",
      "Dataset Title: FAEsup2\n",
      "Dataset Title: FAEsup3\n",
      "Dataset Title: AAPsup1\n",
      "Dataset Title: AAPsup2\n",
      "Dataset Title: AAPsup3\n"
     ]
    }
   ],
   "source": [
    "# Display datasets with titles\n",
    "from IPython.display import display\n",
    "for title, dataset in datasets.items():\n",
    "    print(f\"Dataset Title: {title}\")\n",
    "    if 0: #Set to 1 to show\n",
    "      display(dataset)\n",
    "      print(\"-\"*40)"
   ]
  },
  {
   "cell_type": "markdown",
   "id": "674dc1c8",
   "metadata": {},
   "source": [
    "# Simulation class"
   ]
  },
  {
   "cell_type": "code",
   "execution_count": 37,
   "id": "c8daecbc",
   "metadata": {},
   "outputs": [],
   "source": [
    "from scipy.integrate import solve_ivp\n",
    "\n",
    "class simulation:\n",
    "    \"\"\"\n",
    "    A class to simulate the kinetics of a biochemical reaction system involving ATP MFA, and MFA*.\n",
    "\n",
    "    Attributes:\n",
    "        rates (dict): Dictionary of rate constants for the reactions.\n",
    "        concs (dict): Dictionary of initial concentrations for species.\n",
    "        indepvar (str): Name of the independent variable for parameter sweep (conc that changes).\n",
    "        var_concs (list): List of concentration values to iterate over during simulation.\n",
    "        results (list): Stores simulation outputs for each parameter value.\n",
    "    \"\"\"\n",
    "\n",
    "    def __init__(self, concs, rates, indepvar):\n",
    "        \"\"\"\n",
    "        Initialize the simulation with initial concentrations, rate constants, and an independent variable.\n",
    "\n",
    "        Args:\n",
    "            concs (dict): Initial concentrations of species.\n",
    "            rates (dict): Reaction rate constants (intrinsic and catalyzed).\n",
    "            indepvar (str): The variable whose values will be varied during simulations.\n",
    "        \"\"\"\n",
    "        # the stoch sims just use the dicts\n",
    "        self.concs = concs\n",
    "        self.rates = rates\n",
    "        # other sims use idiviual vars for each component/rate\n",
    "        self.k1_0 = rates['k1_0']\n",
    "        self.k1_c = rates['k1_c']\n",
    "        self.k2_0 = rates['k2_0']\n",
    "        self.k2_c = rates['k2_c']\n",
    "\n",
    "        self.ATP = concs['ATP']\n",
    "        self.MFA_star = concs['MFA_star0']\n",
    "        self.MFA = concs['MFA']\n",
    "        self.FAE = concs['FAE']\n",
    "        self.AAP = concs['AAP']\n",
    "\n",
    "        self.indepvar = indepvar\n",
    "        self.var_concs = self.__getattribute__(indepvar)\n",
    "        self.results = []\n",
    "\n",
    "    def reaction_system_no_hill(self, t, y):\n",
    "        \"\"\"\n",
    "        Defines the system of ODEs for the reaction kinetics.\n",
    "\n",
    "        Args:\n",
    "            t (float): Time variable (not used, required by solver).\n",
    "            y (list): Current concentrations of ATP, MFA, and MFA_star.\n",
    "\n",
    "        Returns:\n",
    "            list: Derivatives of concentrations.\n",
    "        \"\"\"\n",
    "        ATP, MFA, MFA_star = y\n",
    "\n",
    "        rate1 = (self.k1_0 + self.k1_c * self.FAE) * ATP * MFA\n",
    "        rate2 = (self.k2_0 + self.k2_c * self.AAP) * MFA_star\n",
    "\n",
    "        dATP_dt = -rate1\n",
    "        dMFA_dt = -rate1 + rate2\n",
    "        dMFA_star_dt = rate1 - rate2\n",
    "\n",
    "        return [dATP_dt, dMFA_dt, dMFA_star_dt]\n",
    "    \n",
    "    def reaction_system(self, t, y):\n",
    "        \"\"\"\n",
    "        Defines the system of ODEs for the reaction kinetics\n",
    "        including coopertivity between FAE.\n",
    "\n",
    "        Args:\n",
    "            t (float): Time variable (not used, required by solver).\n",
    "            y (list): Current concentrations of ATP, MFA, and MFA_star.\n",
    "\n",
    "        Returns:\n",
    "            list: Derivatives of concentrations.\n",
    "        \"\"\"\n",
    "        ATP, MFA, MFA_star = y\n",
    "        # Hill-based cooperative effect of FAE\n",
    "        hill_effectFAE = (self.FAE**F_n) / (F_KD**F_n + self.FAE**F_n)\n",
    "        # concluded no cooperativity for AAP\n",
    "        hill_effectAAP = self.AAP #(self.AAP**A_n) / (A_KD**n + self.AAP**A_n)\n",
    "\n",
    "        # Updated rate with cooperative catalyst activity\n",
    "        rate1 = (self.k1_0 + self.k1_c * hill_effectFAE) * ATP * MFA\n",
    "        rate2 = (self.k2_0 + self.k2_c * hill_effectAAP) * MFA_star\n",
    "\n",
    "        dATP_dt = -rate1\n",
    "        dMFA_dt = -rate1 + rate2\n",
    "        dMFA_star_dt = rate1 - rate2\n",
    "\n",
    "        return [dATP_dt, dMFA_dt, dMFA_star_dt]\n",
    "\n",
    "    def simulate(self):\n",
    "        \"\"\"\n",
    "        Run a deterministic simulation using the ODE model and store the ATP trajectory.\n",
    "        \"\"\"\n",
    "        t_max = sim.T +20\n",
    "        time_span = (0, t_max)\n",
    "        self.time_eval = np.linspace(0, t_max, 200)\n",
    "        sol = solve_ivp(self.reaction_system, time_span, [self.ATP, self.MFA, self.MFA_star], t_eval=self.time_eval)\n",
    "        self.results.append({'time': sol.t, 'ATP': sol.y[0]/self.concs['ATP']})\n",
    "\n",
    "    def sim_over_var(self):\n",
    "        \"\"\"\n",
    "        Run deterministic simulations over a range of values for the independent variable.\n",
    "        \"\"\"\n",
    "        for c in self.var_concs:\n",
    "            # this sets the e.g. self.'MFA' to c\n",
    "            setattr(self, self.indepvar, c)\n",
    "            # simulate\n",
    "            self.simulate()\n",
    "\n",
    "\n",
    "    def interpolate(self, T):\n",
    "        \"\"\"\n",
    "        Interpolate ATP concentration at a specific time point `T` for each simulation result.\n",
    "\n",
    "        Args:\n",
    "            T (float): The time point at which ATP concentration is interpolated.\n",
    "        \"\"\"\n",
    "        Tmes = []\n",
    "        for sol in self.results:\n",
    "            Tmes.append(np.interp(T, sol['time'], sol['ATP']))\n",
    "        self.Tmes = np.array(Tmes)\n",
    "\n",
    "    def Stoch_Sim(self):\n",
    "        \"\"\"\n",
    "        Run a stochastic simulation using Gillespie SSA and normalize ATP concentrations.\n",
    "        \"\"\"\n",
    "        model = MFASimulation(self.concs, self.rates, indepvar=self.indepvar)\n",
    "        solver = gillespy.SSACSolver(model)\n",
    "        sol = solver.run(number_of_trajectories=1)\n",
    "        sol[0]['ATP'] /= self.concs['ATP']\n",
    "        self.results.append(sol)\n",
    "\n",
    "    def Stoch_sim_over_var(self):\n",
    "        \"\"\"\n",
    "        Run stochastic simulations across a range of values for the independent variable.\n",
    "        \"\"\"\n",
    "        for c in tqdm(self.var_concs):\n",
    "            # this sets the conc e.g. self.'MFA' to c\n",
    "            setattr(self, self.indepvar, c) #not nessasry\n",
    "            #scale conc for discrete system\n",
    "            self.concs[self.indepvar] = c  #needs scaling !find better solution\n",
    "            self.Stoch_Sim()\n",
    "\n",
    "\n",
    "    def sim_over_two_vars(self, var1, var2,\n",
    "                        var1_vals, var2_vals,\n",
    "                        t_max=60, n_points=200):\n",
    "        \"\"\"\n",
    "        Perform a 2D parameter sweep over two input variables and simulate results.\n",
    "\n",
    "        Parameters:\n",
    "        -----------\n",
    "        var1 : str\n",
    "            The name of the first variable to sweep.\n",
    "        var2 : str\n",
    "            The name of the second variable to sweep.\n",
    "        var1_vals : list of float\n",
    "            Values to sweep for var1.\n",
    "        var2_vals : list of float\n",
    "            Values to sweep for var2.\n",
    "        t_max : float, optional (default=60)\n",
    "            Maximum time for integration.\n",
    "        n_points : int, optional (default=200)\n",
    "            Number of time points to evaluate during integration.\n",
    "\n",
    "        Returns:\n",
    "        --------\n",
    "        grid : list of list of dict\n",
    "            A 2D list of simulation results. Each element is the output of `_run_once`\n",
    "            corresponding to a unique (var1, var2) pair. Result[i][j] corresponds to\n",
    "            var1_vals[i] and var2_vals[j].\n",
    "        \"\"\"\n",
    "        grid = []\n",
    "        for v1 in var1_vals:\n",
    "            row = []\n",
    "            for v2 in var2_vals:\n",
    "                res = self.run_once({var1: v1, var2: v2},\n",
    "                                    t_max=t_max, n_points=n_points)\n",
    "                row.append(res)\n",
    "            grid.append(row)\n",
    "        return grid\n",
    "\n",
    "\n",
    "    def run_once(self, conc_updates, t_max=60, n_points=200):\n",
    "        \"\"\"\n",
    "        Run a single simulation with specified concentration updates.\n",
    "\n",
    "        Parameters:\n",
    "        -----------\n",
    "        conc_updates : dict\n",
    "            Dictionary of concentration values to override. Example: {'AAP': 0.5, 'FAE': 2.0}\n",
    "        t_max : float, optional (default=60)\n",
    "            Maximum time for integration.\n",
    "        n_points : int, optional (default=200)\n",
    "            Number of time points to evaluate during integration.\n",
    "\n",
    "        Returns:\n",
    "        --------\n",
    "        result : dict\n",
    "            Dictionary containing simulation results:\n",
    "                - 'time': numpy array of time points\n",
    "                - 'ATP' : normalized ATP concentration (array)\n",
    "                - All entries in conc_updates for reference\n",
    "        \"\"\"\n",
    "        # 1. Copy original concentrations to avoid modifying self.concs\n",
    "        y0_concs = self.concs.copy()\n",
    "        y0_concs.update(conc_updates)  # Patch with current simulation values\n",
    "\n",
    "        # 2. Unpack to local attributes used in the ODE system\n",
    "        self.AAP = y0_concs['AAP']\n",
    "        self.FAE = y0_concs['FAE']\n",
    "        self.MFA = y0_concs['MFA']\n",
    "        self.MFA_star = y0_concs['MFA_star0']\n",
    "        self.ATP = y0_concs['ATP']\n",
    "\n",
    "        # 3. Integrate ODE system\n",
    "        t_eval = np.linspace(0, t_max, n_points)\n",
    "        sol = solve_ivp(self.reaction_system, (0, t_max),\n",
    "                        [self.ATP, self.MFA, self.MFA_star],\n",
    "                        t_eval=t_eval)\n",
    "\n",
    "        return {\n",
    "            'time': sol.t,\n",
    "            'ATP': sol.y[0] / self.concs['ATP'],  # Normalize ATP\n",
    "            **conc_updates\n",
    "        }\n",
    "\n"
   ]
  },
  {
   "cell_type": "markdown",
   "id": "71c9cb13",
   "metadata": {},
   "source": [
    "# Deterministic Simulations"
   ]
  },
  {
   "cell_type": "markdown",
   "id": "cdcb3531",
   "metadata": {},
   "source": [
    "## MFA "
   ]
  },
  {
   "cell_type": "code",
   "execution_count": 8,
   "id": "bd5b548a",
   "metadata": {},
   "outputs": [],
   "source": [
    "sims = {}"
   ]
  },
  {
   "cell_type": "code",
   "execution_count": 9,
   "id": "4c67f17d",
   "metadata": {},
   "outputs": [],
   "source": [
    "# define rates and concerntraions\n",
    "rates = {'k1_0': 0.002426 , 'k1_c': 0.03, 'k2_0': 200., 'k2_c': 20.0}\n",
    "concs = {'ATP': 2000.0, 'MFA_star0': 0.0, 'MFA': 1.0, 'FAE': 0.0, 'AAP': 0.0}\n",
    "F_KD = 0.35 ; F_n = 4\n",
    "\n",
    "for i, title in enumerate(['MFAmain','MFAsup1','MFAsup2','MFAsup3']):\n",
    "\n",
    "    shift = -1\n",
    "    # load dataset of interest\n",
    "    x, y, indepvar, T = load_dataset(title)\n",
    "    # set the [enzyme] which is varried to array of what it is\n",
    "    concs[indepvar] = x.to_numpy() + shift\n",
    "    concs[indepvar] = np.append(concs[indepvar],0)\n",
    "    # simulation class containing everthing to do with sim\n",
    "    sim = simulation(concs, rates, indepvar) # initialise\n",
    "    sim.x = x; sim.y = y; sim.T = T # add the data to it\n",
    "    sim.sim_over_var() # sim over variable [enzyme]\n",
    "    sim.interpolate(sim.T) # interpolate to find value at specific T\n",
    "\n",
    "    sims[title] = sim"
   ]
  },
  {
   "cell_type": "code",
   "execution_count": 10,
   "id": "37a9949e",
   "metadata": {},
   "outputs": [
    {
     "name": "stderr",
     "output_type": "stream",
     "text": [
      "/Applications/anaconda3/lib/python3.11/site-packages/seaborn/_oldcore.py:1119: FutureWarning: use_inf_as_na option is deprecated and will be removed in a future version. Convert inf values to NaN before operating instead.\n",
      "  with pd.option_context('mode.use_inf_as_na', True):\n",
      "/Applications/anaconda3/lib/python3.11/site-packages/seaborn/_oldcore.py:1119: FutureWarning: use_inf_as_na option is deprecated and will be removed in a future version. Convert inf values to NaN before operating instead.\n",
      "  with pd.option_context('mode.use_inf_as_na', True):\n",
      "/Applications/anaconda3/lib/python3.11/site-packages/seaborn/_oldcore.py:1119: FutureWarning: use_inf_as_na option is deprecated and will be removed in a future version. Convert inf values to NaN before operating instead.\n",
      "  with pd.option_context('mode.use_inf_as_na', True):\n",
      "/Applications/anaconda3/lib/python3.11/site-packages/seaborn/_oldcore.py:1119: FutureWarning: use_inf_as_na option is deprecated and will be removed in a future version. Convert inf values to NaN before operating instead.\n",
      "  with pd.option_context('mode.use_inf_as_na', True):\n",
      "/Applications/anaconda3/lib/python3.11/site-packages/seaborn/_oldcore.py:1119: FutureWarning: use_inf_as_na option is deprecated and will be removed in a future version. Convert inf values to NaN before operating instead.\n",
      "  with pd.option_context('mode.use_inf_as_na', True):\n",
      "/Applications/anaconda3/lib/python3.11/site-packages/seaborn/_oldcore.py:1119: FutureWarning: use_inf_as_na option is deprecated and will be removed in a future version. Convert inf values to NaN before operating instead.\n",
      "  with pd.option_context('mode.use_inf_as_na', True):\n",
      "/Applications/anaconda3/lib/python3.11/site-packages/seaborn/_oldcore.py:1119: FutureWarning: use_inf_as_na option is deprecated and will be removed in a future version. Convert inf values to NaN before operating instead.\n",
      "  with pd.option_context('mode.use_inf_as_na', True):\n",
      "/Applications/anaconda3/lib/python3.11/site-packages/seaborn/_oldcore.py:1119: FutureWarning: use_inf_as_na option is deprecated and will be removed in a future version. Convert inf values to NaN before operating instead.\n",
      "  with pd.option_context('mode.use_inf_as_na', True):\n",
      "/Applications/anaconda3/lib/python3.11/site-packages/seaborn/_oldcore.py:1119: FutureWarning: use_inf_as_na option is deprecated and will be removed in a future version. Convert inf values to NaN before operating instead.\n",
      "  with pd.option_context('mode.use_inf_as_na', True):\n",
      "/Applications/anaconda3/lib/python3.11/site-packages/seaborn/_oldcore.py:1119: FutureWarning: use_inf_as_na option is deprecated and will be removed in a future version. Convert inf values to NaN before operating instead.\n",
      "  with pd.option_context('mode.use_inf_as_na', True):\n",
      "/Applications/anaconda3/lib/python3.11/site-packages/seaborn/_oldcore.py:1119: FutureWarning: use_inf_as_na option is deprecated and will be removed in a future version. Convert inf values to NaN before operating instead.\n",
      "  with pd.option_context('mode.use_inf_as_na', True):\n",
      "/Applications/anaconda3/lib/python3.11/site-packages/seaborn/_oldcore.py:1119: FutureWarning: use_inf_as_na option is deprecated and will be removed in a future version. Convert inf values to NaN before operating instead.\n",
      "  with pd.option_context('mode.use_inf_as_na', True):\n",
      "/Applications/anaconda3/lib/python3.11/site-packages/seaborn/_oldcore.py:1119: FutureWarning: use_inf_as_na option is deprecated and will be removed in a future version. Convert inf values to NaN before operating instead.\n",
      "  with pd.option_context('mode.use_inf_as_na', True):\n",
      "/Applications/anaconda3/lib/python3.11/site-packages/seaborn/_oldcore.py:1119: FutureWarning: use_inf_as_na option is deprecated and will be removed in a future version. Convert inf values to NaN before operating instead.\n",
      "  with pd.option_context('mode.use_inf_as_na', True):\n",
      "/Applications/anaconda3/lib/python3.11/site-packages/seaborn/_oldcore.py:1119: FutureWarning: use_inf_as_na option is deprecated and will be removed in a future version. Convert inf values to NaN before operating instead.\n",
      "  with pd.option_context('mode.use_inf_as_na', True):\n",
      "/Applications/anaconda3/lib/python3.11/site-packages/seaborn/_oldcore.py:1119: FutureWarning: use_inf_as_na option is deprecated and will be removed in a future version. Convert inf values to NaN before operating instead.\n",
      "  with pd.option_context('mode.use_inf_as_na', True):\n"
     ]
    },
    {
     "name": "stdout",
     "output_type": "stream",
     "text": [
      "Fit parameters: [ 0.99980513 -0.21206622]  R^2: 0.9960762845841125\n",
      "Fit parameters: [ 1.00123735 -0.21540076]  R^2: 0.9999935596770678\n",
      "Fit parameters: [ 0.990097   -0.23649915]  R^2: 0.9877793777605801\n",
      "Fit parameters: [ 1.00038554 -0.22873885]  R^2: 0.9999971480629709\n",
      "Fit parameters: [ 1.00630678 -0.4606118 ]  R^2: 0.9936896313523746\n",
      "Fit parameters: [ 1.00074777 -0.43247565]  R^2: 0.9999941977858237\n",
      "Fit parameters: [ 0.92576284 -0.7136051 ]  R^2: 0.9893299234720905\n",
      "Fit parameters: [ 1.00087981 -0.73007184]  R^2: 0.9999925622951307\n",
      "k_1 = 0.00243 ± 0.00008\n"
     ]
    },
    {
     "data": {
      "image/png": "[encoded data removed]",
      "text/plain": [
       "<Figure size 600x500 with 1 Axes>"
      ]
     },
     "metadata": {},
     "output_type": "display_data"
    }
   ],
   "source": [
    "keff = []\n",
    "fig, ax = plt.subplots(figsize=figsize)\n",
    "for i, title in enumerate(['MFAmain','MFAsup1','MFAsup2','MFAsup3']):\n",
    "    sim = sims[title]\n",
    "    shift = -1\n",
    "    plot_scatter(ax,  (sim.x+shift), (sim.y), label=f\"{title}, T={sim.T}\", marker='o', color=nicecolors[i], alpha=1)\n",
    "    plot_scatter(ax, (sim.var_concs), (sim.Tmes),marker='X', color=nicecolors[i])\n",
    "\n",
    "    #fit exponetial and shift\n",
    "    popt, popc, R2 = plot_fit(ax, (sim.x+shift), (sim.y), exp_fit, color=nicecolors[i], label = None)\n",
    "    keff.append(popt[1]/sim.T)\n",
    "    popt, popc, R2 = plot_fit(ax, (sim.var_concs), (sim.Tmes), exp_fit, color=nicecolors[i], label = None, linestyle='--')\n",
    "\n",
    "    plot_labels(ax, f\"[{indepvar}]$/\\mu$M\", r\"[ATP]/[ATP$_0$]\", f\"{indepvar} kinetics\") #T={sim.T}\n",
    "    plot_lims(ax, sim.x, sim.Tmes, [0,5],[0,1])\n",
    "    plot_ticks(ax)\n",
    "    \n",
    "    sims[title] = sim\n",
    "plt.plot([],[], label='$ae^{bx}$ Data fit', color='black')\n",
    "plt.plot([],[], label='$ae^{bx}$ Simulation fit', color='black', linestyle='--')\n",
    "plt.scatter([],[], label='Simulation data', color='black', marker='X', alpha=1)\n",
    "\n",
    "plot_legend(ax, legfts = 9, loc='upper right')\n",
    "keff = np.array(keff)\n",
    "print(f\"k_1 = {-keff.mean():.5f} ± {keff.std():.5f}\")\n",
    "plt.title(f\"MFA: $k_1$ = {-keff.mean():.5f} ± {keff.std():.5f}\", fontsize=16)\n",
    "name = 'MFA_plot'\n",
    "plt.tight_layout()\n",
    "if save ==True:\n",
    "    plt.savefig(f'{name}.png', dpi=1500)"
   ]
  },
  {
   "cell_type": "markdown",
   "id": "4e4cd4df",
   "metadata": {},
   "source": [
    "## AAP"
   ]
  },
  {
   "cell_type": "code",
   "execution_count": 11,
   "id": "6fa4081c",
   "metadata": {},
   "outputs": [],
   "source": [
    "# define rates and concerntraions\n",
    "rates = {'k1_0': 1.5 * .22428/90 , 'k1_c': 0.03, 'k2_0': 1.5, 'k2_c': 20}\n",
    "concs = {'ATP': 2000.0, 'MFA_star0': 0.0, 'MFA': 2.0, 'FAE': 0.0, 'AAP': 0.0}\n",
    "\n",
    "# rates = {'k1_0': 3.5 * .22428/90 , 'k1_c': 0.03, 'k2_0': 3.5, 'k2_c': 25}\n",
    "# concs = {'ATP': 2000.0, 'MFA_star0': 0.0, 'MFA': 1.0, 'FAE': 0.0, 'AAP': 0.0}\n",
    "\n",
    "F_KD = 0.35\n",
    "F_n = 4\n",
    "\n",
    "for i, title in enumerate(['AAPmain','AAPsup1','AAPsup2','AAPsup3']):\n",
    "\n",
    "    shift = 0\n",
    "    # load dataset of interest\n",
    "    x, y, indepvar, T = load_dataset(title)\n",
    "    # set the [enzyme] which is varried to array of what it is\n",
    "    if title == 'xAAPmain':\n",
    "            x = x[1:]\n",
    "            y = y[1:]\n",
    "    concs[indepvar] = x.to_numpy() + shift\n",
    "    concs[indepvar] = np.append(concs[indepvar],0)\n",
    "    # simulation class containing everthing to do with sim\n",
    "    sim = simulation(concs, rates, indepvar) # initialise\n",
    "    sim.x = x; sim.y = y; sim.T = T # add the data to it\n",
    "    sim.sim_over_var() # sim over variable [enzyme]\n",
    "    sim.interpolate(sim.T) # interpolate to find value at specific T\n",
    "\n",
    "    sims[title] = sim"
   ]
  },
  {
   "cell_type": "code",
   "execution_count": 12,
   "id": "d19f2c23",
   "metadata": {},
   "outputs": [
    {
     "name": "stderr",
     "output_type": "stream",
     "text": [
      "/Applications/anaconda3/lib/python3.11/site-packages/seaborn/_oldcore.py:1119: FutureWarning: use_inf_as_na option is deprecated and will be removed in a future version. Convert inf values to NaN before operating instead.\n",
      "  with pd.option_context('mode.use_inf_as_na', True):\n",
      "/Applications/anaconda3/lib/python3.11/site-packages/seaborn/_oldcore.py:1119: FutureWarning: use_inf_as_na option is deprecated and will be removed in a future version. Convert inf values to NaN before operating instead.\n",
      "  with pd.option_context('mode.use_inf_as_na', True):\n",
      "/Applications/anaconda3/lib/python3.11/site-packages/seaborn/_oldcore.py:1119: FutureWarning: use_inf_as_na option is deprecated and will be removed in a future version. Convert inf values to NaN before operating instead.\n",
      "  with pd.option_context('mode.use_inf_as_na', True):\n",
      "/Applications/anaconda3/lib/python3.11/site-packages/seaborn/_oldcore.py:1119: FutureWarning: use_inf_as_na option is deprecated and will be removed in a future version. Convert inf values to NaN before operating instead.\n",
      "  with pd.option_context('mode.use_inf_as_na', True):\n",
      "/Applications/anaconda3/lib/python3.11/site-packages/seaborn/_oldcore.py:1119: FutureWarning: use_inf_as_na option is deprecated and will be removed in a future version. Convert inf values to NaN before operating instead.\n",
      "  with pd.option_context('mode.use_inf_as_na', True):\n",
      "/Applications/anaconda3/lib/python3.11/site-packages/seaborn/_oldcore.py:1119: FutureWarning: use_inf_as_na option is deprecated and will be removed in a future version. Convert inf values to NaN before operating instead.\n",
      "  with pd.option_context('mode.use_inf_as_na', True):\n",
      "/Applications/anaconda3/lib/python3.11/site-packages/seaborn/_oldcore.py:1119: FutureWarning: use_inf_as_na option is deprecated and will be removed in a future version. Convert inf values to NaN before operating instead.\n",
      "  with pd.option_context('mode.use_inf_as_na', True):\n",
      "/Applications/anaconda3/lib/python3.11/site-packages/seaborn/_oldcore.py:1119: FutureWarning: use_inf_as_na option is deprecated and will be removed in a future version. Convert inf values to NaN before operating instead.\n",
      "  with pd.option_context('mode.use_inf_as_na', True):\n"
     ]
    },
    {
     "name": "stdout",
     "output_type": "stream",
     "text": [
      "Fit parameters: [ 0.37679345 -2.14090098]  R^2: 0.9929470605280426\n",
      "Fit parameters: [ 0.23968059 -2.7601507 ]  R^2: 0.9987617029373967\n",
      "Fit parameters: [ 0.32386418 -2.98643512]  R^2: 0.9986481516760957\n",
      "Fit parameters: [ 0.40694824 -3.33569875]  R^2: 0.9984427595773926\n"
     ]
    },
    {
     "data": {
      "image/png": "[encoded data removed]",
      "text/plain": [
       "<Figure size 600x500 with 1 Axes>"
      ]
     },
     "metadata": {},
     "output_type": "display_data"
    }
   ],
   "source": [
    "keff = []\n",
    "fig, ax = plt.subplots(figsize=figsize)\n",
    "for i, title in enumerate(['AAPmain','AAPsup1','AAPsup2','AAPsup3']): #,\n",
    "    sim = sims[title]\n",
    "    shift = 0\n",
    "\n",
    "    plot_scatter(ax,  (sim.x+shift), (sim.y), label=f\"{title}, T={sim.T}\", marker='o', color=nicecolors[i], alpha=1)\n",
    "    plot_scatter(ax, (sim.var_concs), (sim.Tmes),marker='X', color=nicecolors[i])\n",
    "    exp_fitC = lambda x, a, b: a * np.exp(b * x) + sim.y.min() #exp_fit\n",
    "    #fit exponetial and shift\n",
    "    # popt, popc, R2 = plot_fit(ax, (sim.x+shift), (sim.y), exp_fitC, color=nicecolors[i], label = None)\n",
    "    exp_fitC = lambda x, a, b: a * np.exp(b * x) + sim.Tmes.min() #exp_fit\n",
    "    popt, popc, R2 = plot_fit(ax, (sim.var_concs), (sim.Tmes), exp_fitC, color=nicecolors[i], label = None, linestyle='--')\n",
    "\n",
    "    plot_labels(ax, f\"[{indepvar}]$/\\mu$M\", r\"[ATP]/[ATP$_0$]\", f\"{indepvar} kinetics\") #T={sim.T}\n",
    "    plot_lims(ax, sim.x, sim.Tmes, [0,1.55],[0,1])\n",
    "    \n",
    "    \n",
    "    sims[title] = sim\n",
    "plot_ticks(ax, default_ticks=6)\n",
    "# plt.plot([],[], label='$ae^{bx}$ Data fit', color='black')\n",
    "plt.plot([],[], label='$ae^{bx}$ Simulation fit', color='black', linestyle='--')\n",
    "plt.scatter([],[], label='Simulation data', color='black', marker='x', alpha=1)\n",
    "\n",
    "plot_legend(ax, legfts = 9, loc='lower right')\n",
    "name = 'AAP_plot'\n",
    "plt.tight_layout()\n",
    "if save ==True:\n",
    "    plt.savefig(f'{name}.png', dpi=1500)"
   ]
  },
  {
   "cell_type": "markdown",
   "id": "a829dd0e",
   "metadata": {},
   "source": [
    "## FAE"
   ]
  },
  {
   "cell_type": "code",
   "execution_count": 189,
   "id": "99bd6b4a",
   "metadata": {},
   "outputs": [],
   "source": [
    "# define rates and concerntraions\n",
    "rates = {'k1_0': 1*0.002426 , 'k1_c': 0.02, 'k2_0': 50., 'k2_c': 0.0}\n",
    "concs = {'ATP': 2000.0, 'MFA_star0': 0.0, 'MFA': 1.0, 'FAE': 0.0, 'AAP': 0.0}\n",
    "F_KD = 0.35 ; F_n = 4\n",
    "for i, title in enumerate(['FAEmain','FAEsup1','FAEsup2','FAEsup3']):\n",
    "\n",
    "    shift = 0\n",
    "    # load dataset of interest\n",
    "    x, y, indepvar, T = load_dataset(title)\n",
    "    # set the [enzyme] which is varried to array of what it is\n",
    "    concs[indepvar] = x.to_numpy() + shift\n",
    "    concs[indepvar] = np.append(concs[indepvar],0)\n",
    "    # simulation class containing everthing to do with sim\n",
    "    sim = simulation(concs, rates, indepvar) # initialise\n",
    "    sim.x = x; sim.y = y; sim.T = T # add the data to it\n",
    "    sim.sim_over_var() # sim over variable [enzyme]\n",
    "    sim.interpolate(sim.T) # interpolate to find value at specific T\n",
    "\n",
    "    sims[title] = sim"
   ]
  },
  {
   "cell_type": "code",
   "execution_count": 191,
   "id": "b38d88c5",
   "metadata": {},
   "outputs": [
    {
     "data": {
      "text/plain": [
       "4"
      ]
     },
     "execution_count": 191,
     "metadata": {},
     "output_type": "execute_result"
    }
   ],
   "source": [
    "F_n"
   ]
  },
  {
   "cell_type": "code",
   "execution_count": 190,
   "id": "f43fd6a6",
   "metadata": {},
   "outputs": [
    {
     "name": "stderr",
     "output_type": "stream",
     "text": [
      "/Applications/anaconda3/lib/python3.11/site-packages/seaborn/_oldcore.py:1119: FutureWarning:\n",
      "\n",
      "use_inf_as_na option is deprecated and will be removed in a future version. Convert inf values to NaN before operating instead.\n",
      "\n",
      "/Applications/anaconda3/lib/python3.11/site-packages/seaborn/_oldcore.py:1119: FutureWarning:\n",
      "\n",
      "use_inf_as_na option is deprecated and will be removed in a future version. Convert inf values to NaN before operating instead.\n",
      "\n",
      "/Applications/anaconda3/lib/python3.11/site-packages/seaborn/_oldcore.py:1119: FutureWarning:\n",
      "\n",
      "use_inf_as_na option is deprecated and will be removed in a future version. Convert inf values to NaN before operating instead.\n",
      "\n",
      "/Applications/anaconda3/lib/python3.11/site-packages/seaborn/_oldcore.py:1119: FutureWarning:\n",
      "\n",
      "use_inf_as_na option is deprecated and will be removed in a future version. Convert inf values to NaN before operating instead.\n",
      "\n",
      "/Applications/anaconda3/lib/python3.11/site-packages/seaborn/_oldcore.py:1119: FutureWarning:\n",
      "\n",
      "use_inf_as_na option is deprecated and will be removed in a future version. Convert inf values to NaN before operating instead.\n",
      "\n",
      "/Applications/anaconda3/lib/python3.11/site-packages/seaborn/_oldcore.py:1119: FutureWarning:\n",
      "\n",
      "use_inf_as_na option is deprecated and will be removed in a future version. Convert inf values to NaN before operating instead.\n",
      "\n",
      "/Applications/anaconda3/lib/python3.11/site-packages/seaborn/_oldcore.py:1119: FutureWarning:\n",
      "\n",
      "use_inf_as_na option is deprecated and will be removed in a future version. Convert inf values to NaN before operating instead.\n",
      "\n",
      "/Applications/anaconda3/lib/python3.11/site-packages/seaborn/_oldcore.py:1119: FutureWarning:\n",
      "\n",
      "use_inf_as_na option is deprecated and will be removed in a future version. Convert inf values to NaN before operating instead.\n",
      "\n"
     ]
    },
    {
     "data": {
      "image/png": "[encoded data removed]",
      "text/plain": [
       "<Figure size 900x750 with 1 Axes>"
      ]
     },
     "metadata": {},
     "output_type": "display_data"
    }
   ],
   "source": [
    "keff = []\n",
    "fig, ax = plt.subplots(figsize=(6, 5))\n",
    "for i, title in enumerate(['FAEmain','FAEsup1','FAEsup2','FAEsup3']): #'FAEmain',\n",
    "    sim = sims[title]\n",
    "    shift = 0\n",
    "    plot_data(ax,  (sim.x+shift), (sim.y), label=f\"{title}, T={sim.T}\", color=nicecolors[i], alpha=1)\n",
    "    plot_scatter(ax, (sim.var_concs), (sim.Tmes),marker='X', color=nicecolors[i])\n",
    "\n",
    "    #fit exponetial and shift\n",
    "    # popt, popc, R2 = plot_fit(ax, (sim.x+shift), (sim.y), exp_fit, color=nicecolors[i], label = None)\n",
    "    # popt, popc, R2 = plot_fit(ax, (sim.var_concs), (sim.Tmes), exp_fit, color=nicecolors[i], label = None, linestyle='--')\n",
    "\n",
    "    plot_labels(ax, f\"[{indepvar}]$/\\mu$M\", r\"[ATP]/[ATP$_0$]\", f\"{indepvar} kinetics\") #T={sim.T}\n",
    "    plot_lims(ax, sim.x, sim.Tmes, [0,0.55],[0,1])\n",
    "    \n",
    "    \n",
    "    sims[title] = sim\n",
    "plot_ticks(ax, default_ticks=6)\n",
    "# plt.plot([],[], label='$ae^{bx}$ Data fit', color='black')\n",
    "# plt.plot([],[], label='$ae^{bx}$ Simulation fit', color='black', linestyle='--')\n",
    "\n",
    "lin = np.linspace(0, 0.55, 1000)\n",
    "plt.plot(lin, (1-lin**F_n /(lin**F_n + F_KD**F_n)), color='grey', linestyle='--', label = 'Hill Effect')\n",
    "plt.scatter([],[], label='Simulation data', color='black', marker='X', alpha=1)\n",
    "\n",
    "plot_legend(ax, legfts = 9, loc='upper right')\n",
    "\n",
    "name = 'FAE_plot'\n",
    "plt.tight_layout()\n",
    "if save ==True:\n",
    "    plt.savefig(f'{name}.png', dpi=1500)# plt.savefig(f'/content/drive/MyDrive/POBS/figs/{name}.png', dpi=1500)"
   ]
  },
  {
   "cell_type": "markdown",
   "id": "6e7f45b2",
   "metadata": {},
   "source": [
    "## AAP and FAE "
   ]
  },
  {
   "cell_type": "code",
   "execution_count": 158,
   "id": "e3b38623",
   "metadata": {},
   "outputs": [],
   "source": [
    "# 2 uncopled independent variables\n",
    "#Initiation of parameters:\n",
    "\"\"\"\n",
    "rates = {'k1_0': 3.5 * .22428/90 , 'k1_c': 0.04, 'k2_0': 3.5, 'k2_c': 25}\n",
    "concs = {'ATP': 2000.0, 'MFA_star0': 0.0, 'MFA': 1.0, 'FAE': 0.0, 'AAP': 0.0} #matches AAP\n",
    "\n",
    "rates = {'k1_0': 1. * .22428/90 , 'k1_c': 0.04, 'k2_0': 50, 'k2_c': 20}\n",
    "concs = {'ATP': 2000.0, 'MFA_star0': 0.0, 'MFA': 1.0, 'FAE': 0.0, 'AAP': 0.0} #matches FAE\n",
    "\"\"\"\n",
    "rates = {'k1_0': 3.5 * .22428/90 , 'k1_c': 0.4, 'k2_0': 10, 'k2_c': 25}\n",
    "concs = {'ATP': 2000.0, 'MFA_star0': 0.0, 'MFA': 1.0, 'FAE': 0.0, 'AAP': 0.0} #matches both?\n",
    "\n",
    "F_KD = 0.35 ; F_n = 4\n",
    "# load dataset of interest\n",
    "x1, x2, y, indepvar1, indepvar2, T = load_dataset_v2('ALLmain')\n",
    "\n",
    "sim = simulation(concs, rates, indepvar='FAE')   # name ignored here\n",
    "grid = sim.sim_over_two_vars(indepvar1, indepvar2,\n",
    "                             x1, x2,\n",
    "                             t_max=T)\n",
    "\n",
    "# get ATP values from the grid\n",
    "ATP = np.array([[cell['ATP'][-1] for cell in row] for row in grid])\n",
    "\n",
    "x2_mesh, x1_mesh = np.meshgrid(x2, x1)  # note the order for axes\n",
    "\n"
   ]
  },
  {
   "cell_type": "code",
   "execution_count": 177,
   "id": "72d88fb2",
   "metadata": {},
   "outputs": [
    {
     "data": {
      "text/plain": [
       "(16, 16)"
      ]
     },
     "execution_count": 177,
     "metadata": {},
     "output_type": "execute_result"
    }
   ],
   "source": [
    "ATP.shape"
   ]
  },
  {
   "cell_type": "code",
   "execution_count": 165,
   "id": "419c8e42",
   "metadata": {},
   "outputs": [
    {
     "data": {
      "application/vnd.plotly.v1+json": {
       "config": {
        "plotlyServerURL": "https://plot.ly"
       },
       "data": [
        {
         "marker": {
          "color": "royalblue",
          "opacity": 0.8,
          "size": 4
         },
         "mode": "markers",
         "name": "Simulation",
         "textfont": {
          "size": 18
         },
         "type": "scatter3d",
         "x": [
          0,
          0,
          0,
          0,
          0,
          0,
          0,
          0,
          0,
          0,
          0,
          0,
          0,
          0,
          0,
          0,
          0,
          0,
          0,
          0,
          0,
          0,
          0,
          0,
          0,
          0,
          0,
          0,
          0,
          0,
          0,
          0,
          0,
          0,
          0,
          0,
          0,
          0,
          0,
          0,
          0,
          0,
          0,
          0,
          0,
          0,
          0,
          0,
          0,
          0,
          0,
          0,
          0,
          0,
          0,
          0,
          0,
          0,
          0,
          0,
          0,
          0,
          0,
          0,
          0,
          0,
          0,
          0,
          0,
          0,
          0,
          0,
          0,
          0,
          0,
          0,
          0,
          0,
          0,
          0,
          0,
          0,
          0,
          0,
          0,
          0,
          0,
          0,
          0,
          0,
          0,
          0,
          0,
          0,
          0,
          0,
          0,
          0,
          0,
          0,
          0,
          0,
          0,
          0,
          0,
          0,
          0,
          0,
          0,
          0,
          0,
          0,
          0,
          0,
          0,
          0,
          0,
          0,
          0,
          0,
          0,
          0,
          0,
          0,
          0,
          0,
          0,
          0,
          0.25,
          0.25,
          0.25,
          0.25,
          0.25,
          0.25,
          0.25,
          0.25,
          0.25,
          0.25,
          0.25,
          0.25,
          0.25,
          0.25,
          0.25,
          0.25,
          0.5,
          0.5,
          0.5,
          0.5,
          0.5,
          0.5,
          0.5,
          0.5,
          0.5,
          0.5,
          0.5,
          0.5,
          0.5,
          0.5,
          0.5,
          0.5,
          1,
          1,
          1,
          1,
          1,
          1,
          1,
          1,
          1,
          1,
          1,
          1,
          1,
          1,
          1,
          1,
          0.5,
          0.5,
          0.5,
          0.5,
          0.5,
          0.5,
          0.5,
          0.5,
          0.5,
          0.5,
          0.5,
          0.5,
          0.5,
          0.5,
          0.5,
          0.5,
          0.25,
          0.25,
          0.25,
          0.25,
          0.25,
          0.25,
          0.25,
          0.25,
          0.25,
          0.25,
          0.25,
          0.25,
          0.25,
          0.25,
          0.25,
          0.25,
          0.5,
          0.5,
          0.5,
          0.5,
          0.5,
          0.5,
          0.5,
          0.5,
          0.5,
          0.5,
          0.5,
          0.5,
          0.5,
          0.5,
          0.5,
          0.5,
          1,
          1,
          1,
          1,
          1,
          1,
          1,
          1,
          1,
          1,
          1,
          1,
          1,
          1,
          1,
          1,
          0.5,
          0.5,
          0.5,
          0.5,
          0.5,
          0.5,
          0.5,
          0.5,
          0.5,
          0.5,
          0.5,
          0.5,
          0.5,
          0.5,
          0.5,
          0.5
         ],
         "y": [
          0,
          0,
          0,
          0,
          0,
          0.15,
          0.2,
          0.25,
          0,
          0,
          0,
          0.2,
          0.15,
          0.15,
          0.15,
          0.25,
          0,
          0,
          0,
          0,
          0,
          0.15,
          0.2,
          0.25,
          0,
          0,
          0,
          0.2,
          0.15,
          0.15,
          0.15,
          0.25,
          0,
          0,
          0,
          0,
          0,
          0.15,
          0.2,
          0.25,
          0,
          0,
          0,
          0.2,
          0.15,
          0.15,
          0.15,
          0.25,
          0,
          0,
          0,
          0,
          0,
          0.15,
          0.2,
          0.25,
          0,
          0,
          0,
          0.2,
          0.15,
          0.15,
          0.15,
          0.25,
          0,
          0,
          0,
          0,
          0,
          0.15,
          0.2,
          0.25,
          0,
          0,
          0,
          0.2,
          0.15,
          0.15,
          0.15,
          0.25,
          0,
          0,
          0,
          0,
          0,
          0.15,
          0.2,
          0.25,
          0,
          0,
          0,
          0.2,
          0.15,
          0.15,
          0.15,
          0.25,
          0,
          0,
          0,
          0,
          0,
          0.15,
          0.2,
          0.25,
          0,
          0,
          0,
          0.2,
          0.15,
          0.15,
          0.15,
          0.25,
          0,
          0,
          0,
          0,
          0,
          0.15,
          0.2,
          0.25,
          0,
          0,
          0,
          0.2,
          0.15,
          0.15,
          0.15,
          0.25,
          0,
          0,
          0,
          0,
          0,
          0.15,
          0.2,
          0.25,
          0,
          0,
          0,
          0.2,
          0.15,
          0.15,
          0.15,
          0.25,
          0,
          0,
          0,
          0,
          0,
          0.15,
          0.2,
          0.25,
          0,
          0,
          0,
          0.2,
          0.15,
          0.15,
          0.15,
          0.25,
          0,
          0,
          0,
          0,
          0,
          0.15,
          0.2,
          0.25,
          0,
          0,
          0,
          0.2,
          0.15,
          0.15,
          0.15,
          0.25,
          0,
          0,
          0,
          0,
          0,
          0.15,
          0.2,
          0.25,
          0,
          0,
          0,
          0.2,
          0.15,
          0.15,
          0.15,
          0.25,
          0,
          0,
          0,
          0,
          0,
          0.15,
          0.2,
          0.25,
          0,
          0,
          0,
          0.2,
          0.15,
          0.15,
          0.15,
          0.25,
          0,
          0,
          0,
          0,
          0,
          0.15,
          0.2,
          0.25,
          0,
          0,
          0,
          0.2,
          0.15,
          0.15,
          0.15,
          0.25,
          0,
          0,
          0,
          0,
          0,
          0.15,
          0.2,
          0.25,
          0,
          0,
          0,
          0.2,
          0.15,
          0.15,
          0.15,
          0.25,
          0,
          0,
          0,
          0,
          0,
          0.15,
          0.2,
          0.25,
          0,
          0,
          0,
          0.2,
          0.15,
          0.15,
          0.15,
          0.25
         ],
         "z": [
          0.7668755461116039,
          0.7668755461116039,
          0.7668755461116039,
          0.7668755461116039,
          0.7668755461116039,
          0.6973809372895394,
          0.6587317026554271,
          0.6390508837063273,
          0.7668755461116039,
          0.7668755461116039,
          0.7668755461116039,
          0.6587317026554271,
          0.6973809372895394,
          0.6973809372895394,
          0.6973809372895394,
          0.6390508837063273,
          0.7668755461116039,
          0.7668755461116039,
          0.7668755461116039,
          0.7668755461116039,
          0.7668755461116039,
          0.6973809372895394,
          0.6587317026554271,
          0.6390508837063273,
          0.7668755461116039,
          0.7668755461116039,
          0.7668755461116039,
          0.6587317026554271,
          0.6973809372895394,
          0.6973809372895394,
          0.6973809372895394,
          0.6390508837063273,
          0.7668755461116039,
          0.7668755461116039,
          0.7668755461116039,
          0.7668755461116039,
          0.7668755461116039,
          0.6973809372895394,
          0.6587317026554271,
          0.6390508837063273,
          0.7668755461116039,
          0.7668755461116039,
          0.7668755461116039,
          0.6587317026554271,
          0.6973809372895394,
          0.6973809372895394,
          0.6973809372895394,
          0.6390508837063273,
          0.7668755461116039,
          0.7668755461116039,
          0.7668755461116039,
          0.7668755461116039,
          0.7668755461116039,
          0.6973809372895394,
          0.6587317026554271,
          0.6390508837063273,
          0.7668755461116039,
          0.7668755461116039,
          0.7668755461116039,
          0.6587317026554271,
          0.6973809372895394,
          0.6973809372895394,
          0.6973809372895394,
          0.6390508837063273,
          0.7668755461116039,
          0.7668755461116039,
          0.7668755461116039,
          0.7668755461116039,
          0.7668755461116039,
          0.6973809372895394,
          0.6587317026554271,
          0.6390508837063273,
          0.7668755461116039,
          0.7668755461116039,
          0.7668755461116039,
          0.6587317026554271,
          0.6973809372895394,
          0.6973809372895394,
          0.6973809372895394,
          0.6390508837063273,
          0.7668755461116039,
          0.7668755461116039,
          0.7668755461116039,
          0.7668755461116039,
          0.7668755461116039,
          0.6973809372895394,
          0.6587317026554271,
          0.6390508837063273,
          0.7668755461116039,
          0.7668755461116039,
          0.7668755461116039,
          0.6587317026554271,
          0.6973809372895394,
          0.6973809372895394,
          0.6973809372895394,
          0.6390508837063273,
          0.7668755461116039,
          0.7668755461116039,
          0.7668755461116039,
          0.7668755461116039,
          0.7668755461116039,
          0.6973809372895394,
          0.6587317026554271,
          0.6390508837063273,
          0.7668755461116039,
          0.7668755461116039,
          0.7668755461116039,
          0.6587317026554271,
          0.6973809372895394,
          0.6973809372895394,
          0.6973809372895394,
          0.6390508837063273,
          0.7668755461116039,
          0.7668755461116039,
          0.7668755461116039,
          0.7668755461116039,
          0.7668755461116039,
          0.6973809372895394,
          0.6587317026554271,
          0.6390508837063273,
          0.7668755461116039,
          0.7668755461116039,
          0.7668755461116039,
          0.6587317026554271,
          0.6973809372895394,
          0.6973809372895394,
          0.6973809372895394,
          0.6390508837063273,
          0.7027581574315179,
          0.7027581574315179,
          0.7027581574315179,
          0.7027581574315179,
          0.7027581574315179,
          0.5783690014452564,
          0.49492146182363533,
          0.44581899171864015,
          0.7027581574315179,
          0.7027581574315179,
          0.7027581574315179,
          0.49492146182363533,
          0.5783690014452564,
          0.5783690014452564,
          0.5783690014452564,
          0.44581899171864015,
          0.6632308261389197,
          0.6632308261389197,
          0.6632308261389197,
          0.6632308261389197,
          0.6632308261389197,
          0.49587823514559026,
          0.3700692872334515,
          0.28710248759456686,
          0.6632308261389197,
          0.6632308261389197,
          0.6632308261389197,
          0.3700692872334515,
          0.49587823514559026,
          0.49587823514559026,
          0.49587823514559026,
          0.28710248759456686,
          0.6180013950273697,
          0.6180013950273697,
          0.6180013950273697,
          0.6180013950273697,
          0.6180013950273697,
          0.39625668284046045,
          0.2173875106546195,
          0.09778416046686851,
          0.6180013950273697,
          0.6180013950273697,
          0.6180013950273697,
          0.2173875106546195,
          0.39625668284046045,
          0.39625668284046045,
          0.39625668284046045,
          0.09778416046686851,
          0.6632308261389197,
          0.6632308261389197,
          0.6632308261389197,
          0.6632308261389197,
          0.6632308261389197,
          0.49587823514559026,
          0.3700692872334515,
          0.28710248759456686,
          0.6632308261389197,
          0.6632308261389197,
          0.6632308261389197,
          0.3700692872334515,
          0.49587823514559026,
          0.49587823514559026,
          0.49587823514559026,
          0.28710248759456686,
          0.7027581574315179,
          0.7027581574315179,
          0.7027581574315179,
          0.7027581574315179,
          0.7027581574315179,
          0.5783690014452564,
          0.49492146182363533,
          0.44581899171864015,
          0.7027581574315179,
          0.7027581574315179,
          0.7027581574315179,
          0.49492146182363533,
          0.5783690014452564,
          0.5783690014452564,
          0.5783690014452564,
          0.44581899171864015,
          0.6632308261389197,
          0.6632308261389197,
          0.6632308261389197,
          0.6632308261389197,
          0.6632308261389197,
          0.49587823514559026,
          0.3700692872334515,
          0.28710248759456686,
          0.6632308261389197,
          0.6632308261389197,
          0.6632308261389197,
          0.3700692872334515,
          0.49587823514559026,
          0.49587823514559026,
          0.49587823514559026,
          0.28710248759456686,
          0.6180013950273697,
          0.6180013950273697,
          0.6180013950273697,
          0.6180013950273697,
          0.6180013950273697,
          0.39625668284046045,
          0.2173875106546195,
          0.09778416046686851,
          0.6180013950273697,
          0.6180013950273697,
          0.6180013950273697,
          0.2173875106546195,
          0.39625668284046045,
          0.39625668284046045,
          0.39625668284046045,
          0.09778416046686851,
          0.6632308261389197,
          0.6632308261389197,
          0.6632308261389197,
          0.6632308261389197,
          0.6632308261389197,
          0.49587823514559026,
          0.3700692872334515,
          0.28710248759456686,
          0.6632308261389197,
          0.6632308261389197,
          0.6632308261389197,
          0.3700692872334515,
          0.49587823514559026,
          0.49587823514559026,
          0.49587823514559026,
          0.28710248759456686
         ]
        },
        {
         "marker": {
          "color": "darkorange",
          "opacity": 0.8,
          "size": 4
         },
         "mode": "markers",
         "name": "Data",
         "textfont": {
          "size": 18
         },
         "type": "scatter3d",
         "x": [
          0,
          0,
          0,
          0,
          0,
          0,
          0,
          0,
          0.25,
          0.5,
          1,
          0.5,
          0.25,
          0.5,
          1,
          0.5
         ],
         "y": [
          0,
          0,
          0,
          0,
          0,
          0.15,
          0.2,
          0.25,
          0,
          0,
          0,
          0.2,
          0.15,
          0.15,
          0.15,
          0.25
         ],
         "z": [
          1.0714268881819253,
          1.07960410038883,
          0.9439692078080201,
          0.9049998036212246,
          0.8750716782530145,
          0.743513609049134,
          0.5513137740073053,
          0.5230980715604258,
          0.6939711715957739,
          0.6537056674914575,
          0.6241153136169043,
          0.16000942618121833,
          0.43211971250147285,
          0.2773575271984604,
          0.17293900475236637,
          0.09624916539020463
         ]
        }
       ],
       "layout": {
        "margin": {
         "b": 0,
         "l": 0,
         "r": 0,
         "t": 40
        },
        "scene": {
         "aspectmode": "cube",
         "camera": {
          "center": {
           "x": 0,
           "y": 0,
           "z": -0.2
          },
          "eye": {
           "x": 1.5,
           "y": 1.5,
           "z": 0.5
          },
          "up": {
           "x": 0,
           "y": 0,
           "z": 1
          }
         },
         "xaxis": {
          "title": {
           "text": "[AAP] (µM)"
          }
         },
         "yaxis": {
          "title": {
           "text": "[FAE] (µM)"
          }
         },
         "zaxis": {
          "title": {
           "text": "[ATP] / [ATP]₀"
          }
         }
        },
        "template": {
         "data": {
          "bar": [
           {
            "error_x": {
             "color": "#2a3f5f"
            },
            "error_y": {
             "color": "#2a3f5f"
            },
            "marker": {
             "line": {
              "color": "#E5ECF6",
              "width": 0.5
             },
             "pattern": {
              "fillmode": "overlay",
              "size": 10,
              "solidity": 0.2
             }
            },
            "type": "bar"
           }
          ],
          "barpolar": [
           {
            "marker": {
             "line": {
              "color": "#E5ECF6",
              "width": 0.5
             },
             "pattern": {
              "fillmode": "overlay",
              "size": 10,
              "solidity": 0.2
             }
            },
            "type": "barpolar"
           }
          ],
          "carpet": [
           {
            "aaxis": {
             "endlinecolor": "#2a3f5f",
             "gridcolor": "white",
             "linecolor": "white",
             "minorgridcolor": "white",
             "startlinecolor": "#2a3f5f"
            },
            "baxis": {
             "endlinecolor": "#2a3f5f",
             "gridcolor": "white",
             "linecolor": "white",
             "minorgridcolor": "white",
             "startlinecolor": "#2a3f5f"
            },
            "type": "carpet"
           }
          ],
          "choropleth": [
           {
            "colorbar": {
             "outlinewidth": 0,
             "ticks": ""
            },
            "type": "choropleth"
           }
          ],
          "contour": [
           {
            "colorbar": {
             "outlinewidth": 0,
             "ticks": ""
            },
            "colorscale": [
             [
              0,
              "#0d0887"
             ],
             [
              0.1111111111111111,
              "#46039f"
             ],
             [
              0.2222222222222222,
              "#7201a8"
             ],
             [
              0.3333333333333333,
              "#9c179e"
             ],
             [
              0.4444444444444444,
              "#bd3786"
             ],
             [
              0.5555555555555556,
              "#d8576b"
             ],
             [
              0.6666666666666666,
              "#ed7953"
             ],
             [
              0.7777777777777778,
              "#fb9f3a"
             ],
             [
              0.8888888888888888,
              "#fdca26"
             ],
             [
              1,
              "#f0f921"
             ]
            ],
            "type": "contour"
           }
          ],
          "contourcarpet": [
           {
            "colorbar": {
             "outlinewidth": 0,
             "ticks": ""
            },
            "type": "contourcarpet"
           }
          ],
          "heatmap": [
           {
            "colorbar": {
             "outlinewidth": 0,
             "ticks": ""
            },
            "colorscale": [
             [
              0,
              "#0d0887"
             ],
             [
              0.1111111111111111,
              "#46039f"
             ],
             [
              0.2222222222222222,
              "#7201a8"
             ],
             [
              0.3333333333333333,
              "#9c179e"
             ],
             [
              0.4444444444444444,
              "#bd3786"
             ],
             [
              0.5555555555555556,
              "#d8576b"
             ],
             [
              0.6666666666666666,
              "#ed7953"
             ],
             [
              0.7777777777777778,
              "#fb9f3a"
             ],
             [
              0.8888888888888888,
              "#fdca26"
             ],
             [
              1,
              "#f0f921"
             ]
            ],
            "type": "heatmap"
           }
          ],
          "heatmapgl": [
           {
            "colorbar": {
             "outlinewidth": 0,
             "ticks": ""
            },
            "colorscale": [
             [
              0,
              "#0d0887"
             ],
             [
              0.1111111111111111,
              "#46039f"
             ],
             [
              0.2222222222222222,
              "#7201a8"
             ],
             [
              0.3333333333333333,
              "#9c179e"
             ],
             [
              0.4444444444444444,
              "#bd3786"
             ],
             [
              0.5555555555555556,
              "#d8576b"
             ],
             [
              0.6666666666666666,
              "#ed7953"
             ],
             [
              0.7777777777777778,
              "#fb9f3a"
             ],
             [
              0.8888888888888888,
              "#fdca26"
             ],
             [
              1,
              "#f0f921"
             ]
            ],
            "type": "heatmapgl"
           }
          ],
          "histogram": [
           {
            "marker": {
             "pattern": {
              "fillmode": "overlay",
              "size": 10,
              "solidity": 0.2
             }
            },
            "type": "histogram"
           }
          ],
          "histogram2d": [
           {
            "colorbar": {
             "outlinewidth": 0,
             "ticks": ""
            },
            "colorscale": [
             [
              0,
              "#0d0887"
             ],
             [
              0.1111111111111111,
              "#46039f"
             ],
             [
              0.2222222222222222,
              "#7201a8"
             ],
             [
              0.3333333333333333,
              "#9c179e"
             ],
             [
              0.4444444444444444,
              "#bd3786"
             ],
             [
              0.5555555555555556,
              "#d8576b"
             ],
             [
              0.6666666666666666,
              "#ed7953"
             ],
             [
              0.7777777777777778,
              "#fb9f3a"
             ],
             [
              0.8888888888888888,
              "#fdca26"
             ],
             [
              1,
              "#f0f921"
             ]
            ],
            "type": "histogram2d"
           }
          ],
          "histogram2dcontour": [
           {
            "colorbar": {
             "outlinewidth": 0,
             "ticks": ""
            },
            "colorscale": [
             [
              0,
              "#0d0887"
             ],
             [
              0.1111111111111111,
              "#46039f"
             ],
             [
              0.2222222222222222,
              "#7201a8"
             ],
             [
              0.3333333333333333,
              "#9c179e"
             ],
             [
              0.4444444444444444,
              "#bd3786"
             ],
             [
              0.5555555555555556,
              "#d8576b"
             ],
             [
              0.6666666666666666,
              "#ed7953"
             ],
             [
              0.7777777777777778,
              "#fb9f3a"
             ],
             [
              0.8888888888888888,
              "#fdca26"
             ],
             [
              1,
              "#f0f921"
             ]
            ],
            "type": "histogram2dcontour"
           }
          ],
          "mesh3d": [
           {
            "colorbar": {
             "outlinewidth": 0,
             "ticks": ""
            },
            "type": "mesh3d"
           }
          ],
          "parcoords": [
           {
            "line": {
             "colorbar": {
              "outlinewidth": 0,
              "ticks": ""
             }
            },
            "type": "parcoords"
           }
          ],
          "pie": [
           {
            "automargin": true,
            "type": "pie"
           }
          ],
          "scatter": [
           {
            "fillpattern": {
             "fillmode": "overlay",
             "size": 10,
             "solidity": 0.2
            },
            "type": "scatter"
           }
          ],
          "scatter3d": [
           {
            "line": {
             "colorbar": {
              "outlinewidth": 0,
              "ticks": ""
             }
            },
            "marker": {
             "colorbar": {
              "outlinewidth": 0,
              "ticks": ""
             }
            },
            "type": "scatter3d"
           }
          ],
          "scattercarpet": [
           {
            "marker": {
             "colorbar": {
              "outlinewidth": 0,
              "ticks": ""
             }
            },
            "type": "scattercarpet"
           }
          ],
          "scattergeo": [
           {
            "marker": {
             "colorbar": {
              "outlinewidth": 0,
              "ticks": ""
             }
            },
            "type": "scattergeo"
           }
          ],
          "scattergl": [
           {
            "marker": {
             "colorbar": {
              "outlinewidth": 0,
              "ticks": ""
             }
            },
            "type": "scattergl"
           }
          ],
          "scattermapbox": [
           {
            "marker": {
             "colorbar": {
              "outlinewidth": 0,
              "ticks": ""
             }
            },
            "type": "scattermapbox"
           }
          ],
          "scatterpolar": [
           {
            "marker": {
             "colorbar": {
              "outlinewidth": 0,
              "ticks": ""
             }
            },
            "type": "scatterpolar"
           }
          ],
          "scatterpolargl": [
           {
            "marker": {
             "colorbar": {
              "outlinewidth": 0,
              "ticks": ""
             }
            },
            "type": "scatterpolargl"
           }
          ],
          "scatterternary": [
           {
            "marker": {
             "colorbar": {
              "outlinewidth": 0,
              "ticks": ""
             }
            },
            "type": "scatterternary"
           }
          ],
          "surface": [
           {
            "colorbar": {
             "outlinewidth": 0,
             "ticks": ""
            },
            "colorscale": [
             [
              0,
              "#0d0887"
             ],
             [
              0.1111111111111111,
              "#46039f"
             ],
             [
              0.2222222222222222,
              "#7201a8"
             ],
             [
              0.3333333333333333,
              "#9c179e"
             ],
             [
              0.4444444444444444,
              "#bd3786"
             ],
             [
              0.5555555555555556,
              "#d8576b"
             ],
             [
              0.6666666666666666,
              "#ed7953"
             ],
             [
              0.7777777777777778,
              "#fb9f3a"
             ],
             [
              0.8888888888888888,
              "#fdca26"
             ],
             [
              1,
              "#f0f921"
             ]
            ],
            "type": "surface"
           }
          ],
          "table": [
           {
            "cells": {
             "fill": {
              "color": "#EBF0F8"
             },
             "line": {
              "color": "white"
             }
            },
            "header": {
             "fill": {
              "color": "#C8D4E3"
             },
             "line": {
              "color": "white"
             }
            },
            "type": "table"
           }
          ]
         },
         "layout": {
          "annotationdefaults": {
           "arrowcolor": "#2a3f5f",
           "arrowhead": 0,
           "arrowwidth": 1
          },
          "autotypenumbers": "strict",
          "coloraxis": {
           "colorbar": {
            "outlinewidth": 0,
            "ticks": ""
           }
          },
          "colorscale": {
           "diverging": [
            [
             0,
             "#8e0152"
            ],
            [
             0.1,
             "#c51b7d"
            ],
            [
             0.2,
             "#de77ae"
            ],
            [
             0.3,
             "#f1b6da"
            ],
            [
             0.4,
             "#fde0ef"
            ],
            [
             0.5,
             "#f7f7f7"
            ],
            [
             0.6,
             "#e6f5d0"
            ],
            [
             0.7,
             "#b8e186"
            ],
            [
             0.8,
             "#7fbc41"
            ],
            [
             0.9,
             "#4d9221"
            ],
            [
             1,
             "#276419"
            ]
           ],
           "sequential": [
            [
             0,
             "#0d0887"
            ],
            [
             0.1111111111111111,
             "#46039f"
            ],
            [
             0.2222222222222222,
             "#7201a8"
            ],
            [
             0.3333333333333333,
             "#9c179e"
            ],
            [
             0.4444444444444444,
             "#bd3786"
            ],
            [
             0.5555555555555556,
             "#d8576b"
            ],
            [
             0.6666666666666666,
             "#ed7953"
            ],
            [
             0.7777777777777778,
             "#fb9f3a"
            ],
            [
             0.8888888888888888,
             "#fdca26"
            ],
            [
             1,
             "#f0f921"
            ]
           ],
           "sequentialminus": [
            [
             0,
             "#0d0887"
            ],
            [
             0.1111111111111111,
             "#46039f"
            ],
            [
             0.2222222222222222,
             "#7201a8"
            ],
            [
             0.3333333333333333,
             "#9c179e"
            ],
            [
             0.4444444444444444,
             "#bd3786"
            ],
            [
             0.5555555555555556,
             "#d8576b"
            ],
            [
             0.6666666666666666,
             "#ed7953"
            ],
            [
             0.7777777777777778,
             "#fb9f3a"
            ],
            [
             0.8888888888888888,
             "#fdca26"
            ],
            [
             1,
             "#f0f921"
            ]
           ]
          },
          "colorway": [
           "#636efa",
           "#EF553B",
           "#00cc96",
           "#ab63fa",
           "#FFA15A",
           "#19d3f3",
           "#FF6692",
           "#B6E880",
           "#FF97FF",
           "#FECB52"
          ],
          "font": {
           "color": "#2a3f5f"
          },
          "geo": {
           "bgcolor": "white",
           "lakecolor": "white",
           "landcolor": "#E5ECF6",
           "showlakes": true,
           "showland": true,
           "subunitcolor": "white"
          },
          "hoverlabel": {
           "align": "left"
          },
          "hovermode": "closest",
          "mapbox": {
           "style": "light"
          },
          "paper_bgcolor": "white",
          "plot_bgcolor": "#E5ECF6",
          "polar": {
           "angularaxis": {
            "gridcolor": "white",
            "linecolor": "white",
            "ticks": ""
           },
           "bgcolor": "#E5ECF6",
           "radialaxis": {
            "gridcolor": "white",
            "linecolor": "white",
            "ticks": ""
           }
          },
          "scene": {
           "xaxis": {
            "backgroundcolor": "#E5ECF6",
            "gridcolor": "white",
            "gridwidth": 2,
            "linecolor": "white",
            "showbackground": true,
            "ticks": "",
            "zerolinecolor": "white"
           },
           "yaxis": {
            "backgroundcolor": "#E5ECF6",
            "gridcolor": "white",
            "gridwidth": 2,
            "linecolor": "white",
            "showbackground": true,
            "ticks": "",
            "zerolinecolor": "white"
           },
           "zaxis": {
            "backgroundcolor": "#E5ECF6",
            "gridcolor": "white",
            "gridwidth": 2,
            "linecolor": "white",
            "showbackground": true,
            "ticks": "",
            "zerolinecolor": "white"
           }
          },
          "shapedefaults": {
           "line": {
            "color": "#2a3f5f"
           }
          },
          "ternary": {
           "aaxis": {
            "gridcolor": "white",
            "linecolor": "white",
            "ticks": ""
           },
           "baxis": {
            "gridcolor": "white",
            "linecolor": "white",
            "ticks": ""
           },
           "bgcolor": "#E5ECF6",
           "caxis": {
            "gridcolor": "white",
            "linecolor": "white",
            "ticks": ""
           }
          },
          "title": {
           "x": 0.05
          },
          "xaxis": {
           "automargin": true,
           "gridcolor": "white",
           "linecolor": "white",
           "ticks": "",
           "title": {
            "standoff": 15
           },
           "zerolinecolor": "white",
           "zerolinewidth": 2
          },
          "yaxis": {
           "automargin": true,
           "gridcolor": "white",
           "linecolor": "white",
           "ticks": "",
           "title": {
            "standoff": 15
           },
           "zerolinecolor": "white",
           "zerolinewidth": 2
          }
         }
        },
        "title": {
         "text": "FAEsup1"
        }
       }
      }
     },
     "metadata": {},
     "output_type": "display_data"
    }
   ],
   "source": [
    "import plotly.graph_objects as go\n",
    "import numpy as np\n",
    "\n",
    "# x1, x2, ATP are 2D arrays\n",
    "x2_mesh, x1_mesh = np.meshgrid(x2, x1)\n",
    "\n",
    "# Flatten all arrays for scatter plot\n",
    "x_vals = x1_mesh.flatten()  # [FAE] (µM)\n",
    "y_vals = x2_mesh.flatten()  # [AAP] (µM)\n",
    "z_vals = ATP.flatten()    # [ATP]/[ATP]₀ at T=90 s\n",
    "\n",
    "# Create the 3D scatter plot\n",
    "fig = go.Figure(data=[go.Scatter3d(\n",
    "    x=x_vals,\n",
    "    y=y_vals,\n",
    "    z=z_vals,\n",
    "    name = 'Simulation',\n",
    "    mode='markers',\n",
    "    marker=dict(\n",
    "        size=4,\n",
    "        color=nicecolors[0],  # Color by ATP value\n",
    "        opacity=0.8\n",
    "    )\n",
    ")])\n",
    "\n",
    "# Add another trace without overwriting the original\n",
    "fig.add_trace(go.Scatter3d(\n",
    "    x=x1,\n",
    "    y=x2,\n",
    "    z=y,\n",
    "    name = 'Data',\n",
    "    mode='markers',\n",
    "    marker=dict(\n",
    "        size=4,\n",
    "        color=nicecolors[1],  # Color by ATP90 value\n",
    "        opacity=0.8\n",
    "    )\n",
    "))\n",
    "\n",
    "\n",
    "# Update layout for better visualization\n",
    "fig.update_layout(\n",
    "    title = title,\n",
    "    scene=dict(\n",
    "        xaxis_title=f'[{indepvar1}] (µM)',\n",
    "        yaxis_title=f'[{indepvar2}] (µM)',\n",
    "        zaxis_title='[ATP] / [ATP]₀',\n",
    "        aspectmode='cube',\n",
    "        \n",
    "    ),\n",
    "    margin=dict(l=0, r=0, b=0, t=40),  # Remove extra padding\n",
    ")\n",
    "\n",
    "camera = dict(\n",
    "    up=dict(x=0, y=0, z=1),\n",
    "    center=dict(x=0, y=0, z=-0.2),\n",
    "    eye=dict(x=1.5, y=1.5, z=.5)\n",
    ")\n",
    "\n",
    "fig.update_layout(scene_camera=camera)\n",
    "fig.update_traces(textfont=dict(size=18))\n",
    "# fig.write_image(\"2var3D.png\")  # Increase scale for higher resolution\n",
    "\n",
    "fig.show()"
   ]
  },
  {
   "cell_type": "code",
   "execution_count": 168,
   "id": "fa58e6b4",
   "metadata": {},
   "outputs": [
    {
     "data": {
      "text/plain": [
       "array([0.76687555, 0.76687555, 0.76687555, 0.76687555, 0.76687555,\n",
       "       0.69738094, 0.6587317 , 0.63905088, 0.76687555, 0.76687555,\n",
       "       0.76687555, 0.6587317 , 0.69738094, 0.69738094, 0.69738094,\n",
       "       0.63905088, 0.76687555, 0.76687555, 0.76687555, 0.76687555,\n",
       "       0.76687555, 0.69738094, 0.6587317 , 0.63905088, 0.76687555,\n",
       "       0.76687555, 0.76687555, 0.6587317 , 0.69738094, 0.69738094,\n",
       "       0.69738094, 0.63905088, 0.76687555, 0.76687555, 0.76687555,\n",
       "       0.76687555, 0.76687555, 0.69738094, 0.6587317 , 0.63905088,\n",
       "       0.76687555, 0.76687555, 0.76687555, 0.6587317 , 0.69738094,\n",
       "       0.69738094, 0.69738094, 0.63905088, 0.76687555, 0.76687555,\n",
       "       0.76687555, 0.76687555, 0.76687555, 0.69738094, 0.6587317 ,\n",
       "       0.63905088, 0.76687555, 0.76687555, 0.76687555, 0.6587317 ,\n",
       "       0.69738094, 0.69738094, 0.69738094, 0.63905088, 0.76687555,\n",
       "       0.76687555, 0.76687555, 0.76687555, 0.76687555, 0.69738094,\n",
       "       0.6587317 , 0.63905088, 0.76687555, 0.76687555, 0.76687555,\n",
       "       0.6587317 , 0.69738094, 0.69738094, 0.69738094, 0.63905088,\n",
       "       0.76687555, 0.76687555, 0.76687555, 0.76687555, 0.76687555,\n",
       "       0.69738094, 0.6587317 , 0.63905088, 0.76687555, 0.76687555,\n",
       "       0.76687555, 0.6587317 , 0.69738094, 0.69738094, 0.69738094,\n",
       "       0.63905088, 0.76687555, 0.76687555, 0.76687555, 0.76687555,\n",
       "       0.76687555, 0.69738094, 0.6587317 , 0.63905088, 0.76687555,\n",
       "       0.76687555, 0.76687555, 0.6587317 , 0.69738094, 0.69738094,\n",
       "       0.69738094, 0.63905088, 0.76687555, 0.76687555, 0.76687555,\n",
       "       0.76687555, 0.76687555, 0.69738094, 0.6587317 , 0.63905088,\n",
       "       0.76687555, 0.76687555, 0.76687555, 0.6587317 , 0.69738094,\n",
       "       0.69738094, 0.69738094, 0.63905088, 0.70275816, 0.70275816,\n",
       "       0.70275816, 0.70275816, 0.70275816, 0.578369  , 0.49492146,\n",
       "       0.44581899, 0.70275816, 0.70275816, 0.70275816, 0.49492146,\n",
       "       0.578369  , 0.578369  , 0.578369  , 0.44581899, 0.66323083,\n",
       "       0.66323083, 0.66323083, 0.66323083, 0.66323083, 0.49587824,\n",
       "       0.37006929, 0.28710249, 0.66323083, 0.66323083, 0.66323083,\n",
       "       0.37006929, 0.49587824, 0.49587824, 0.49587824, 0.28710249,\n",
       "       0.6180014 , 0.6180014 , 0.6180014 , 0.6180014 , 0.6180014 ,\n",
       "       0.39625668, 0.21738751, 0.09778416, 0.6180014 , 0.6180014 ,\n",
       "       0.6180014 , 0.21738751, 0.39625668, 0.39625668, 0.39625668,\n",
       "       0.09778416, 0.66323083, 0.66323083, 0.66323083, 0.66323083,\n",
       "       0.66323083, 0.49587824, 0.37006929, 0.28710249, 0.66323083,\n",
       "       0.66323083, 0.66323083, 0.37006929, 0.49587824, 0.49587824,\n",
       "       0.49587824, 0.28710249, 0.70275816, 0.70275816, 0.70275816,\n",
       "       0.70275816, 0.70275816, 0.578369  , 0.49492146, 0.44581899,\n",
       "       0.70275816, 0.70275816, 0.70275816, 0.49492146, 0.578369  ,\n",
       "       0.578369  , 0.578369  , 0.44581899, 0.66323083, 0.66323083,\n",
       "       0.66323083, 0.66323083, 0.66323083, 0.49587824, 0.37006929,\n",
       "       0.28710249, 0.66323083, 0.66323083, 0.66323083, 0.37006929,\n",
       "       0.49587824, 0.49587824, 0.49587824, 0.28710249, 0.6180014 ,\n",
       "       0.6180014 , 0.6180014 , 0.6180014 , 0.6180014 , 0.39625668,\n",
       "       0.21738751, 0.09778416, 0.6180014 , 0.6180014 , 0.6180014 ,\n",
       "       0.21738751, 0.39625668, 0.39625668, 0.39625668, 0.09778416,\n",
       "       0.66323083, 0.66323083, 0.66323083, 0.66323083, 0.66323083,\n",
       "       0.49587824, 0.37006929, 0.28710249, 0.66323083, 0.66323083,\n",
       "       0.66323083, 0.37006929, 0.49587824, 0.49587824, 0.49587824,\n",
       "       0.28710249])"
      ]
     },
     "execution_count": 168,
     "metadata": {},
     "output_type": "execute_result"
    }
   ],
   "source": [
    "z_vals"
   ]
  },
  {
   "cell_type": "code",
   "execution_count": 171,
   "id": "b2abeafe",
   "metadata": {},
   "outputs": [
    {
     "data": {
      "text/plain": [
       "array([0.  , 0.  , 0.  , 0.  , 0.  , 0.  , 0.  , 0.  , 0.  , 0.  , 0.  ,\n",
       "       0.  , 0.  , 0.  , 0.  , 0.  , 0.  , 0.  , 0.  , 0.  , 0.  , 0.  ,\n",
       "       0.  , 0.  , 0.  , 0.  , 0.  , 0.  , 0.  , 0.  , 0.  , 0.  , 0.  ,\n",
       "       0.  , 0.  , 0.  , 0.  , 0.  , 0.  , 0.  , 0.  , 0.  , 0.  , 0.  ,\n",
       "       0.  , 0.  , 0.  , 0.  , 0.  , 0.  , 0.  , 0.  , 0.  , 0.  , 0.  ,\n",
       "       0.  , 0.  , 0.  , 0.  , 0.  , 0.  , 0.  , 0.  , 0.  , 0.  , 0.  ,\n",
       "       0.  , 0.  , 0.  , 0.  , 0.  , 0.  , 0.  , 0.  , 0.  , 0.  , 0.  ,\n",
       "       0.  , 0.  , 0.  , 0.  , 0.  , 0.  , 0.  , 0.  , 0.  , 0.  , 0.  ,\n",
       "       0.  , 0.  , 0.  , 0.  , 0.  , 0.  , 0.  , 0.  , 0.  , 0.  , 0.  ,\n",
       "       0.  , 0.  , 0.  , 0.  , 0.  , 0.  , 0.  , 0.  , 0.  , 0.  , 0.  ,\n",
       "       0.  , 0.  , 0.  , 0.  , 0.  , 0.  , 0.  , 0.  , 0.  , 0.  , 0.  ,\n",
       "       0.  , 0.  , 0.  , 0.  , 0.  , 0.  , 0.  , 0.25, 0.25, 0.25, 0.25,\n",
       "       0.25, 0.25, 0.25, 0.25, 0.25, 0.25, 0.25, 0.25, 0.25, 0.25, 0.25,\n",
       "       0.25, 0.5 , 0.5 , 0.5 , 0.5 , 0.5 , 0.5 , 0.5 , 0.5 , 0.5 , 0.5 ,\n",
       "       0.5 , 0.5 , 0.5 , 0.5 , 0.5 , 0.5 , 1.  , 1.  , 1.  , 1.  , 1.  ,\n",
       "       1.  , 1.  , 1.  , 1.  , 1.  , 1.  , 1.  , 1.  , 1.  , 1.  , 1.  ,\n",
       "       0.5 , 0.5 , 0.5 , 0.5 , 0.5 , 0.5 , 0.5 , 0.5 , 0.5 , 0.5 , 0.5 ,\n",
       "       0.5 , 0.5 , 0.5 , 0.5 , 0.5 , 0.25, 0.25, 0.25, 0.25, 0.25, 0.25,\n",
       "       0.25, 0.25, 0.25, 0.25, 0.25, 0.25, 0.25, 0.25, 0.25, 0.25, 0.5 ,\n",
       "       0.5 , 0.5 , 0.5 , 0.5 , 0.5 , 0.5 , 0.5 , 0.5 , 0.5 , 0.5 , 0.5 ,\n",
       "       0.5 , 0.5 , 0.5 , 0.5 , 1.  , 1.  , 1.  , 1.  , 1.  , 1.  , 1.  ,\n",
       "       1.  , 1.  , 1.  , 1.  , 1.  , 1.  , 1.  , 1.  , 1.  , 0.5 , 0.5 ,\n",
       "       0.5 , 0.5 , 0.5 , 0.5 , 0.5 , 0.5 , 0.5 , 0.5 , 0.5 , 0.5 , 0.5 ,\n",
       "       0.5 , 0.5 , 0.5 ])"
      ]
     },
     "execution_count": 171,
     "metadata": {},
     "output_type": "execute_result"
    }
   ],
   "source": [
    "x_vals"
   ]
  },
  {
   "cell_type": "code",
   "execution_count": 170,
   "id": "fc12d259",
   "metadata": {},
   "outputs": [
    {
     "data": {
      "application/vnd.plotly.v1+json": {
       "config": {
        "plotlyServerURL": "https://plot.ly"
       },
       "data": [
        {
         "colorbar": {
          "title": {
           "text": "[ATP]/[ATP]₀"
          }
         },
         "colorscale": [
          [
           0,
           "#440154"
          ],
          [
           0.1111111111111111,
           "#482878"
          ],
          [
           0.2222222222222222,
           "#3e4989"
          ],
          [
           0.3333333333333333,
           "#31688e"
          ],
          [
           0.4444444444444444,
           "#26828e"
          ],
          [
           0.5555555555555556,
           "#1f9e89"
          ],
          [
           0.6666666666666666,
           "#35b779"
          ],
          [
           0.7777777777777778,
           "#6ece58"
          ],
          [
           0.8888888888888888,
           "#b5de2b"
          ],
          [
           1,
           "#fde725"
          ]
         ],
         "type": "heatmap",
         "x": [
          0,
          0,
          0,
          0,
          0,
          0,
          0,
          0,
          0,
          0,
          0,
          0,
          0,
          0,
          0,
          0,
          0,
          0,
          0,
          0,
          0,
          0,
          0,
          0,
          0,
          0,
          0,
          0,
          0,
          0,
          0,
          0,
          0,
          0,
          0,
          0,
          0,
          0,
          0,
          0,
          0,
          0,
          0,
          0,
          0,
          0,
          0,
          0,
          0,
          0,
          0,
          0,
          0,
          0,
          0,
          0,
          0,
          0,
          0,
          0,
          0,
          0,
          0,
          0,
          0,
          0,
          0,
          0,
          0,
          0,
          0,
          0,
          0,
          0,
          0,
          0,
          0,
          0,
          0,
          0,
          0,
          0,
          0,
          0,
          0,
          0,
          0,
          0,
          0,
          0,
          0,
          0,
          0,
          0,
          0,
          0,
          0,
          0,
          0,
          0,
          0,
          0,
          0,
          0,
          0,
          0,
          0,
          0,
          0,
          0,
          0,
          0,
          0,
          0,
          0,
          0,
          0,
          0,
          0,
          0,
          0,
          0,
          0,
          0,
          0,
          0,
          0,
          0,
          0.25,
          0.25,
          0.25,
          0.25,
          0.25,
          0.25,
          0.25,
          0.25,
          0.25,
          0.25,
          0.25,
          0.25,
          0.25,
          0.25,
          0.25,
          0.25,
          0.5,
          0.5,
          0.5,
          0.5,
          0.5,
          0.5,
          0.5,
          0.5,
          0.5,
          0.5,
          0.5,
          0.5,
          0.5,
          0.5,
          0.5,
          0.5,
          1,
          1,
          1,
          1,
          1,
          1,
          1,
          1,
          1,
          1,
          1,
          1,
          1,
          1,
          1,
          1,
          0.5,
          0.5,
          0.5,
          0.5,
          0.5,
          0.5,
          0.5,
          0.5,
          0.5,
          0.5,
          0.5,
          0.5,
          0.5,
          0.5,
          0.5,
          0.5,
          0.25,
          0.25,
          0.25,
          0.25,
          0.25,
          0.25,
          0.25,
          0.25,
          0.25,
          0.25,
          0.25,
          0.25,
          0.25,
          0.25,
          0.25,
          0.25,
          0.5,
          0.5,
          0.5,
          0.5,
          0.5,
          0.5,
          0.5,
          0.5,
          0.5,
          0.5,
          0.5,
          0.5,
          0.5,
          0.5,
          0.5,
          0.5,
          1,
          1,
          1,
          1,
          1,
          1,
          1,
          1,
          1,
          1,
          1,
          1,
          1,
          1,
          1,
          1,
          0.5,
          0.5,
          0.5,
          0.5,
          0.5,
          0.5,
          0.5,
          0.5,
          0.5,
          0.5,
          0.5,
          0.5,
          0.5,
          0.5,
          0.5,
          0.5
         ],
         "xaxis": "x",
         "y": [
          0,
          0,
          0,
          0,
          0,
          0.15,
          0.2,
          0.25,
          0,
          0,
          0,
          0.2,
          0.15,
          0.15,
          0.15,
          0.25,
          0,
          0,
          0,
          0,
          0,
          0.15,
          0.2,
          0.25,
          0,
          0,
          0,
          0.2,
          0.15,
          0.15,
          0.15,
          0.25,
          0,
          0,
          0,
          0,
          0,
          0.15,
          0.2,
          0.25,
          0,
          0,
          0,
          0.2,
          0.15,
          0.15,
          0.15,
          0.25,
          0,
          0,
          0,
          0,
          0,
          0.15,
          0.2,
          0.25,
          0,
          0,
          0,
          0.2,
          0.15,
          0.15,
          0.15,
          0.25,
          0,
          0,
          0,
          0,
          0,
          0.15,
          0.2,
          0.25,
          0,
          0,
          0,
          0.2,
          0.15,
          0.15,
          0.15,
          0.25,
          0,
          0,
          0,
          0,
          0,
          0.15,
          0.2,
          0.25,
          0,
          0,
          0,
          0.2,
          0.15,
          0.15,
          0.15,
          0.25,
          0,
          0,
          0,
          0,
          0,
          0.15,
          0.2,
          0.25,
          0,
          0,
          0,
          0.2,
          0.15,
          0.15,
          0.15,
          0.25,
          0,
          0,
          0,
          0,
          0,
          0.15,
          0.2,
          0.25,
          0,
          0,
          0,
          0.2,
          0.15,
          0.15,
          0.15,
          0.25,
          0,
          0,
          0,
          0,
          0,
          0.15,
          0.2,
          0.25,
          0,
          0,
          0,
          0.2,
          0.15,
          0.15,
          0.15,
          0.25,
          0,
          0,
          0,
          0,
          0,
          0.15,
          0.2,
          0.25,
          0,
          0,
          0,
          0.2,
          0.15,
          0.15,
          0.15,
          0.25,
          0,
          0,
          0,
          0,
          0,
          0.15,
          0.2,
          0.25,
          0,
          0,
          0,
          0.2,
          0.15,
          0.15,
          0.15,
          0.25,
          0,
          0,
          0,
          0,
          0,
          0.15,
          0.2,
          0.25,
          0,
          0,
          0,
          0.2,
          0.15,
          0.15,
          0.15,
          0.25,
          0,
          0,
          0,
          0,
          0,
          0.15,
          0.2,
          0.25,
          0,
          0,
          0,
          0.2,
          0.15,
          0.15,
          0.15,
          0.25,
          0,
          0,
          0,
          0,
          0,
          0.15,
          0.2,
          0.25,
          0,
          0,
          0,
          0.2,
          0.15,
          0.15,
          0.15,
          0.25,
          0,
          0,
          0,
          0,
          0,
          0.15,
          0.2,
          0.25,
          0,
          0,
          0,
          0.2,
          0.15,
          0.15,
          0.15,
          0.25,
          0,
          0,
          0,
          0,
          0,
          0.15,
          0.2,
          0.25,
          0,
          0,
          0,
          0.2,
          0.15,
          0.15,
          0.15,
          0.25
         ],
         "yaxis": "y",
         "z": [
          0.7668755461116039,
          0.7668755461116039,
          0.7668755461116039,
          0.7668755461116039,
          0.7668755461116039,
          0.6973809372895394,
          0.6587317026554271,
          0.6390508837063273,
          0.7668755461116039,
          0.7668755461116039,
          0.7668755461116039,
          0.6587317026554271,
          0.6973809372895394,
          0.6973809372895394,
          0.6973809372895394,
          0.6390508837063273,
          0.7668755461116039,
          0.7668755461116039,
          0.7668755461116039,
          0.7668755461116039,
          0.7668755461116039,
          0.6973809372895394,
          0.6587317026554271,
          0.6390508837063273,
          0.7668755461116039,
          0.7668755461116039,
          0.7668755461116039,
          0.6587317026554271,
          0.6973809372895394,
          0.6973809372895394,
          0.6973809372895394,
          0.6390508837063273,
          0.7668755461116039,
          0.7668755461116039,
          0.7668755461116039,
          0.7668755461116039,
          0.7668755461116039,
          0.6973809372895394,
          0.6587317026554271,
          0.6390508837063273,
          0.7668755461116039,
          0.7668755461116039,
          0.7668755461116039,
          0.6587317026554271,
          0.6973809372895394,
          0.6973809372895394,
          0.6973809372895394,
          0.6390508837063273,
          0.7668755461116039,
          0.7668755461116039,
          0.7668755461116039,
          0.7668755461116039,
          0.7668755461116039,
          0.6973809372895394,
          0.6587317026554271,
          0.6390508837063273,
          0.7668755461116039,
          0.7668755461116039,
          0.7668755461116039,
          0.6587317026554271,
          0.6973809372895394,
          0.6973809372895394,
          0.6973809372895394,
          0.6390508837063273,
          0.7668755461116039,
          0.7668755461116039,
          0.7668755461116039,
          0.7668755461116039,
          0.7668755461116039,
          0.6973809372895394,
          0.6587317026554271,
          0.6390508837063273,
          0.7668755461116039,
          0.7668755461116039,
          0.7668755461116039,
          0.6587317026554271,
          0.6973809372895394,
          0.6973809372895394,
          0.6973809372895394,
          0.6390508837063273,
          0.7668755461116039,
          0.7668755461116039,
          0.7668755461116039,
          0.7668755461116039,
          0.7668755461116039,
          0.6973809372895394,
          0.6587317026554271,
          0.6390508837063273,
          0.7668755461116039,
          0.7668755461116039,
          0.7668755461116039,
          0.6587317026554271,
          0.6973809372895394,
          0.6973809372895394,
          0.6973809372895394,
          0.6390508837063273,
          0.7668755461116039,
          0.7668755461116039,
          0.7668755461116039,
          0.7668755461116039,
          0.7668755461116039,
          0.6973809372895394,
          0.6587317026554271,
          0.6390508837063273,
          0.7668755461116039,
          0.7668755461116039,
          0.7668755461116039,
          0.6587317026554271,
          0.6973809372895394,
          0.6973809372895394,
          0.6973809372895394,
          0.6390508837063273,
          0.7668755461116039,
          0.7668755461116039,
          0.7668755461116039,
          0.7668755461116039,
          0.7668755461116039,
          0.6973809372895394,
          0.6587317026554271,
          0.6390508837063273,
          0.7668755461116039,
          0.7668755461116039,
          0.7668755461116039,
          0.6587317026554271,
          0.6973809372895394,
          0.6973809372895394,
          0.6973809372895394,
          0.6390508837063273,
          0.7027581574315179,
          0.7027581574315179,
          0.7027581574315179,
          0.7027581574315179,
          0.7027581574315179,
          0.5783690014452564,
          0.49492146182363533,
          0.44581899171864015,
          0.7027581574315179,
          0.7027581574315179,
          0.7027581574315179,
          0.49492146182363533,
          0.5783690014452564,
          0.5783690014452564,
          0.5783690014452564,
          0.44581899171864015,
          0.6632308261389197,
          0.6632308261389197,
          0.6632308261389197,
          0.6632308261389197,
          0.6632308261389197,
          0.49587823514559026,
          0.3700692872334515,
          0.28710248759456686,
          0.6632308261389197,
          0.6632308261389197,
          0.6632308261389197,
          0.3700692872334515,
          0.49587823514559026,
          0.49587823514559026,
          0.49587823514559026,
          0.28710248759456686,
          0.6180013950273697,
          0.6180013950273697,
          0.6180013950273697,
          0.6180013950273697,
          0.6180013950273697,
          0.39625668284046045,
          0.2173875106546195,
          0.09778416046686851,
          0.6180013950273697,
          0.6180013950273697,
          0.6180013950273697,
          0.2173875106546195,
          0.39625668284046045,
          0.39625668284046045,
          0.39625668284046045,
          0.09778416046686851,
          0.6632308261389197,
          0.6632308261389197,
          0.6632308261389197,
          0.6632308261389197,
          0.6632308261389197,
          0.49587823514559026,
          0.3700692872334515,
          0.28710248759456686,
          0.6632308261389197,
          0.6632308261389197,
          0.6632308261389197,
          0.3700692872334515,
          0.49587823514559026,
          0.49587823514559026,
          0.49587823514559026,
          0.28710248759456686,
          0.7027581574315179,
          0.7027581574315179,
          0.7027581574315179,
          0.7027581574315179,
          0.7027581574315179,
          0.5783690014452564,
          0.49492146182363533,
          0.44581899171864015,
          0.7027581574315179,
          0.7027581574315179,
          0.7027581574315179,
          0.49492146182363533,
          0.5783690014452564,
          0.5783690014452564,
          0.5783690014452564,
          0.44581899171864015,
          0.6632308261389197,
          0.6632308261389197,
          0.6632308261389197,
          0.6632308261389197,
          0.6632308261389197,
          0.49587823514559026,
          0.3700692872334515,
          0.28710248759456686,
          0.6632308261389197,
          0.6632308261389197,
          0.6632308261389197,
          0.3700692872334515,
          0.49587823514559026,
          0.49587823514559026,
          0.49587823514559026,
          0.28710248759456686,
          0.6180013950273697,
          0.6180013950273697,
          0.6180013950273697,
          0.6180013950273697,
          0.6180013950273697,
          0.39625668284046045,
          0.2173875106546195,
          0.09778416046686851,
          0.6180013950273697,
          0.6180013950273697,
          0.6180013950273697,
          0.2173875106546195,
          0.39625668284046045,
          0.39625668284046045,
          0.39625668284046045,
          0.09778416046686851,
          0.6632308261389197,
          0.6632308261389197,
          0.6632308261389197,
          0.6632308261389197,
          0.6632308261389197,
          0.49587823514559026,
          0.3700692872334515,
          0.28710248759456686,
          0.6632308261389197,
          0.6632308261389197,
          0.6632308261389197,
          0.3700692872334515,
          0.49587823514559026,
          0.49587823514559026,
          0.49587823514559026,
          0.28710248759456686
         ]
        },
        {
         "colorscale": [
          [
           0,
           "#440154"
          ],
          [
           0.1111111111111111,
           "#482878"
          ],
          [
           0.2222222222222222,
           "#3e4989"
          ],
          [
           0.3333333333333333,
           "#31688e"
          ],
          [
           0.4444444444444444,
           "#26828e"
          ],
          [
           0.5555555555555556,
           "#1f9e89"
          ],
          [
           0.6666666666666666,
           "#35b779"
          ],
          [
           0.7777777777777778,
           "#6ece58"
          ],
          [
           0.8888888888888888,
           "#b5de2b"
          ],
          [
           1,
           "#fde725"
          ]
         ],
         "showscale": false,
         "type": "heatmap",
         "x": [
          0,
          0,
          0,
          0,
          0,
          0,
          0,
          0,
          0.25,
          0.5,
          1,
          0.5,
          0.25,
          0.5,
          1,
          0.5
         ],
         "xaxis": "x2",
         "y": [
          0,
          0,
          0,
          0,
          0,
          0.15,
          0.2,
          0.25,
          0,
          0,
          0,
          0.2,
          0.15,
          0.15,
          0.15,
          0.25
         ],
         "yaxis": "y2",
         "z": [
          1.0714268881819253,
          1.07960410038883,
          0.9439692078080201,
          0.9049998036212246,
          0.8750716782530145,
          0.743513609049134,
          0.5513137740073053,
          0.5230980715604258,
          0.6939711715957739,
          0.6537056674914575,
          0.6241153136169043,
          0.16000942618121833,
          0.43211971250147285,
          0.2773575271984604,
          0.17293900475236637,
          0.09624916539020463
         ]
        }
       ],
       "layout": {
        "annotations": [
         {
          "font": {
           "size": 16
          },
          "showarrow": false,
          "text": "Simulation",
          "x": 0.225,
          "xanchor": "center",
          "xref": "paper",
          "y": 1,
          "yanchor": "bottom",
          "yref": "paper"
         },
         {
          "font": {
           "size": 16
          },
          "showarrow": false,
          "text": "Experimental Data",
          "x": 0.775,
          "xanchor": "center",
          "xref": "paper",
          "y": 1,
          "yanchor": "bottom",
          "yref": "paper"
         }
        ],
        "font": {
         "size": 16
        },
        "height": 500,
        "showlegend": false,
        "template": {
         "data": {
          "bar": [
           {
            "error_x": {
             "color": "#2a3f5f"
            },
            "error_y": {
             "color": "#2a3f5f"
            },
            "marker": {
             "line": {
              "color": "#E5ECF6",
              "width": 0.5
             },
             "pattern": {
              "fillmode": "overlay",
              "size": 10,
              "solidity": 0.2
             }
            },
            "type": "bar"
           }
          ],
          "barpolar": [
           {
            "marker": {
             "line": {
              "color": "#E5ECF6",
              "width": 0.5
             },
             "pattern": {
              "fillmode": "overlay",
              "size": 10,
              "solidity": 0.2
             }
            },
            "type": "barpolar"
           }
          ],
          "carpet": [
           {
            "aaxis": {
             "endlinecolor": "#2a3f5f",
             "gridcolor": "white",
             "linecolor": "white",
             "minorgridcolor": "white",
             "startlinecolor": "#2a3f5f"
            },
            "baxis": {
             "endlinecolor": "#2a3f5f",
             "gridcolor": "white",
             "linecolor": "white",
             "minorgridcolor": "white",
             "startlinecolor": "#2a3f5f"
            },
            "type": "carpet"
           }
          ],
          "choropleth": [
           {
            "colorbar": {
             "outlinewidth": 0,
             "ticks": ""
            },
            "type": "choropleth"
           }
          ],
          "contour": [
           {
            "colorbar": {
             "outlinewidth": 0,
             "ticks": ""
            },
            "colorscale": [
             [
              0,
              "#0d0887"
             ],
             [
              0.1111111111111111,
              "#46039f"
             ],
             [
              0.2222222222222222,
              "#7201a8"
             ],
             [
              0.3333333333333333,
              "#9c179e"
             ],
             [
              0.4444444444444444,
              "#bd3786"
             ],
             [
              0.5555555555555556,
              "#d8576b"
             ],
             [
              0.6666666666666666,
              "#ed7953"
             ],
             [
              0.7777777777777778,
              "#fb9f3a"
             ],
             [
              0.8888888888888888,
              "#fdca26"
             ],
             [
              1,
              "#f0f921"
             ]
            ],
            "type": "contour"
           }
          ],
          "contourcarpet": [
           {
            "colorbar": {
             "outlinewidth": 0,
             "ticks": ""
            },
            "type": "contourcarpet"
           }
          ],
          "heatmap": [
           {
            "colorbar": {
             "outlinewidth": 0,
             "ticks": ""
            },
            "colorscale": [
             [
              0,
              "#0d0887"
             ],
             [
              0.1111111111111111,
              "#46039f"
             ],
             [
              0.2222222222222222,
              "#7201a8"
             ],
             [
              0.3333333333333333,
              "#9c179e"
             ],
             [
              0.4444444444444444,
              "#bd3786"
             ],
             [
              0.5555555555555556,
              "#d8576b"
             ],
             [
              0.6666666666666666,
              "#ed7953"
             ],
             [
              0.7777777777777778,
              "#fb9f3a"
             ],
             [
              0.8888888888888888,
              "#fdca26"
             ],
             [
              1,
              "#f0f921"
             ]
            ],
            "type": "heatmap"
           }
          ],
          "heatmapgl": [
           {
            "colorbar": {
             "outlinewidth": 0,
             "ticks": ""
            },
            "colorscale": [
             [
              0,
              "#0d0887"
             ],
             [
              0.1111111111111111,
              "#46039f"
             ],
             [
              0.2222222222222222,
              "#7201a8"
             ],
             [
              0.3333333333333333,
              "#9c179e"
             ],
             [
              0.4444444444444444,
              "#bd3786"
             ],
             [
              0.5555555555555556,
              "#d8576b"
             ],
             [
              0.6666666666666666,
              "#ed7953"
             ],
             [
              0.7777777777777778,
              "#fb9f3a"
             ],
             [
              0.8888888888888888,
              "#fdca26"
             ],
             [
              1,
              "#f0f921"
             ]
            ],
            "type": "heatmapgl"
           }
          ],
          "histogram": [
           {
            "marker": {
             "pattern": {
              "fillmode": "overlay",
              "size": 10,
              "solidity": 0.2
             }
            },
            "type": "histogram"
           }
          ],
          "histogram2d": [
           {
            "colorbar": {
             "outlinewidth": 0,
             "ticks": ""
            },
            "colorscale": [
             [
              0,
              "#0d0887"
             ],
             [
              0.1111111111111111,
              "#46039f"
             ],
             [
              0.2222222222222222,
              "#7201a8"
             ],
             [
              0.3333333333333333,
              "#9c179e"
             ],
             [
              0.4444444444444444,
              "#bd3786"
             ],
             [
              0.5555555555555556,
              "#d8576b"
             ],
             [
              0.6666666666666666,
              "#ed7953"
             ],
             [
              0.7777777777777778,
              "#fb9f3a"
             ],
             [
              0.8888888888888888,
              "#fdca26"
             ],
             [
              1,
              "#f0f921"
             ]
            ],
            "type": "histogram2d"
           }
          ],
          "histogram2dcontour": [
           {
            "colorbar": {
             "outlinewidth": 0,
             "ticks": ""
            },
            "colorscale": [
             [
              0,
              "#0d0887"
             ],
             [
              0.1111111111111111,
              "#46039f"
             ],
             [
              0.2222222222222222,
              "#7201a8"
             ],
             [
              0.3333333333333333,
              "#9c179e"
             ],
             [
              0.4444444444444444,
              "#bd3786"
             ],
             [
              0.5555555555555556,
              "#d8576b"
             ],
             [
              0.6666666666666666,
              "#ed7953"
             ],
             [
              0.7777777777777778,
              "#fb9f3a"
             ],
             [
              0.8888888888888888,
              "#fdca26"
             ],
             [
              1,
              "#f0f921"
             ]
            ],
            "type": "histogram2dcontour"
           }
          ],
          "mesh3d": [
           {
            "colorbar": {
             "outlinewidth": 0,
             "ticks": ""
            },
            "type": "mesh3d"
           }
          ],
          "parcoords": [
           {
            "line": {
             "colorbar": {
              "outlinewidth": 0,
              "ticks": ""
             }
            },
            "type": "parcoords"
           }
          ],
          "pie": [
           {
            "automargin": true,
            "type": "pie"
           }
          ],
          "scatter": [
           {
            "fillpattern": {
             "fillmode": "overlay",
             "size": 10,
             "solidity": 0.2
            },
            "type": "scatter"
           }
          ],
          "scatter3d": [
           {
            "line": {
             "colorbar": {
              "outlinewidth": 0,
              "ticks": ""
             }
            },
            "marker": {
             "colorbar": {
              "outlinewidth": 0,
              "ticks": ""
             }
            },
            "type": "scatter3d"
           }
          ],
          "scattercarpet": [
           {
            "marker": {
             "colorbar": {
              "outlinewidth": 0,
              "ticks": ""
             }
            },
            "type": "scattercarpet"
           }
          ],
          "scattergeo": [
           {
            "marker": {
             "colorbar": {
              "outlinewidth": 0,
              "ticks": ""
             }
            },
            "type": "scattergeo"
           }
          ],
          "scattergl": [
           {
            "marker": {
             "colorbar": {
              "outlinewidth": 0,
              "ticks": ""
             }
            },
            "type": "scattergl"
           }
          ],
          "scattermapbox": [
           {
            "marker": {
             "colorbar": {
              "outlinewidth": 0,
              "ticks": ""
             }
            },
            "type": "scattermapbox"
           }
          ],
          "scatterpolar": [
           {
            "marker": {
             "colorbar": {
              "outlinewidth": 0,
              "ticks": ""
             }
            },
            "type": "scatterpolar"
           }
          ],
          "scatterpolargl": [
           {
            "marker": {
             "colorbar": {
              "outlinewidth": 0,
              "ticks": ""
             }
            },
            "type": "scatterpolargl"
           }
          ],
          "scatterternary": [
           {
            "marker": {
             "colorbar": {
              "outlinewidth": 0,
              "ticks": ""
             }
            },
            "type": "scatterternary"
           }
          ],
          "surface": [
           {
            "colorbar": {
             "outlinewidth": 0,
             "ticks": ""
            },
            "colorscale": [
             [
              0,
              "#0d0887"
             ],
             [
              0.1111111111111111,
              "#46039f"
             ],
             [
              0.2222222222222222,
              "#7201a8"
             ],
             [
              0.3333333333333333,
              "#9c179e"
             ],
             [
              0.4444444444444444,
              "#bd3786"
             ],
             [
              0.5555555555555556,
              "#d8576b"
             ],
             [
              0.6666666666666666,
              "#ed7953"
             ],
             [
              0.7777777777777778,
              "#fb9f3a"
             ],
             [
              0.8888888888888888,
              "#fdca26"
             ],
             [
              1,
              "#f0f921"
             ]
            ],
            "type": "surface"
           }
          ],
          "table": [
           {
            "cells": {
             "fill": {
              "color": "#EBF0F8"
             },
             "line": {
              "color": "white"
             }
            },
            "header": {
             "fill": {
              "color": "#C8D4E3"
             },
             "line": {
              "color": "white"
             }
            },
            "type": "table"
           }
          ]
         },
         "layout": {
          "annotationdefaults": {
           "arrowcolor": "#2a3f5f",
           "arrowhead": 0,
           "arrowwidth": 1
          },
          "autotypenumbers": "strict",
          "coloraxis": {
           "colorbar": {
            "outlinewidth": 0,
            "ticks": ""
           }
          },
          "colorscale": {
           "diverging": [
            [
             0,
             "#8e0152"
            ],
            [
             0.1,
             "#c51b7d"
            ],
            [
             0.2,
             "#de77ae"
            ],
            [
             0.3,
             "#f1b6da"
            ],
            [
             0.4,
             "#fde0ef"
            ],
            [
             0.5,
             "#f7f7f7"
            ],
            [
             0.6,
             "#e6f5d0"
            ],
            [
             0.7,
             "#b8e186"
            ],
            [
             0.8,
             "#7fbc41"
            ],
            [
             0.9,
             "#4d9221"
            ],
            [
             1,
             "#276419"
            ]
           ],
           "sequential": [
            [
             0,
             "#0d0887"
            ],
            [
             0.1111111111111111,
             "#46039f"
            ],
            [
             0.2222222222222222,
             "#7201a8"
            ],
            [
             0.3333333333333333,
             "#9c179e"
            ],
            [
             0.4444444444444444,
             "#bd3786"
            ],
            [
             0.5555555555555556,
             "#d8576b"
            ],
            [
             0.6666666666666666,
             "#ed7953"
            ],
            [
             0.7777777777777778,
             "#fb9f3a"
            ],
            [
             0.8888888888888888,
             "#fdca26"
            ],
            [
             1,
             "#f0f921"
            ]
           ],
           "sequentialminus": [
            [
             0,
             "#0d0887"
            ],
            [
             0.1111111111111111,
             "#46039f"
            ],
            [
             0.2222222222222222,
             "#7201a8"
            ],
            [
             0.3333333333333333,
             "#9c179e"
            ],
            [
             0.4444444444444444,
             "#bd3786"
            ],
            [
             0.5555555555555556,
             "#d8576b"
            ],
            [
             0.6666666666666666,
             "#ed7953"
            ],
            [
             0.7777777777777778,
             "#fb9f3a"
            ],
            [
             0.8888888888888888,
             "#fdca26"
            ],
            [
             1,
             "#f0f921"
            ]
           ]
          },
          "colorway": [
           "#636efa",
           "#EF553B",
           "#00cc96",
           "#ab63fa",
           "#FFA15A",
           "#19d3f3",
           "#FF6692",
           "#B6E880",
           "#FF97FF",
           "#FECB52"
          ],
          "font": {
           "color": "#2a3f5f"
          },
          "geo": {
           "bgcolor": "white",
           "lakecolor": "white",
           "landcolor": "#E5ECF6",
           "showlakes": true,
           "showland": true,
           "subunitcolor": "white"
          },
          "hoverlabel": {
           "align": "left"
          },
          "hovermode": "closest",
          "mapbox": {
           "style": "light"
          },
          "paper_bgcolor": "white",
          "plot_bgcolor": "#E5ECF6",
          "polar": {
           "angularaxis": {
            "gridcolor": "white",
            "linecolor": "white",
            "ticks": ""
           },
           "bgcolor": "#E5ECF6",
           "radialaxis": {
            "gridcolor": "white",
            "linecolor": "white",
            "ticks": ""
           }
          },
          "scene": {
           "xaxis": {
            "backgroundcolor": "#E5ECF6",
            "gridcolor": "white",
            "gridwidth": 2,
            "linecolor": "white",
            "showbackground": true,
            "ticks": "",
            "zerolinecolor": "white"
           },
           "yaxis": {
            "backgroundcolor": "#E5ECF6",
            "gridcolor": "white",
            "gridwidth": 2,
            "linecolor": "white",
            "showbackground": true,
            "ticks": "",
            "zerolinecolor": "white"
           },
           "zaxis": {
            "backgroundcolor": "#E5ECF6",
            "gridcolor": "white",
            "gridwidth": 2,
            "linecolor": "white",
            "showbackground": true,
            "ticks": "",
            "zerolinecolor": "white"
           }
          },
          "shapedefaults": {
           "line": {
            "color": "#2a3f5f"
           }
          },
          "ternary": {
           "aaxis": {
            "gridcolor": "white",
            "linecolor": "white",
            "ticks": ""
           },
           "baxis": {
            "gridcolor": "white",
            "linecolor": "white",
            "ticks": ""
           },
           "bgcolor": "#E5ECF6",
           "caxis": {
            "gridcolor": "white",
            "linecolor": "white",
            "ticks": ""
           }
          },
          "title": {
           "x": 0.05
          },
          "xaxis": {
           "automargin": true,
           "gridcolor": "white",
           "linecolor": "white",
           "ticks": "",
           "title": {
            "standoff": 15
           },
           "zerolinecolor": "white",
           "zerolinewidth": 2
          },
          "yaxis": {
           "automargin": true,
           "gridcolor": "white",
           "linecolor": "white",
           "ticks": "",
           "title": {
            "standoff": 15
           },
           "zerolinecolor": "white",
           "zerolinewidth": 2
          }
         }
        },
        "width": 1000,
        "xaxis": {
         "anchor": "y",
         "domain": [
          0,
          0.45
         ],
         "title": {
          "text": "[FAE] (µM)"
         }
        },
        "xaxis2": {
         "anchor": "y2",
         "domain": [
          0.55,
          1
         ],
         "title": {
          "text": "[FAE] (µM)"
         }
        },
        "yaxis": {
         "anchor": "x",
         "domain": [
          0,
          1
         ],
         "title": {
          "text": "[AAP] (µM)"
         }
        },
        "yaxis2": {
         "anchor": "x2",
         "domain": [
          0,
          1
         ],
         "title": {
          "text": ""
         }
        }
       }
      }
     },
     "metadata": {},
     "output_type": "display_data"
    }
   ],
   "source": [
    "import plotly.graph_objects as go\n",
    "from plotly.subplots import make_subplots\n",
    "import numpy as np\n",
    "\n",
    "# x1, x2, ATP, y are 2D arrays\n",
    "# x2_mesh, x1_mesh = np.meshgrid(x2, x1)  # Already used if needed\n",
    "\n",
    "# x1, x2, ATP are 2D arrays\n",
    "x2_mesh, x1_mesh = np.meshgrid(x2, x1)\n",
    "\n",
    "# Flatten all arrays for scatter plot\n",
    "x_vals = x1_mesh.flatten()  # [FAE] (µM)\n",
    "y_vals = x2_mesh.flatten()  # [AAP] (µM)\n",
    "z_vals = ATP.flatten()    # [ATP]/[ATP]₀ at T=90 s\n",
    "\n",
    "# Create subplot layout: 1 row, 2 columns\n",
    "fig = make_subplots(\n",
    "    rows=1, cols=2,\n",
    "    subplot_titles=(\"Simulation\", \"Experimental Data\"),\n",
    "    horizontal_spacing=0.1\n",
    ")\n",
    "\n",
    "# --- Left plot: Simulation ---\n",
    "fig.add_trace(go.Heatmap(\n",
    "    x=x_vals,  # [AAP]\n",
    "    y=y_vals,  # [FAE]\n",
    "    z=z_vals,\n",
    "    colorscale='Viridis',\n",
    "    colorbar=dict(title='[ATP]/[ATP]₀'),\n",
    "), row=1, col=1)\n",
    "\n",
    "# --- Right plot: Experimental ---\n",
    "fig.add_trace(go.Heatmap(\n",
    "    x=x1,\n",
    "    y=x2,\n",
    "    z=y,\n",
    "    colorscale='Viridis',\n",
    "    showscale=False  # Hide 2nd colorbar to avoid clutter\n",
    "), row=1, col=2)\n",
    "\n",
    "# Update layout\n",
    "fig.update_layout(\n",
    "    title_text=None,\n",
    "    height=500,\n",
    "    width=1000,\n",
    "    showlegend=False,\n",
    "    font=dict(size=16)\n",
    ")\n",
    "\n",
    "# Update axis labels\n",
    "fig.update_xaxes(title_text=f\"[{indepvar2}] (µM)\", row=1, col=1)\n",
    "fig.update_yaxes(title_text=f\"[{indepvar1}] (µM)\", row=1, col=1)\n",
    "\n",
    "fig.update_xaxes(title_text=f\"[{indepvar2}] (µM)\", row=1, col=2)\n",
    "fig.update_yaxes(title_text=\"\", row=1, col=2)\n",
    "fig.write_image(\"2varcolor.png\")  # Increase scale for higher resolution\n",
    "\n",
    "fig.show()"
   ]
  },
  {
   "cell_type": "code",
   "execution_count": 166,
   "id": "16f5f0ac",
   "metadata": {},
   "outputs": [
    {
     "ename": "ValueError",
     "evalue": "operands could not be broadcast together with shapes (256,) (16,) ",
     "output_type": "error",
     "traceback": [
      "\u001b[0;31m---------------------------------------------------------------------------\u001b[0m",
      "\u001b[0;31mValueError\u001b[0m                                Traceback (most recent call last)",
      "Cell \u001b[0;32mIn[166], line 14\u001b[0m\n\u001b[1;32m     11\u001b[0m z_vals \u001b[38;5;241m=\u001b[39m ATP\u001b[38;5;241m.\u001b[39mflatten()      \u001b[38;5;66;03m# Simulated [ATP]/[ATP]₀ at T=90 s\u001b[39;00m\n\u001b[1;32m     13\u001b[0m \u001b[38;5;66;03m# Compute difference (Simulation - Experimental)\u001b[39;00m\n\u001b[0;32m---> 14\u001b[0m diff \u001b[38;5;241m=\u001b[39m z_vals \u001b[38;5;241m-\u001b[39m y  \u001b[38;5;66;03m# Can also use np.abs(ATP - y) for unsigned difference\u001b[39;00m\n\u001b[1;32m     16\u001b[0m \u001b[38;5;66;03m# Create subplot layout: 1 row, 3 columns\u001b[39;00m\n\u001b[1;32m     17\u001b[0m fig \u001b[38;5;241m=\u001b[39m make_subplots(\n\u001b[1;32m     18\u001b[0m     rows\u001b[38;5;241m=\u001b[39m\u001b[38;5;241m1\u001b[39m, cols\u001b[38;5;241m=\u001b[39m\u001b[38;5;241m3\u001b[39m,\n\u001b[1;32m     19\u001b[0m     subplot_titles\u001b[38;5;241m=\u001b[39m(\u001b[38;5;124m\"\u001b[39m\u001b[38;5;124mSimulation\u001b[39m\u001b[38;5;124m\"\u001b[39m, \u001b[38;5;124m\"\u001b[39m\u001b[38;5;124mExperimental Data\u001b[39m\u001b[38;5;124m\"\u001b[39m, \u001b[38;5;124m\"\u001b[39m\u001b[38;5;124mDifference (Sim - Exp)\u001b[39m\u001b[38;5;124m\"\u001b[39m),\n\u001b[1;32m     20\u001b[0m     horizontal_spacing\u001b[38;5;241m=\u001b[39m\u001b[38;5;241m0.07\u001b[39m\n\u001b[1;32m     21\u001b[0m )\n",
      "File \u001b[0;32m/Applications/anaconda3/lib/python3.11/site-packages/pandas/core/generic.py:2171\u001b[0m, in \u001b[0;36mNDFrame.__array_ufunc__\u001b[0;34m(self, ufunc, method, *inputs, **kwargs)\u001b[0m\n\u001b[1;32m   2167\u001b[0m \u001b[38;5;129m@final\u001b[39m\n\u001b[1;32m   2168\u001b[0m \u001b[38;5;28;01mdef\u001b[39;00m \u001b[38;5;21m__array_ufunc__\u001b[39m(\n\u001b[1;32m   2169\u001b[0m     \u001b[38;5;28mself\u001b[39m, ufunc: np\u001b[38;5;241m.\u001b[39mufunc, method: \u001b[38;5;28mstr\u001b[39m, \u001b[38;5;241m*\u001b[39minputs: Any, \u001b[38;5;241m*\u001b[39m\u001b[38;5;241m*\u001b[39mkwargs: Any\n\u001b[1;32m   2170\u001b[0m ):\n\u001b[0;32m-> 2171\u001b[0m     \u001b[38;5;28;01mreturn\u001b[39;00m arraylike\u001b[38;5;241m.\u001b[39marray_ufunc(\u001b[38;5;28mself\u001b[39m, ufunc, method, \u001b[38;5;241m*\u001b[39minputs, \u001b[38;5;241m*\u001b[39m\u001b[38;5;241m*\u001b[39mkwargs)\n",
      "File \u001b[0;32m/Applications/anaconda3/lib/python3.11/site-packages/pandas/core/arraylike.py:276\u001b[0m, in \u001b[0;36marray_ufunc\u001b[0;34m(self, ufunc, method, *inputs, **kwargs)\u001b[0m\n\u001b[1;32m    273\u001b[0m kwargs \u001b[38;5;241m=\u001b[39m _standardize_out_kwarg(\u001b[38;5;241m*\u001b[39m\u001b[38;5;241m*\u001b[39mkwargs)\n\u001b[1;32m    275\u001b[0m \u001b[38;5;66;03m# for binary ops, use our custom dunder methods\u001b[39;00m\n\u001b[0;32m--> 276\u001b[0m result \u001b[38;5;241m=\u001b[39m maybe_dispatch_ufunc_to_dunder_op(\u001b[38;5;28mself\u001b[39m, ufunc, method, \u001b[38;5;241m*\u001b[39minputs, \u001b[38;5;241m*\u001b[39m\u001b[38;5;241m*\u001b[39mkwargs)\n\u001b[1;32m    277\u001b[0m \u001b[38;5;28;01mif\u001b[39;00m result \u001b[38;5;129;01mis\u001b[39;00m \u001b[38;5;129;01mnot\u001b[39;00m \u001b[38;5;28mNotImplemented\u001b[39m:\n\u001b[1;32m    278\u001b[0m     \u001b[38;5;28;01mreturn\u001b[39;00m result\n",
      "File \u001b[0;32mops_dispatch.pyx:113\u001b[0m, in \u001b[0;36mpandas._libs.ops_dispatch.maybe_dispatch_ufunc_to_dunder_op\u001b[0;34m()\u001b[0m\n",
      "File \u001b[0;32m/Applications/anaconda3/lib/python3.11/site-packages/pandas/core/ops/common.py:76\u001b[0m, in \u001b[0;36m_unpack_zerodim_and_defer.<locals>.new_method\u001b[0;34m(self, other)\u001b[0m\n\u001b[1;32m     72\u001b[0m             \u001b[38;5;28;01mreturn\u001b[39;00m \u001b[38;5;28mNotImplemented\u001b[39m\n\u001b[1;32m     74\u001b[0m other \u001b[38;5;241m=\u001b[39m item_from_zerodim(other)\n\u001b[0;32m---> 76\u001b[0m \u001b[38;5;28;01mreturn\u001b[39;00m method(\u001b[38;5;28mself\u001b[39m, other)\n",
      "File \u001b[0;32m/Applications/anaconda3/lib/python3.11/site-packages/pandas/core/arraylike.py:198\u001b[0m, in \u001b[0;36mOpsMixin.__rsub__\u001b[0;34m(self, other)\u001b[0m\n\u001b[1;32m    196\u001b[0m \u001b[38;5;129m@unpack_zerodim_and_defer\u001b[39m(\u001b[38;5;124m\"\u001b[39m\u001b[38;5;124m__rsub__\u001b[39m\u001b[38;5;124m\"\u001b[39m)\n\u001b[1;32m    197\u001b[0m \u001b[38;5;28;01mdef\u001b[39;00m \u001b[38;5;21m__rsub__\u001b[39m(\u001b[38;5;28mself\u001b[39m, other):\n\u001b[0;32m--> 198\u001b[0m     \u001b[38;5;28;01mreturn\u001b[39;00m \u001b[38;5;28mself\u001b[39m\u001b[38;5;241m.\u001b[39m_arith_method(other, roperator\u001b[38;5;241m.\u001b[39mrsub)\n",
      "File \u001b[0;32m/Applications/anaconda3/lib/python3.11/site-packages/pandas/core/series.py:6135\u001b[0m, in \u001b[0;36mSeries._arith_method\u001b[0;34m(self, other, op)\u001b[0m\n\u001b[1;32m   6133\u001b[0m \u001b[38;5;28;01mdef\u001b[39;00m \u001b[38;5;21m_arith_method\u001b[39m(\u001b[38;5;28mself\u001b[39m, other, op):\n\u001b[1;32m   6134\u001b[0m     \u001b[38;5;28mself\u001b[39m, other \u001b[38;5;241m=\u001b[39m \u001b[38;5;28mself\u001b[39m\u001b[38;5;241m.\u001b[39m_align_for_op(other)\n\u001b[0;32m-> 6135\u001b[0m     \u001b[38;5;28;01mreturn\u001b[39;00m base\u001b[38;5;241m.\u001b[39mIndexOpsMixin\u001b[38;5;241m.\u001b[39m_arith_method(\u001b[38;5;28mself\u001b[39m, other, op)\n",
      "File \u001b[0;32m/Applications/anaconda3/lib/python3.11/site-packages/pandas/core/base.py:1382\u001b[0m, in \u001b[0;36mIndexOpsMixin._arith_method\u001b[0;34m(self, other, op)\u001b[0m\n\u001b[1;32m   1379\u001b[0m     rvalues \u001b[38;5;241m=\u001b[39m np\u001b[38;5;241m.\u001b[39marange(rvalues\u001b[38;5;241m.\u001b[39mstart, rvalues\u001b[38;5;241m.\u001b[39mstop, rvalues\u001b[38;5;241m.\u001b[39mstep)\n\u001b[1;32m   1381\u001b[0m \u001b[38;5;28;01mwith\u001b[39;00m np\u001b[38;5;241m.\u001b[39merrstate(\u001b[38;5;28mall\u001b[39m\u001b[38;5;241m=\u001b[39m\u001b[38;5;124m\"\u001b[39m\u001b[38;5;124mignore\u001b[39m\u001b[38;5;124m\"\u001b[39m):\n\u001b[0;32m-> 1382\u001b[0m     result \u001b[38;5;241m=\u001b[39m ops\u001b[38;5;241m.\u001b[39marithmetic_op(lvalues, rvalues, op)\n\u001b[1;32m   1384\u001b[0m \u001b[38;5;28;01mreturn\u001b[39;00m \u001b[38;5;28mself\u001b[39m\u001b[38;5;241m.\u001b[39m_construct_result(result, name\u001b[38;5;241m=\u001b[39mres_name)\n",
      "File \u001b[0;32m/Applications/anaconda3/lib/python3.11/site-packages/pandas/core/ops/array_ops.py:283\u001b[0m, in \u001b[0;36marithmetic_op\u001b[0;34m(left, right, op)\u001b[0m\n\u001b[1;32m    279\u001b[0m     _bool_arith_check(op, left, right)  \u001b[38;5;66;03m# type: ignore[arg-type]\u001b[39;00m\n\u001b[1;32m    281\u001b[0m     \u001b[38;5;66;03m# error: Argument 1 to \"_na_arithmetic_op\" has incompatible type\u001b[39;00m\n\u001b[1;32m    282\u001b[0m     \u001b[38;5;66;03m# \"Union[ExtensionArray, ndarray[Any, Any]]\"; expected \"ndarray[Any, Any]\"\u001b[39;00m\n\u001b[0;32m--> 283\u001b[0m     res_values \u001b[38;5;241m=\u001b[39m _na_arithmetic_op(left, right, op)  \u001b[38;5;66;03m# type: ignore[arg-type]\u001b[39;00m\n\u001b[1;32m    285\u001b[0m \u001b[38;5;28;01mreturn\u001b[39;00m res_values\n",
      "File \u001b[0;32m/Applications/anaconda3/lib/python3.11/site-packages/pandas/core/ops/array_ops.py:218\u001b[0m, in \u001b[0;36m_na_arithmetic_op\u001b[0;34m(left, right, op, is_cmp)\u001b[0m\n\u001b[1;32m    215\u001b[0m     func \u001b[38;5;241m=\u001b[39m partial(expressions\u001b[38;5;241m.\u001b[39mevaluate, op)\n\u001b[1;32m    217\u001b[0m \u001b[38;5;28;01mtry\u001b[39;00m:\n\u001b[0;32m--> 218\u001b[0m     result \u001b[38;5;241m=\u001b[39m func(left, right)\n\u001b[1;32m    219\u001b[0m \u001b[38;5;28;01mexcept\u001b[39;00m \u001b[38;5;167;01mTypeError\u001b[39;00m:\n\u001b[1;32m    220\u001b[0m     \u001b[38;5;28;01mif\u001b[39;00m \u001b[38;5;129;01mnot\u001b[39;00m is_cmp \u001b[38;5;129;01mand\u001b[39;00m (\n\u001b[1;32m    221\u001b[0m         left\u001b[38;5;241m.\u001b[39mdtype \u001b[38;5;241m==\u001b[39m \u001b[38;5;28mobject\u001b[39m \u001b[38;5;129;01mor\u001b[39;00m \u001b[38;5;28mgetattr\u001b[39m(right, \u001b[38;5;124m\"\u001b[39m\u001b[38;5;124mdtype\u001b[39m\u001b[38;5;124m\"\u001b[39m, \u001b[38;5;28;01mNone\u001b[39;00m) \u001b[38;5;241m==\u001b[39m \u001b[38;5;28mobject\u001b[39m\n\u001b[1;32m    222\u001b[0m     ):\n\u001b[0;32m   (...)\u001b[0m\n\u001b[1;32m    225\u001b[0m         \u001b[38;5;66;03m# Don't do this for comparisons, as that will handle complex numbers\u001b[39;00m\n\u001b[1;32m    226\u001b[0m         \u001b[38;5;66;03m#  incorrectly, see GH#32047\u001b[39;00m\n",
      "File \u001b[0;32m/Applications/anaconda3/lib/python3.11/site-packages/pandas/core/computation/expressions.py:242\u001b[0m, in \u001b[0;36mevaluate\u001b[0;34m(op, a, b, use_numexpr)\u001b[0m\n\u001b[1;32m    239\u001b[0m \u001b[38;5;28;01mif\u001b[39;00m op_str \u001b[38;5;129;01mis\u001b[39;00m \u001b[38;5;129;01mnot\u001b[39;00m \u001b[38;5;28;01mNone\u001b[39;00m:\n\u001b[1;32m    240\u001b[0m     \u001b[38;5;28;01mif\u001b[39;00m use_numexpr:\n\u001b[1;32m    241\u001b[0m         \u001b[38;5;66;03m# error: \"None\" not callable\u001b[39;00m\n\u001b[0;32m--> 242\u001b[0m         \u001b[38;5;28;01mreturn\u001b[39;00m _evaluate(op, op_str, a, b)  \u001b[38;5;66;03m# type: ignore[misc]\u001b[39;00m\n\u001b[1;32m    243\u001b[0m \u001b[38;5;28;01mreturn\u001b[39;00m _evaluate_standard(op, op_str, a, b)\n",
      "File \u001b[0;32m/Applications/anaconda3/lib/python3.11/site-packages/pandas/core/computation/expressions.py:131\u001b[0m, in \u001b[0;36m_evaluate_numexpr\u001b[0;34m(op, op_str, a, b)\u001b[0m\n\u001b[1;32m    128\u001b[0m     _store_test_result(result \u001b[38;5;129;01mis\u001b[39;00m \u001b[38;5;129;01mnot\u001b[39;00m \u001b[38;5;28;01mNone\u001b[39;00m)\n\u001b[1;32m    130\u001b[0m \u001b[38;5;28;01mif\u001b[39;00m result \u001b[38;5;129;01mis\u001b[39;00m \u001b[38;5;28;01mNone\u001b[39;00m:\n\u001b[0;32m--> 131\u001b[0m     result \u001b[38;5;241m=\u001b[39m _evaluate_standard(op, op_str, a, b)\n\u001b[1;32m    133\u001b[0m \u001b[38;5;28;01mreturn\u001b[39;00m result\n",
      "File \u001b[0;32m/Applications/anaconda3/lib/python3.11/site-packages/pandas/core/computation/expressions.py:73\u001b[0m, in \u001b[0;36m_evaluate_standard\u001b[0;34m(op, op_str, a, b)\u001b[0m\n\u001b[1;32m     71\u001b[0m \u001b[38;5;28;01mif\u001b[39;00m _TEST_MODE:\n\u001b[1;32m     72\u001b[0m     _store_test_result(\u001b[38;5;28;01mFalse\u001b[39;00m)\n\u001b[0;32m---> 73\u001b[0m \u001b[38;5;28;01mreturn\u001b[39;00m op(a, b)\n",
      "File \u001b[0;32m/Applications/anaconda3/lib/python3.11/site-packages/pandas/core/roperator.py:15\u001b[0m, in \u001b[0;36mrsub\u001b[0;34m(left, right)\u001b[0m\n\u001b[1;32m     14\u001b[0m \u001b[38;5;28;01mdef\u001b[39;00m \u001b[38;5;21mrsub\u001b[39m(left, right):\n\u001b[0;32m---> 15\u001b[0m     \u001b[38;5;28;01mreturn\u001b[39;00m right \u001b[38;5;241m-\u001b[39m left\n",
      "\u001b[0;31mValueError\u001b[0m: operands could not be broadcast together with shapes (256,) (16,) "
     ]
    }
   ],
   "source": [
    "import plotly.graph_objects as go\n",
    "from plotly.subplots import make_subplots\n",
    "import numpy as np\n",
    "\n",
    "# x1, x2, ATP, y are 2D arrays\n",
    "x2_mesh, x1_mesh = np.meshgrid(x2, x1)\n",
    "\n",
    "# Flatten all arrays for simulation scatter plot\n",
    "x_vals = x1_mesh.flatten()  # [FAE] (µM)\n",
    "y_vals = x2_mesh.flatten()  # [AAP] (µM)\n",
    "z_vals = ATP.flatten()      # Simulated [ATP]/[ATP]₀ at T=90 s\n",
    "\n",
    "# Compute difference (Simulation - Experimental)\n",
    "diff = z_vals - y  # Can also use np.abs(ATP - y) for unsigned difference\n",
    "\n",
    "# Create subplot layout: 1 row, 3 columns\n",
    "fig = make_subplots(\n",
    "    rows=1, cols=3,\n",
    "    subplot_titles=(\"Simulation\", \"Experimental Data\", \"Difference (Sim - Exp)\"),\n",
    "    horizontal_spacing=0.07\n",
    ")\n",
    "\n",
    "# --- Left plot: Simulation ---\n",
    "fig.add_trace(go.Heatmap(\n",
    "    x=x_vals, y=y_vals, z=z_vals,\n",
    "    colorscale='Viridis',\n",
    "    colorbar=dict(title='[ATP]/[ATP]₀'),\n",
    "), row=1, col=1)\n",
    "\n",
    "# --- Middle plot: Experimental ---\n",
    "fig.add_trace(go.Heatmap(\n",
    "    x=x2, y=x1, z=y,\n",
    "    colorscale='Viridis',\n",
    "    showscale=False\n",
    "), row=1, col=2)\n",
    "\n",
    "# --- Right plot: Difference ---\n",
    "fig.add_trace(go.Heatmap(\n",
    "    x=x2, y=x1, z=diff,\n",
    "    colorscale='RdBu',  # Good for signed differences\n",
    "    colorbar=dict(title='Δ [ATP]/[ATP]₀')\n",
    "), row=1, col=3)\n",
    "\n",
    "# Update layout\n",
    "fig.update_layout(\n",
    "    height=500, width=1500,\n",
    "    showlegend=False,\n",
    "    font=dict(size=16)\n",
    ")\n",
    "\n",
    "# Update axis labels\n",
    "for col in range(1, 4):\n",
    "    fig.update_xaxes(title_text=f\"[{indepvar2}] (µM)\", row=1, col=col)\n",
    "fig.update_yaxes(title_text=f\"[{indepvar1}] (µM)\", row=1, col=1)\n",
    "fig.update_yaxes(title_text=\"\", row=1, col=2)\n",
    "fig.update_yaxes(title_text=\"\", row=1, col=3)\n",
    "\n",
    "fig.write_image(\"2varcolor_diff.png\")\n",
    "fig.show()"
   ]
  },
  {
   "cell_type": "markdown",
   "id": "0861a0b7",
   "metadata": {},
   "source": [
    "# Stochastic Simulation"
   ]
  },
  {
   "cell_type": "code",
   "execution_count": 132,
   "id": "16ec8115",
   "metadata": {},
   "outputs": [],
   "source": [
    "import gillespy2 as gillespy\n",
    "\n",
    "class MFASimulation(gillespy.Model):\n",
    "    \"\"\"\n",
    "    A stochastic simulation model for the MFA (Metabolic Flux Analysis) reaction system\n",
    "    using the Gillespie algorithm via gillespy2.\n",
    "\n",
    "    This model simulates the interaction between metabolites ATP, MFA, MFA*, FAE, and AAP \n",
    "    with reaction rates influenced by user-supplied parameters. The reactions are:\n",
    "\n",
    "        1. ATP + MFA + FAE → MFA* + FAE   (FAE acts catalytically)\n",
    "        2. MFA* + AAP → MFA + AAP         (AAP acts catalytically)\n",
    "\n",
    "    Parameters\n",
    "    ----------\n",
    "    concs : dict\n",
    "        Initial concentrations of the species, e.g.\n",
    "        {'ATP': 100, 'MFA': 50, 'MFA_star0': 0, 'FAE': 10, 'AAP': 10}\n",
    "    \n",
    "    rates : dict\n",
    "        Rate constants for the reactions, e.g.\n",
    "        {'k1_0': 0.1, 'k1_c': 0.01, 'k2_0': 0.05, 'k2_c': 0.02}\n",
    "\n",
    "    indepvar : str\n",
    "        Currently unused. Reserved for future functionality where one species may\n",
    "        be used as an independent variable in a parameter sweep or analysis.\n",
    "\n",
    "    Notes\n",
    "    -----\n",
    "    - The model uses string-based propensity functions with catalytic enhancement terms.\n",
    "    - FAE and AAP are assumed to act catalytically and are not consumed in their reactions.\n",
    "    - The simulation time span is fixed at 100 units, with 100 time steps.\n",
    "    \"\"\"\n",
    "    def __init__(self, concs, rates, indepvar):\n",
    "        super().__init__('MFA_Reaction')\n",
    "\n",
    "        # Parameters (rate constants)\n",
    "        self.k1_0 = gillespy.Parameter(name='k1_0', expression=rates['k1_0'])\n",
    "        self.k1_c = gillespy.Parameter(name='k1_c', expression=rates['k1_c'])\n",
    "        self.k2_0 = gillespy.Parameter(name='k2_0', expression=rates['k2_0'])\n",
    "        self.k2_c = gillespy.Parameter(name='k2_c', expression=rates['k2_c'])\n",
    "        self.add_parameter([self.k1_0, self.k1_c, self.k2_0, self.k2_c])\n",
    "\n",
    "        # Species (concentrations)\n",
    "        self.ATP = gillespy.Species(name='ATP', initial_value=concs['ATP'])\n",
    "        self.MFA = gillespy.Species(name='MFA', initial_value=concs['MFA'])\n",
    "        self.MFA_star = gillespy.Species(name='MFA_star', initial_value=concs['MFA_star0'])\n",
    "        self.FAE = gillespy.Species(name='FAE', initial_value=concs['FAE'])\n",
    "        self.AAP = gillespy.Species(name='AAP', initial_value=concs['AAP'])\n",
    "        self.add_species([self.ATP, self.MFA, self.MFA_star, self.FAE, self.AAP])\n",
    "\n",
    "        # Reaction 1: ATP + MFA + FAE → MFA* + FAE\n",
    "        reaction1 = gillespy.Reaction(\n",
    "            name='ATP_MFA_to_MFA_star',\n",
    "            reactants={self.ATP: 1, self.MFA: 1, self.FAE: 1},\n",
    "            products={self.MFA_star: 1, self.FAE: 1},\n",
    "            propensity_function=\"(k1_0 + k1_c * FAE) * ATP * MFA\"\n",
    "        )\n",
    "\n",
    "        # Reaction 2: MFA* + AAP → MFA + AAP\n",
    "        reaction2 = gillespy.Reaction(\n",
    "            name='MFA_star_to_MFA',\n",
    "            reactants={self.MFA_star: 1, self.AAP: 1},\n",
    "            products={self.MFA: 1, self.AAP: 1},\n",
    "            propensity_function=\"(k2_0 + k2_c * AAP) * MFA_star\"\n",
    "        )\n",
    "\n",
    "        self.add_reaction([reaction1, reaction2])\n",
    "\n",
    "        # Set simulation timespan\n",
    "        self.timespan(np.linspace(0, 310, 100))\n",
    "\n",
    "def units_coversion(conc, V):\n",
    "    \"\"\"Converts concentration and volume to number of molecules.\n",
    "\n",
    "    Args:\n",
    "        conc (float or np.array): \n",
    "        V (float): reaction Volume in liters\n",
    "    \"\"\"\n",
    "    NA = 6.022e23 #avagadro mol^-1\n",
    "    n = conc*NA # molecules / litre\n",
    "    N = n * V\n",
    "    return(np.round(N)) #round to integer\n",
    "\n"
   ]
  },
  {
   "cell_type": "code",
   "execution_count": 18,
   "id": "8a92c1bc",
   "metadata": {},
   "outputs": [],
   "source": [
    "simsstoch = {}"
   ]
  },
  {
   "cell_type": "code",
   "execution_count": 19,
   "id": "c9369ede",
   "metadata": {},
   "outputs": [
    {
     "name": "stderr",
     "output_type": "stream",
     "text": [
      "100%|██████████| 9/9 [00:42<00:00,  4.72s/it]\n",
      "100%|██████████| 6/6 [00:22<00:00,  3.79s/it]\n",
      "100%|██████████| 6/6 [00:23<00:00,  3.86s/it]\n",
      "100%|██████████| 6/6 [00:22<00:00,  3.67s/it]\n"
     ]
    }
   ],
   "source": [
    "V = 1e-15 #1 pico liter\n",
    "concs = {'ATP': units_coversion(1e-6 * 2000, V),\n",
    "         'MFA': units_coversion(1e-6 , V),\n",
    "         'MFA_star0': 0, 'FAE': 0, 'AAP':0}\n",
    "\n",
    "rates = {'k1_0': 0.00249/units_coversion(1e-6 , V) , 'k1_c': 0.03/units_coversion(1e-6 , V)**2,\n",
    "          'k2_0': 10000, 'k2_c': 25.0/units_coversion(1e-6 , V)} #work with 1microM MFA\n",
    "\n",
    "for i, title in enumerate(['MFAmain','MFAsup1','MFAsup2','MFAsup3']): #'MFAmain'\n",
    "\n",
    "    # load dataset of interest\n",
    "    x, y, indepvar, T = load_dataset(title)\n",
    "    x = x-1\n",
    "    # set the [enzyme] which is varried to array of what it is\n",
    "    concs[indepvar] = units_coversion(1e-6 * x.to_numpy(), V)\n",
    "    sim = simulation(concs, rates, indepvar)\n",
    "    sim.x = x; sim.y = y; sim.T = T\n",
    "    sim.Stoch_sim_over_var()\n",
    "    sim.interpolate(sim.T)\n",
    "\n",
    "    simsstoch[title] = sim"
   ]
  },
  {
   "cell_type": "code",
   "execution_count": 20,
   "id": "4645e205",
   "metadata": {},
   "outputs": [
    {
     "name": "stderr",
     "output_type": "stream",
     "text": [
      "/Applications/anaconda3/lib/python3.11/site-packages/seaborn/_oldcore.py:1119: FutureWarning:\n",
      "\n",
      "use_inf_as_na option is deprecated and will be removed in a future version. Convert inf values to NaN before operating instead.\n",
      "\n",
      "/Applications/anaconda3/lib/python3.11/site-packages/seaborn/_oldcore.py:1119: FutureWarning:\n",
      "\n",
      "use_inf_as_na option is deprecated and will be removed in a future version. Convert inf values to NaN before operating instead.\n",
      "\n",
      "/Applications/anaconda3/lib/python3.11/site-packages/seaborn/_oldcore.py:1119: FutureWarning:\n",
      "\n",
      "use_inf_as_na option is deprecated and will be removed in a future version. Convert inf values to NaN before operating instead.\n",
      "\n",
      "/Applications/anaconda3/lib/python3.11/site-packages/seaborn/_oldcore.py:1119: FutureWarning:\n",
      "\n",
      "use_inf_as_na option is deprecated and will be removed in a future version. Convert inf values to NaN before operating instead.\n",
      "\n",
      "/Applications/anaconda3/lib/python3.11/site-packages/seaborn/_oldcore.py:1119: FutureWarning:\n",
      "\n",
      "use_inf_as_na option is deprecated and will be removed in a future version. Convert inf values to NaN before operating instead.\n",
      "\n",
      "/Applications/anaconda3/lib/python3.11/site-packages/seaborn/_oldcore.py:1119: FutureWarning:\n",
      "\n",
      "use_inf_as_na option is deprecated and will be removed in a future version. Convert inf values to NaN before operating instead.\n",
      "\n",
      "/Applications/anaconda3/lib/python3.11/site-packages/seaborn/_oldcore.py:1119: FutureWarning:\n",
      "\n",
      "use_inf_as_na option is deprecated and will be removed in a future version. Convert inf values to NaN before operating instead.\n",
      "\n",
      "/Applications/anaconda3/lib/python3.11/site-packages/seaborn/_oldcore.py:1119: FutureWarning:\n",
      "\n",
      "use_inf_as_na option is deprecated and will be removed in a future version. Convert inf values to NaN before operating instead.\n",
      "\n"
     ]
    },
    {
     "name": "stdout",
     "output_type": "stream",
     "text": [
      "Fit parameters: [ 0.99980513 -0.21206622]  R^2: 0.9960762845841125\n",
      "Fit parameters: [ 0.990097   -0.23649915]  R^2: 0.9877793777605801\n",
      "Fit parameters: [ 1.00630678 -0.4606118 ]  R^2: 0.9936896313523746\n",
      "Fit parameters: [ 0.92576284 -0.7136051 ]  R^2: 0.9893299234720905\n"
     ]
    },
    {
     "data": {
      "image/png": "[encoded data removed]",
      "text/plain": [
       "<Figure size 600x500 with 1 Axes>"
      ]
     },
     "metadata": {},
     "output_type": "display_data"
    }
   ],
   "source": [
    "fig, ax = plt.subplots(figsize=figsize)\n",
    "for i, title in enumerate(['MFAmain','MFAsup1','MFAsup2','MFAsup3']): #'AAPsup1','AAPsup2','AAPsup3'\n",
    "    sim = simsstoch[title]\n",
    "    shift = 0\n",
    "    plot_scatter(ax,  sim.x, (sim.y), label=f\"{title}, T={sim.T}\", color=nicecolors[i], alpha=1, marker='o')\n",
    "    plot_scatter(ax, sim.x, (sim.Tmes),marker='X', color=nicecolors[i])\n",
    "\n",
    "    #fit exponetial and shift\n",
    "    popt, popc, R2 = plot_fit(ax, sim.x, (sim.y), exp_fit, color=nicecolors[i], label = None)\n",
    "    # popt, popc, R2 = plot_fit(ax, sim.x, (sim.Tmes), exp_fitC, color=nicecolors[i], label = None, linestyle='--')\n",
    "\n",
    "    plot_labels(ax, f\"[{indepvar}]$/\\mu$M\", r\"[ATP]/[ATP$_0$]\", f\"{indepvar} kinetics\") #T={sim.T}\n",
    "    plot_lims(ax, sim.x, sim.Tmes, [0,'d'],[0,1.])\n",
    "    plot_ticks(ax)\n",
    "    \n",
    "    sim = sims[title]\n",
    "    plot_scatter(ax, sim.var_concs, (sim.Tmes),marker='v', color=nicecolors[i],alpha=1)\n",
    "\n",
    "    #fit exponetial and shift\n",
    "    # popt, popc, R2 = plot_fit(ax, sim.x, (sim.y), exp_fit, color=nicecolors[0], label = None)\n",
    "    # popt, popc, R2 = plot_fit(ax, sim.var_concs, (sim.Tmes), exp_fitC, color=nicecolors[1], label = None, linestyle='--')\n",
    "\n",
    "    plot_labels(ax, f\"[{indepvar}]$/\\mu$M\", r\"[ATP]/[ATP$_0$]\", f\"{indepvar} kinetics\") #T={sim.T}\n",
    "    plot_lims(ax, sim.var_concs, sim.Tmes, [0,'d'],[0,1.])\n",
    "    plot_ticks(ax)\n",
    "    \n",
    "plt.scatter( [],[],marker='v', color='black',label='Deterministic Sim',alpha=1)\n",
    "plt.scatter( [],[],marker='X', color='black',label='Stochastic Sim',alpha=1)\n",
    "\n",
    "plot_legend(ax, legfts = 9, loc='lower left')\n",
    "plt.title(f\"Stochastic vs Deterministic Simulation\", fontsize=16)\n",
    "name = 'MFA_stoch_plot'\n",
    "if save ==True:\n",
    "    plt.savefig(f'{name}.png', dpi=1500)"
   ]
  },
  {
   "cell_type": "code",
   "execution_count": 187,
   "id": "f3fd70a4",
   "metadata": {},
   "outputs": [
    {
     "data": {
      "text/plain": [
       "{'MFAmain': <__main__.simulation at 0x16d861190>,\n",
       " 'MFAsup1': <__main__.simulation at 0x16d94fad0>,\n",
       " 'MFAsup2': <__main__.simulation at 0x16d861710>,\n",
       " 'MFAsup3': <__main__.simulation at 0x16dede250>,\n",
       " 'AAPmain': <__main__.simulation at 0x30e37e250>,\n",
       " 'FAEsup1': <__main__.simulation at 0x30e48f350>}"
      ]
     },
     "execution_count": 187,
     "metadata": {},
     "output_type": "execute_result"
    }
   ],
   "source": [
    "simsstoch"
   ]
  },
  {
   "cell_type": "code",
   "execution_count": 188,
   "id": "7c12c119",
   "metadata": {},
   "outputs": [
    {
     "data": {
      "text/plain": [
       "array([  0., 120., 151., 181., 211., 241., 301.])"
      ]
     },
     "execution_count": 188,
     "metadata": {},
     "output_type": "execute_result"
    }
   ],
   "source": [
    "simsstoch['FAEsup1'].var_concs"
   ]
  },
  {
   "cell_type": "code",
   "execution_count": null,
   "id": "219f440c",
   "metadata": {},
   "outputs": [
    {
     "name": "stderr",
     "output_type": "stream",
     "text": [
      "100%|██████████| 9/9 [00:34<00:00,  3.87s/it]\n"
     ]
    }
   ],
   "source": [
    "# define rates and concerntraions\n",
    "V = 1e-15 #1 pico liter\n",
    "concs = {'ATP': units_coversion(1e-6 * 2000, V),\n",
    "         'MFA': units_coversion(1e-6 , V),\n",
    "         'MFA_star0': 0, 'FAE': 0, 'AAP':0}\n",
    "\n",
    "rates = {'k1_0': 3.5*0.00249/units_coversion(1e-6 , V) , 'k1_c': 0.03/units_coversion(1e-6 , V)**2,\n",
    "          'k2_0': 3.5, 'k2_c': 25.0/units_coversion(1e-6 , V)} #work with 1microM MFA\n",
    "\n",
    "\n",
    "for i, title in enumerate(['AAPmain','AAPsup1','AAPsup2','AAPsup3']):\n",
    "\n",
    "    # load dataset of interest\n",
    "    x, y, indepvar, T = load_dataset(title)\n",
    "    \n",
    "    # set the [enzyme] which is varried to array of what it is\n",
    "    concs[indepvar] = units_coversion(1e-6 * x.to_numpy(), V)\n",
    "    sim = simulation(concs, rates, indepvar)\n",
    "    sim.x = x; sim.y = y; sim.T = T\n",
    "    sim.Stoch_sim_over_var()\n",
    "    sim.interpolate(sim.T)\n",
    "\n",
    "    simsstoch[title] = sim"
   ]
  },
  {
   "cell_type": "code",
   "execution_count": 71,
   "id": "a8e9e9b8",
   "metadata": {},
   "outputs": [],
   "source": [
    "import plotting_presets as pp"
   ]
  },
  {
   "cell_type": "code",
   "execution_count": 155,
   "id": "89684a8f",
   "metadata": {},
   "outputs": [
    {
     "data": {
      "image/png": "[encoded data removed]",
      "text/plain": [
       "<Figure size 900x750 with 2 Axes>"
      ]
     },
     "metadata": {},
     "output_type": "display_data"
    }
   ],
   "source": [
    "import matplotlib.pyplot as plt\n",
    "import numpy as np\n",
    "import matplotlib.cm as cm\n",
    "import matplotlib.colors as colors\n",
    "\n",
    "xconc = []\n",
    "yconc = []\n",
    "sim = simsstoch['FAEsup1']\n",
    "fig, ax = plt.subplots(figsize=figsize)\n",
    "\n",
    "# Assume sim.var_concs is [AAP] in M or µM (convert as needed)\n",
    "AAP_concs = np.array([sim.var_concs[i]/units_coversion(1e-6 , V) for i in range(len(sim.var_concs))])  # [AAP] values\n",
    "\n",
    "# Normalize [AAP] for colormap\n",
    "norm = colors.Normalize(vmin=AAP_concs.min(), vmax=AAP_concs.max())\n",
    "cmap = cm.viridis\n",
    "sm = cm.ScalarMappable(cmap=cmap, norm=norm)\n",
    "sm.set_array([])\n",
    "\n",
    "for i, trajectory in enumerate(sim.results):\n",
    "    aap_val =sim.var_concs[i]/units_coversion(1e-6 , V)  # [AAP] value\n",
    "    color = cmap(norm(aap_val))\n",
    "\n",
    "    ax.plot(trajectory['time'], trajectory['MFA']/ concs['MFA'],\n",
    "            label=f\"[AAP] = {aap_val:.2g} µM\", color=color, alpha=0.9)\n",
    "\n",
    "    xconc.append(aap_val / units_coversion(1e-6, V))  # Or just `aap_val` if already in µM\n",
    "    yconc.append(trajectory['MFA'].mean() / concs['MFA'])\n",
    "    errors = trajectory['MFA'].std() / concs['MFA']\n",
    "\n",
    "xconc = np.array(xconc)\n",
    "yconc = np.array(yconc)\n",
    "\n",
    "# Add colorbar for [AAP]\n",
    "cbar = plt.colorbar(sm, ax=ax)\n",
    "cbar.set_label('[AAP] (µM)', fontsize=14)\n",
    "cbar.ax.tick_params(labelsize=12)\n",
    "\n",
    "# Axes styling\n",
    "ax.set_xlabel(\"Time (s)\", fontsize=14)\n",
    "ax.set_ylabel(\"[MFA]\", fontsize=14)\n",
    "ax.tick_params(labelsize=12)"
   ]
  },
  {
   "cell_type": "code",
   "execution_count": 122,
   "id": "557723e2",
   "metadata": {},
   "outputs": [
    {
     "data": {
      "text/plain": [
       "array([6022.,    0.,    0.,    0.,    0.,    0.,    0.,    0.,    0.,\n",
       "          0.,    0.,    0.,    0.,    0.,    0.,    0.,    0.,    0.,\n",
       "          0.,    0.,    0.,    0.,    0.,    0.,    0.,    0.,    0.,\n",
       "          0.,    0.,    0.,    0.,    0.,    0.,    0.,    0.,    0.,\n",
       "          0.,    0.,    0.,    0.,    0.,    0.,    0.,    0.,    0.,\n",
       "          0.,    0.,    0.,    0.,    0.,    0.,    0.,    0.,    0.,\n",
       "          0.,    0.,    0.,    0.,    0.,    0.,    0.,    0.,    0.,\n",
       "          0., 5969., 6022., 6022., 6022., 6022., 6022., 6022., 6022.,\n",
       "       6022., 6022., 6022., 6022., 6022., 6022., 6022., 6022., 6022.,\n",
       "       6022., 6022., 6022., 6022., 6022., 6022., 6022., 6022., 6022.,\n",
       "       6022., 6022., 6022., 6022., 6022., 6022., 6022., 6022., 6022.,\n",
       "       6022.])"
      ]
     },
     "execution_count": 122,
     "metadata": {},
     "output_type": "execute_result"
    }
   ],
   "source": [
    "simsstoch['FAEsup1'].results[1]['MFA']"
   ]
  },
  {
   "cell_type": "code",
   "execution_count": 140,
   "id": "06a95129",
   "metadata": {},
   "outputs": [
    {
     "data": {
      "image/png": "[encoded data removed]",
      "text/plain": [
       "<Figure size 900x600 with 1 Axes>"
      ]
     },
     "metadata": {},
     "output_type": "display_data"
    }
   ],
   "source": [
    "for i, res in enumerate(simsstoch['FAEsup1'].results):\n",
    "    plt.plot(simsstoch['FAEsup1'].results[i]['ATP'])"
   ]
  },
  {
   "cell_type": "code",
   "execution_count": 150,
   "id": "a7d25a0b",
   "metadata": {},
   "outputs": [
    {
     "data": {
      "text/plain": [
       "array([  0., 198., 176., 205., 200., 185., 204., 179., 181., 179., 194.,\n",
       "       171., 200., 197., 210., 186., 188., 186., 188., 187., 172., 167.,\n",
       "       180., 190., 170., 197., 195., 168., 177., 174., 177., 192., 177.,\n",
       "       161., 149., 167., 179., 207., 160., 179., 165., 180., 180., 171.,\n",
       "       146., 176., 154., 174., 159., 179., 173., 175., 159., 170., 159.,\n",
       "       155., 152., 169., 183., 158., 146., 154., 167., 162., 163., 151.,\n",
       "       151., 161., 159., 143., 149., 148., 149., 150., 148., 151., 152.,\n",
       "       149., 148., 148., 150., 159., 162., 142., 132., 141., 118., 125.,\n",
       "       143., 141., 149., 166., 154., 138., 127., 146., 138., 132., 136.,\n",
       "       134.])"
      ]
     },
     "execution_count": 150,
     "metadata": {},
     "output_type": "execute_result"
    }
   ],
   "source": [
    "trajectory['MFA_star']"
   ]
  },
  {
   "cell_type": "code",
   "execution_count": 154,
   "id": "8e943c46",
   "metadata": {},
   "outputs": [
    {
     "name": "stdout",
     "output_type": "stream",
     "text": [
      "Fit parameters: [0.13587302 0.34989303]  R^2: 0.06971174675849745\n"
     ]
    },
    {
     "name": "stderr",
     "output_type": "stream",
     "text": [
      "/var/folders/pt/tzm_d9zs1yzdflvw_9xczlvw0000gn/T/ipykernel_94394/2280481935.py:14: RuntimeWarning:\n",
      "\n",
      "divide by zero encountered in power\n",
      "\n",
      "/var/folders/pt/tzm_d9zs1yzdflvw_9xczlvw0000gn/T/ipykernel_94394/2280481935.py:14: RuntimeWarning:\n",
      "\n",
      "invalid value encountered in divide\n",
      "\n",
      "/var/folders/pt/tzm_d9zs1yzdflvw_9xczlvw0000gn/T/ipykernel_94394/2280481935.py:14: RuntimeWarning:\n",
      "\n",
      "invalid value encountered in power\n",
      "\n",
      "/Applications/anaconda3/lib/python3.11/site-packages/seaborn/_oldcore.py:1119: FutureWarning:\n",
      "\n",
      "use_inf_as_na option is deprecated and will be removed in a future version. Convert inf values to NaN before operating instead.\n",
      "\n",
      "/Applications/anaconda3/lib/python3.11/site-packages/seaborn/_oldcore.py:1119: FutureWarning:\n",
      "\n",
      "use_inf_as_na option is deprecated and will be removed in a future version. Convert inf values to NaN before operating instead.\n",
      "\n"
     ]
    },
    {
     "data": {
      "image/png": "[encoded data removed]",
      "text/plain": [
       "<Figure size 900x750 with 1 Axes>"
      ]
     },
     "metadata": {},
     "output_type": "display_data"
    }
   ],
   "source": [
    "# Plot results\n",
    "xconc = []\n",
    "yconc = []\n",
    "sim = simsstoch['FAEsup1']\n",
    "fig, ax = plt.subplots(figsize=figsize)\n",
    "for i, trajectory in enumerate(sim.results):\n",
    "    # plt.plot(trajectory['time'], trajectory['MFA'],label=sim.var_concs[i], alpha=0.3)\n",
    "    xconc.append(sim.var_concs[i]/units_coversion(1e-6 , V))\n",
    "    yconc.append(trajectory['MFA_star'].mean()/concs['MFA'])\n",
    "    errors = trajectory['MFA_star'].std()/concs['MFA']\n",
    "xconc = np.array(xconc); yconc = np.array(yconc)\n",
    "\n",
    "# fit to hill function (but shift due to catalytic effect )\n",
    "hill = lambda L, K_A, n: L**n/(L**n+ K_A**n) #+ yconc.min()\n",
    "hill_label = lambda K_A, n: f\"KD= {K_A:.2f}, n={n:.2f})\"\n",
    "plot_scatter(ax, xconc, yconc, color=nicecolors[0], marker='o')\n",
    "plt.errorbar(xconc, yconc, yerr=errors, fmt='o', capsize=3,color=nicecolors[0], label='mean [MFA]')\n",
    "\n",
    "popt, popc, R2 = plot_fit(ax, xconc, yconc, hill, label=hill_label,color=nicecolors[1])\n",
    "plot_lims(ax, xconc, yconc, [0,'d'],[0,1])\n",
    "plot_labels(ax, f'[{sim.indepvar}]', \"[MFA]\", \"Hill behavoir\")\n",
    "plot_ticks(ax, default_ticks=6)\n",
    "plot_legend(ax, legfts = 10, loc='lower right')\n",
    "name = 'AAP_hill_plot'\n",
    "if save ==True:\n",
    "    plt.savefig(f'{name}.png', dpi=1500)"
   ]
  },
  {
   "cell_type": "code",
   "execution_count": 80,
   "id": "9c3d2a10",
   "metadata": {},
   "outputs": [
    {
     "name": "stderr",
     "output_type": "stream",
     "text": [
      "/Applications/anaconda3/lib/python3.11/site-packages/seaborn/_oldcore.py:1119: FutureWarning:\n",
      "\n",
      "use_inf_as_na option is deprecated and will be removed in a future version. Convert inf values to NaN before operating instead.\n",
      "\n",
      "/Applications/anaconda3/lib/python3.11/site-packages/seaborn/_oldcore.py:1119: FutureWarning:\n",
      "\n",
      "use_inf_as_na option is deprecated and will be removed in a future version. Convert inf values to NaN before operating instead.\n",
      "\n"
     ]
    },
    {
     "ename": "KeyError",
     "evalue": "'AAPsup1'",
     "output_type": "error",
     "traceback": [
      "\u001b[0;31m---------------------------------------------------------------------------\u001b[0m",
      "\u001b[0;31mKeyError\u001b[0m                                  Traceback (most recent call last)",
      "Cell \u001b[0;32mIn[80], line 3\u001b[0m\n\u001b[1;32m      1\u001b[0m fig, ax \u001b[38;5;241m=\u001b[39m plt\u001b[38;5;241m.\u001b[39msubplots(figsize\u001b[38;5;241m=\u001b[39mfigsize)\n\u001b[1;32m      2\u001b[0m \u001b[38;5;28;01mfor\u001b[39;00m i, title \u001b[38;5;129;01min\u001b[39;00m \u001b[38;5;28menumerate\u001b[39m([\u001b[38;5;124m'\u001b[39m\u001b[38;5;124mAAPmain\u001b[39m\u001b[38;5;124m'\u001b[39m,\u001b[38;5;124m'\u001b[39m\u001b[38;5;124mAAPsup1\u001b[39m\u001b[38;5;124m'\u001b[39m,\u001b[38;5;124m'\u001b[39m\u001b[38;5;124mAAPsup2\u001b[39m\u001b[38;5;124m'\u001b[39m,\u001b[38;5;124m'\u001b[39m\u001b[38;5;124mAAPsup3\u001b[39m\u001b[38;5;124m'\u001b[39m]): \u001b[38;5;66;03m#'AAPsup1','AAPsup2','AAPsup3'\u001b[39;00m\n\u001b[0;32m----> 3\u001b[0m     sim \u001b[38;5;241m=\u001b[39m simsstoch[title]\n\u001b[1;32m      4\u001b[0m     shift \u001b[38;5;241m=\u001b[39m \u001b[38;5;241m0\u001b[39m\n\u001b[1;32m      5\u001b[0m     plot_data(ax,  sim\u001b[38;5;241m.\u001b[39mx, (sim\u001b[38;5;241m.\u001b[39my), label\u001b[38;5;241m=\u001b[39m\u001b[38;5;124mf\u001b[39m\u001b[38;5;124m\"\u001b[39m\u001b[38;5;132;01m{\u001b[39;00mtitle\u001b[38;5;132;01m}\u001b[39;00m\u001b[38;5;124m, T=\u001b[39m\u001b[38;5;132;01m{\u001b[39;00msim\u001b[38;5;241m.\u001b[39mT\u001b[38;5;132;01m}\u001b[39;00m\u001b[38;5;124m\"\u001b[39m, color\u001b[38;5;241m=\u001b[39mnicecolors[i], alpha\u001b[38;5;241m=\u001b[39m\u001b[38;5;241m1\u001b[39m)\n",
      "\u001b[0;31mKeyError\u001b[0m: 'AAPsup1'"
     ]
    },
    {
     "data": {
      "image/png": "[encoded data removed]",
      "text/plain": [
       "<Figure size 900x750 with 1 Axes>"
      ]
     },
     "metadata": {},
     "output_type": "display_data"
    }
   ],
   "source": [
    "fig, ax = plt.subplots(figsize=figsize)\n",
    "for i, title in enumerate(['AAPmain','AAPsup1','AAPsup2','AAPsup3']): #'AAPsup1','AAPsup2','AAPsup3'\n",
    "    sim = simsstoch[title]\n",
    "    shift = 0\n",
    "    plot_data(ax,  sim.x, (sim.y), label=f\"{title}, T={sim.T}\", color=nicecolors[i], alpha=1)\n",
    "    plot_scatter(ax, sim.x, (sim.Tmes),marker='X', color=nicecolors[i])\n",
    "\n",
    "    #fit exponetial and shift\n",
    "    # popt, popc, R2 = plot_fit(ax, sim.x, (sim.y), exp_fit, color=nicecolors[i], label = None)\n",
    "    # popt, popc, R2 = plot_fit(ax, sim.x, (sim.Tmes), exp_fitC, color=nicecolors[i], label = None, linestyle='--')\n",
    "\n",
    "    plot_labels(ax, f\"[{indepvar}]$/\\mu$M\", r\"[ATP]/[ATP$_0$]\", f\"{indepvar} kinetics\") #T={sim.T}\n",
    "    plot_lims(ax, sim.x, sim.Tmes, [0,'d'],[0,1.])\n",
    "    plot_ticks(ax)\n",
    "    \n",
    "    sim = sims[title]\n",
    "    plot_scatter(ax, sim.var_concs, (sim.Tmes),marker='v', color=nicecolors[i],alpha=1)\n",
    "\n",
    "    #fit exponetial and shift\n",
    "    # popt, popc, R2 = plot_fit(ax, sim.x, (sim.y), exp_fit, color=nicecolors[0], label = None)\n",
    "    # popt, popc, R2 = plot_fit(ax, sim.var_concs, (sim.Tmes), exp_fitC, color=nicecolors[1], label = None, linestyle='--')\n",
    "\n",
    "    plot_labels(ax, f\"[{indepvar}]$/\\mu$M\", r\"[ATP]/[ATP$_0$]\", f\"{indepvar} kinetics\") #T={sim.T}\n",
    "    plot_lims(ax, sim.var_concs, sim.Tmes, [0,'d'],[0,1.])\n",
    "    plot_ticks(ax)\n",
    "    \n",
    "plt.scatter( [],[],marker='v', color='black',label='Deterministic Sim',alpha=1)\n",
    "plt.scatter( [],[],marker='X', color='black',label='Stochastic Sim',alpha=1)\n",
    "\n",
    "plot_legend(ax, legfts = 9, loc='lower left')\n",
    "plt.title(f\"Stochastic vs Deterministic Simulation\", fontsize=16)\n",
    "name = 'AAP_stoch_plot'\n",
    "if save ==True:\n",
    "    plt.savefig(f'{name}.png', dpi=1500)"
   ]
  },
  {
   "cell_type": "code",
   "execution_count": 152,
   "id": "5d47aeee",
   "metadata": {},
   "outputs": [
    {
     "name": "stderr",
     "output_type": "stream",
     "text": [
      "100%|██████████| 7/7 [00:26<00:00,  3.82s/it]\n"
     ]
    }
   ],
   "source": [
    "V = 1e-15 #1 pico liter\n",
    "concs = {'ATP': units_coversion(1e-6 * 2000, V),\n",
    "         'MFA': units_coversion(1e-6 , V),\n",
    "         'MFA_star0': 0, 'FAE': 0, 'AAP':0}\n",
    "\n",
    "rates = {'k1_0': 0.00249/units_coversion(1e-6 , V) , 'k1_c': 0.05/units_coversion(1e-6 , V)**2,\n",
    "          'k2_0': 10, 'k2_c': 25.0/units_coversion(1e-6 , V)} #work with 1microM MFA\n",
    "\n",
    "for i, title in enumerate(['FAEsup1']): #'MFAmain'\n",
    "\n",
    "    # load dataset of interest\n",
    "    x, y, indepvar, T = load_dataset(title)\n",
    "    # set the [enzyme] which is varried to array of what it is\n",
    "    concs[indepvar] = units_coversion(1e-6 * x.to_numpy(), V)\n",
    "    sim = simulation(concs, rates, indepvar)\n",
    "    sim.x = x; sim.y = y; sim.T = T\n",
    "    sim.Stoch_sim_over_var()\n",
    "    sim.interpolate(sim.T)\n",
    "\n",
    "    simsstoch[title] = sim"
   ]
  },
  {
   "cell_type": "code",
   "execution_count": 153,
   "id": "627af76a",
   "metadata": {},
   "outputs": [
    {
     "name": "stderr",
     "output_type": "stream",
     "text": [
      "/Applications/anaconda3/lib/python3.11/site-packages/seaborn/_oldcore.py:1119: FutureWarning:\n",
      "\n",
      "use_inf_as_na option is deprecated and will be removed in a future version. Convert inf values to NaN before operating instead.\n",
      "\n",
      "/Applications/anaconda3/lib/python3.11/site-packages/seaborn/_oldcore.py:1119: FutureWarning:\n",
      "\n",
      "use_inf_as_na option is deprecated and will be removed in a future version. Convert inf values to NaN before operating instead.\n",
      "\n"
     ]
    },
    {
     "data": {
      "image/png": "[encoded data removed]",
      "text/plain": [
       "<Figure size 900x750 with 1 Axes>"
      ]
     },
     "metadata": {},
     "output_type": "display_data"
    }
   ],
   "source": [
    "fig, ax = plt.subplots(figsize=figsize)\n",
    "for i, title in enumerate(['FAEsup1']): #'AAPsup1','AAPsup2','AAPsup3'\n",
    "    sim = simsstoch[title]\n",
    "    shift = 0\n",
    "    plot_data(ax,  sim.x, (sim.y), label=f\"{title}, T={sim.T}\", color=nicecolors[i], alpha=1)\n",
    "    plot_scatter(ax, sim.x, (sim.Tmes),marker='X', color=nicecolors[i])\n",
    "\n",
    "    #fit exponetial and shift\n",
    "    # popt, popc, R2 = plot_fit(ax, sim.x, (sim.y), exp_fit, color=nicecolors[i], label = None)\n",
    "    # popt, popc, R2 = plot_fit(ax, sim.x, (sim.Tmes), exp_fitC, color=nicecolors[i], label = None, linestyle='--')\n",
    "\n",
    "    plot_labels(ax, f\"[{indepvar}]$/\\mu$M\", r\"[ATP]/[ATP$_0$]\", f\"{indepvar} kinetics\") #T={sim.T}\n",
    "    plot_lims(ax, sim.x, sim.Tmes, [0,'d'],[0,1.])\n",
    "    plot_ticks(ax)\n",
    "    \n",
    "    sim = sims[title]\n",
    "    plot_scatter(ax, sim.var_concs, (sim.Tmes),marker='v', color=nicecolors[i],alpha=1)\n",
    "\n",
    "    #fit exponetial and shift\n",
    "    # popt, popc, R2 = plot_fit(ax, sim.x, (sim.y), exp_fit, color=nicecolors[0], label = None)\n",
    "    # popt, popc, R2 = plot_fit(ax, sim.var_concs, (sim.Tmes), exp_fitC, color=nicecolors[1], label = None, linestyle='--')\n",
    "\n",
    "    plot_labels(ax, f\"[{indepvar}]$/\\mu$M\", r\"[ATP]/[ATP$_0$]\", f\"{indepvar} kinetics\") #T={sim.T}\n",
    "    plot_lims(ax, sim.var_concs, sim.Tmes, [0,'d'],[0,1.])\n",
    "    plot_ticks(ax)\n",
    "    \n",
    "plt.scatter( [],[],marker='v', color='black',label='Deterministic Sim',alpha=1)\n",
    "plt.scatter( [],[],marker='X', color='black',label='Stochastic Sim',alpha=1)\n",
    "\n",
    "plot_legend(ax, legfts = 9, loc='lower left')\n",
    "plt.title(f\"Stochastic vs Deterministic Simulation\", fontsize=16)\n",
    "name = 'AAP_stoch_plot'\n",
    "if save ==True:\n",
    "    plt.savefig(f'{name}.png', dpi=1500)"
   ]
  },
  {
   "cell_type": "code",
   "execution_count": 93,
   "id": "be01b849",
   "metadata": {},
   "outputs": [
    {
     "ename": "KeyError",
     "evalue": "'MFA'",
     "output_type": "error",
     "traceback": [
      "\u001b[0;31m---------------------------------------------------------------------------\u001b[0m",
      "\u001b[0;31mKeyError\u001b[0m                                  Traceback (most recent call last)",
      "Cell \u001b[0;32mIn[93], line 8\u001b[0m\n\u001b[1;32m      5\u001b[0m \u001b[38;5;28;01mfor\u001b[39;00m i, trajectory \u001b[38;5;129;01min\u001b[39;00m \u001b[38;5;28menumerate\u001b[39m(sim\u001b[38;5;241m.\u001b[39mresults):\n\u001b[1;32m      6\u001b[0m     \u001b[38;5;66;03m# plt.plot(trajectory['time'], trajectory['MFA'],label=sim.var_concs[i], alpha=0.3)\u001b[39;00m\n\u001b[1;32m      7\u001b[0m     xconc\u001b[38;5;241m.\u001b[39mappend(sim\u001b[38;5;241m.\u001b[39mvar_concs[i]\u001b[38;5;241m/\u001b[39munits_coversion(\u001b[38;5;241m1e-6\u001b[39m , V))\n\u001b[0;32m----> 8\u001b[0m     yconc\u001b[38;5;241m.\u001b[39mappend(trajectory[\u001b[38;5;124m'\u001b[39m\u001b[38;5;124mMFA\u001b[39m\u001b[38;5;124m'\u001b[39m]\u001b[38;5;241m.\u001b[39mmean()\u001b[38;5;241m/\u001b[39mconcs[\u001b[38;5;124m'\u001b[39m\u001b[38;5;124mMFA\u001b[39m\u001b[38;5;124m'\u001b[39m])\n\u001b[1;32m      9\u001b[0m     errors \u001b[38;5;241m=\u001b[39m trajectory[\u001b[38;5;124m'\u001b[39m\u001b[38;5;124mMFA\u001b[39m\u001b[38;5;124m'\u001b[39m]\u001b[38;5;241m.\u001b[39mstd()\u001b[38;5;241m/\u001b[39mconcs[\u001b[38;5;124m'\u001b[39m\u001b[38;5;124mMFA\u001b[39m\u001b[38;5;124m'\u001b[39m]\n\u001b[1;32m     10\u001b[0m xconc \u001b[38;5;241m=\u001b[39m np\u001b[38;5;241m.\u001b[39marray(xconc); yconc \u001b[38;5;241m=\u001b[39m np\u001b[38;5;241m.\u001b[39marray(yconc)\n",
      "\u001b[0;31mKeyError\u001b[0m: 'MFA'"
     ]
    },
    {
     "data": {
      "image/png": "[encoded data removed]",
      "text/plain": [
       "<Figure size 900x750 with 1 Axes>"
      ]
     },
     "metadata": {},
     "output_type": "display_data"
    }
   ],
   "source": [
    "# Plot results\n",
    "xconc = []\n",
    "yconc = []\n",
    "fig, ax = plt.subplots(figsize=figsize)\n",
    "for i, trajectory in enumerate(sim.results):\n",
    "    # plt.plot(trajectory['time'], trajectory['MFA'],label=sim.var_concs[i], alpha=0.3)\n",
    "    xconc.append(sim.var_concs[i]/units_coversion(1e-6 , V))\n",
    "    yconc.append(trajectory['MFA'].mean()/concs['MFA'])\n",
    "    errors = trajectory['MFA'].std()/concs['MFA']\n",
    "xconc = np.array(xconc); yconc = np.array(yconc)\n",
    "\n",
    "# fit to hill function (but shift due to catalytic effect )\n",
    "hill = lambda L, K_A, n: L**n/(L**n+ K_A**n) #+ yconc.min()\n",
    "hill_label = lambda K_A, n: f\"KD= {K_A:.2f}, n={n:.2f})\"\n",
    "plot_scatter(ax, xconc, yconc, color=nicecolors[0], marker='o')\n",
    "plt.errorbar(xconc, yconc, yerr=errors, fmt='o', capsize=3,color=nicecolors[0], label='mean [MFA]')\n",
    "\n",
    "popt, popc, R2 = plot_fit(ax, xconc, yconc, hill, label=hill_label,color=nicecolors[1])\n",
    "plot_lims(ax, xconc, yconc, [0,'d'],[0,1])\n",
    "plot_labels(ax, f'[{sim.indepvar}]', \"[MFA]\", \"Hill behavoir\")\n",
    "plot_ticks(ax, default_ticks=6)\n",
    "plot_legend(ax, legfts = 10, loc='lower right')\n",
    "name = 'FAE_hill_plot'\n",
    "if save ==True:\n",
    "    plt.savefig(f'{name}.png', dpi=1500)"
   ]
  }
 ],
 "metadata": {
  "kernelspec": {
   "display_name": "base",
   "language": "python",
   "name": "python3"
  },
  "language_info": {
   "codemirror_mode": {
    "name": "ipython",
    "version": 3
   },
   "file_extension": ".py",
   "mimetype": "text/x-python",
   "name": "python",
   "nbconvert_exporter": "python",
   "pygments_lexer": "ipython3",
   "version": "3.11.5"
  }
 },
 "nbformat": 4,
 "nbformat_minor": 5
}
