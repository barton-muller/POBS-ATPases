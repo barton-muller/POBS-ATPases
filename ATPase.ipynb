{
  "cells": [
    {
      "cell_type": "markdown",
      "metadata": {
        "id": "ZneUw9t3aEvo"
      },
      "source": [
        "# Theory\n"
      ]
    },
    {
      "cell_type": "markdown",
      "metadata": {
        "id": "5CVTq0JpAJKb"
      },
      "source": [
        "### General Equations\n",
        "$$ATP + Mfa \\xrightarrow{Fae} Mfa^*$$  \n",
        "$$Mfa^* \\xrightarrow{Aap} Mfa$$  \n",
        "\n",
        "$$\\frac{d[ATP]}{dt} = - (k_1 + k_f [Fae])[Mfa][ATP] $$  \n",
        "$$\\frac{d[Mfa]}{dt} = - (k_1 + k_f [Fae])[Mfa][ATP] + (k_2+k_A [Aap])[Mfa^*]$$  \n",
        "\n",
        "$$ \\frac{d[Mfa]}{dt} = -\\frac{d[Mfa^*]}{dt}$$  \n",
        "$$ \\implies Mfa + Mfa^* = Const$$  \n",
        "\n",
        "### Mfa Steady State  \n",
        "Assume $\\frac{d[Mfa]}{dt}= 0$  \n",
        "$$(k_1 + k_f [Fae])[Mfa][ATP]= (k_2+k_A [Aap])$$  \n",
        "$$\\frac{d[ATP]}{dt} = - (k_1 + k_f [Fae])[Mfa][ATP] $$  \n",
        "\n",
        "with solution:  \n",
        "$$ ATP(t) = [ATP_0] e^{-(k_1 + k_f [Fae])[Mfa] t} $$  \n",
        "since $(k_1 + k_f [Fae])[Mfa] = Const$  \n",
        "\n",
        "Suspect 44a with no catalysts has Mfa in steady state due to exponential dependence.  \n",
        "\n",
        "\n"
      ]
    },
    {
      "cell_type": "markdown",
      "metadata": {
        "id": "MQQlRRm2cqgb"
      },
      "source": [
        "\n",
        "\n",
        "# Loading data from the excel file"
      ]
    },
    {
      "cell_type": "code",
      "execution_count": 748,
      "metadata": {
        "colab": {
          "base_uri": "https://localhost:8080/"
        },
        "id": "LKcV8BgOfce3",
        "outputId": "8b4e89a3-5503-420c-9faa-c4cc63d7ee4d"
      },
      "outputs": [],
      "source": [
        "# from google.colab import drive\n",
        "# drive.mount('/content/drive')"
      ]
    },
    {
      "cell_type": "code",
      "execution_count": 749,
      "metadata": {
        "id": "V1oOw1kUfp-3"
      },
      "outputs": [],
      "source": [
        "import pandas as pd\n",
        "import numpy as np\n",
        "from tqdm import tqdm\n",
        "\n",
        "pd.options.display.float_format = '{:.2f}'.format\n",
        "\n",
        "def extract_datasets_with_titles(df):\n",
        "    \"\"\"\n",
        "    Extracts individual datasets from a DataFrame separated by rows containing 'x'\n",
        "    and assigns dataset titles from the corresponding row.\n",
        "\n",
        "    Args:\n",
        "        df: The pandas DataFrame containing the data.\n",
        "\n",
        "    Returns:\n",
        "        A dictionary where keys are dataset titles and values are corresponding DataFrames.\n",
        "    \"\"\"\n",
        "    datasets = {}\n",
        "\n",
        "    # Store the dataset title\n",
        "    x_indicies = []\n",
        "    for index, row in df.iterrows():\n",
        "        row_values = row.values\n",
        "        # Check if row contains 'x', meaning it's a dataset separator\n",
        "        if 'x' in str(row_values):\n",
        "            x_indicies.append(index)\n",
        "\n",
        "\n",
        "    for i, index in enumerate(x_indicies[:-1]):\n",
        "        Title = df.iloc[index,1]\n",
        "        T = df.iloc[index,2]\n",
        "\n",
        "        # Save previous dataset (if exists)\n",
        "        df_extracted = pd.DataFrame(df.iloc[index+1:x_indicies[i+1]])\n",
        "        # print(df_extracted)\n",
        "        df_extracted = df_extracted.dropna(axis=1, how='all').dropna(axis=0, how='all')  # Clean NaNs\n",
        "\n",
        "        df_extracted.attrs['T'] = T\n",
        "        df_extracted.attrs['Title'] = Title\n",
        "\n",
        "        datasets[Title] = df_extracted  # Store dataset with its title\n",
        "\n",
        "    Title = df.iloc[x_indicies[-1],1]\n",
        "    T = df.iloc[x_indicies[-1],2]\n",
        "    df_extracted = pd.DataFrame(df.iloc[x_indicies[-1]+1:])\n",
        "    df_extracted = df_extracted.dropna(axis=1, how='all').dropna(axis=0, how='all')  # Clean NaNs\n",
        "    df_extracted.attrs['T'] = T\n",
        "    df_extracted.attrs['Title'] = Title\n",
        "    datasets[Title] = df_extracted  # Store dataset with its title\n",
        "\n",
        "\n",
        "    return datasets"
      ]
    },
    {
      "cell_type": "code",
      "execution_count": 750,
      "metadata": {
        "colab": {
          "base_uri": "https://localhost:8080/"
        },
        "id": "_eiJaJpBCqqp",
        "outputId": "37f5a5af-ae42-43a9-8512-d22b0bc7c62e"
      },
      "outputs": [
        {
          "data": {
            "text/plain": [
              "dict_keys(['MFAmain', 'FAEmain', 'AAPmain', 'ALLmain', 'MFAsup1', 'MFAsup2', 'MFAsup3', 'FAEsup1', 'FAEsup2', 'FAEsup3', 'AAPsup1', 'AAPsup2', 'AAPsup3'])"
            ]
          },
          "execution_count": 750,
          "metadata": {},
          "output_type": "execute_result"
        }
      ],
      "source": [
        "# Load CSV file\n",
        "datapath = 'data_new.csv'\n",
        "df = pd.read_csv(datapath)\n",
        "\n",
        "# Extract datasets with titles\n",
        "datasets = extract_datasets_with_titles(df)\n",
        "\n",
        "# Rename row indices\n",
        "custom_row_names7 = [\"Rep1\", \"Rep2\", \"Rep3\", \"Rep4\", \"MFA\", \"FAE\", \"AAP\"]\n",
        "custom_row_names6 = [\"Rep1\", \"Rep2\", \"Rep3\", \"MFA\", \"FAE\", \"AAP\"]\n",
        "\n",
        "for title, dataset in datasets.items():\n",
        "    if len(dataset) == 7:  # Ensure enough rows exist\n",
        "        dataset.index = custom_row_names7[:len(dataset)]\n",
        "        dataset = dataset.astype(float)\n",
        "    if len(dataset) == 6:  # Ensure enough rows exist\n",
        "        dataset.index = custom_row_names6[:len(dataset)]\n",
        "        dataset = dataset.astype(float)\n",
        "\n",
        "    last_rows = dataset.iloc[-3:]\n",
        "    dataset.attrs['buffer_indicies'] = []\n",
        "\n",
        "    for index, i in enumerate(last_rows.columns):\n",
        "      if (last_rows[i] == 0).all():\n",
        "\n",
        "        dataset.rename(columns={i: f'buffer {index}'}, inplace=True)\n",
        "        dataset.attrs['buffer_indicies'] += [f'buffer {index}']\n",
        "    datasets[title] = dataset\n",
        "\n",
        "(datasets).keys()"
      ]
    },
    {
      "cell_type": "code",
      "execution_count": 751,
      "metadata": {
        "id": "cWOGyUqpmOWz"
      },
      "outputs": [],
      "source": [
        "# find mean, std, ... and add to table\n",
        "def add_stats(title):\n",
        "  data = datasets[title]\n",
        "  rep_rows = data.loc[data.index.str.contains(\"Rep\")]\n",
        "  data.loc[\"mean\"] = rep_rows.mean()\n",
        "  data.loc[\"std\"] = rep_rows.std()\n",
        "  data.loc[\"rsm\"] = data.loc[\"std\"]/len(rep_rows)**0.5\n",
        "\n",
        "  #find mean... for all buffer measuremets\n",
        "  # create df of only buffere data\n",
        "  buffer_columns = data.columns[data.columns.str.contains(\"buffer\")]\n",
        "  buf_cols = data[buffer_columns]\n",
        "  rep_rows = buf_cols.loc[buf_cols.index.str.contains(\"Rep\")]\n",
        "  #then find quants\n",
        "  buf_mean = rep_rows.values.mean()\n",
        "  buf_std = rep_rows.values.std()\n",
        "  buf_SE = rep_rows.values.std()/(rep_rows.values.size**0.5)\n",
        "  #save to overall df metadata\n",
        "  data.attrs[\"buffer\"] = {\"mean\":buf_mean, \"std\":buf_std, \"SE\":buf_SE}\n",
        "  data.loc['norm_mean'] = data.loc['mean']/buf_mean\n",
        "\n",
        "#add the nam,e of the independent varieable\n",
        "variables = {'MFAmain':'MFA',\n",
        "             'FAEmain':'FAE',\n",
        "             'AAPmain':'AAP',\n",
        "             'ALLmain':'multi',\n",
        "             'MFAsup1':'MFA',\n",
        "             'MFAsup2':'MFA',\n",
        "             'MFAsup3':'MFA',\n",
        "             'FAEsup1':'FAE',\n",
        "             'FAEsup2':'FAE',\n",
        "             'FAEsup3':'FAE',\n",
        "             'AAPsup1':'AAP',\n",
        "             'AAPsup2':'AAP',\n",
        "             'AAPsup3':'AAP'}\n",
        "for title in datasets.keys():\n",
        "    dataset = datasets[title]\n",
        "    datasets[title].attrs['variable'] = variables[title]\n",
        "\n",
        "for title in datasets.keys():\n",
        "  add_stats(title)\n"
      ]
    },
    {
      "cell_type": "code",
      "execution_count": 752,
      "metadata": {
        "colab": {
          "base_uri": "https://localhost:8080/"
        },
        "id": "W2OFJKAeEKXo",
        "outputId": "e7c6a9ad-84e2-42b5-a29c-a2ce75066d94"
      },
      "outputs": [
        {
          "name": "stdout",
          "output_type": "stream",
          "text": [
            "Dataset Title: MFAmain\n",
            "Dataset Title: FAEmain\n",
            "Dataset Title: AAPmain\n",
            "Dataset Title: ALLmain\n",
            "Dataset Title: MFAsup1\n",
            "Dataset Title: MFAsup2\n",
            "Dataset Title: MFAsup3\n",
            "Dataset Title: FAEsup1\n",
            "Dataset Title: FAEsup2\n",
            "Dataset Title: FAEsup3\n",
            "Dataset Title: AAPsup1\n",
            "Dataset Title: AAPsup2\n",
            "Dataset Title: AAPsup3\n"
          ]
        }
      ],
      "source": [
        "# Display datasets with titles\n",
        "from IPython.display import display\n",
        "for title, dataset in datasets.items():\n",
        "    print(f\"Dataset Title: {title}\")\n",
        "    if 0: #Set to 1 to show\n",
        "      display(dataset)\n",
        "      print(\"-\"*40)"
      ]
    },
    {
      "cell_type": "markdown",
      "metadata": {
        "id": "Q5d9LNz8avWp"
      },
      "source": [
        "# Analysing Data"
      ]
    },
    {
      "cell_type": "markdown",
      "metadata": {
        "id": "iYokRExSiN6i"
      },
      "source": [
        "### My plotting functions"
      ]
    },
    {
      "cell_type": "code",
      "execution_count": 753,
      "metadata": {
        "id": "kyLXuh2lEclh"
      },
      "outputs": [],
      "source": [
        "# plotting functions\n",
        "import numpy as np\n",
        "import matplotlib.pyplot as plt\n",
        "import seaborn as sns\n",
        "import matplotlib.ticker as ticker\n",
        "from scipy.interpolate import griddata\n",
        "from scipy.optimize import curve_fit\n",
        "\n",
        "nicecolors = [\"royalblue\", \"darkorange\", \"limegreen\", \"purple\", \"teal\", \"gold\", \"fuchsia\", \"maroon\", \"gray\", \"black\"]\n",
        "\n",
        "def plot_scatter(ax, x, y, label=None, color=\"royalblue\", marker=None, alpha=0.7):\n",
        "    \"\"\"\n",
        "    Plots a scatter plot on the given axes.\n",
        "\n",
        "    Args:\n",
        "        ax (matplotlib.axes.Axes): The axes on which to plot.\n",
        "        x (array-like): The x-coordinates of the data points.\n",
        "        y (array-like): The y-coordinates of the data points.\n",
        "        label (str, optional): The label for the scatter plot. Defaults to None.\n",
        "        color (str, optional): The color of the scatter plot. Defaults to \"royalblue\".\n",
        "    \"\"\"\n",
        "    label = f'{label}' if label else None\n",
        "    # Plot data\n",
        "    sns.scatterplot(x=x, y=y, ax=ax, label=label, color=color, marker=marker, alpha=alpha)\n",
        "    sns.despine(ax=ax)\n",
        "\n",
        "def plot_line(ax, x, y, label=None, color=\"royalblue\", marker=None, alpha=0.7):\n",
        "    \"\"\"\n",
        "    Plots a line plot on the given axes.\n",
        "\n",
        "    Args:\n",
        "        ax (matplotlib.axes.Axes): The axes on which to plot.\n",
        "        x (array-like): The x-coordinates of the data points.\n",
        "        y (array-like): The y-coordinates of the data points.\n",
        "        label (str, optional): The label for the line plot. Defaults to None.\n",
        "        color (str, optional): The color of the line plot. Defaults to \"royalblue\".\n",
        "        marker (str, optional): The marker style for the line plot. Defaults to None.\n",
        "    \"\"\"\n",
        "    label = f'{label}' if label else None\n",
        "    # Plot data\n",
        "    sns.lineplot(x=x, y=y, ax=ax, label=label, color=color, marker=marker, alpha=alpha)\n",
        "    sns.despine(ax=ax)\n",
        "\n",
        "def plot_data(ax, x, y, label=None, color=\"royalblue\", marker='o', alpha=0.7):\n",
        "    \"\"\"\n",
        "    Plots a line plot on the given axes.\n",
        "\n",
        "    Args:\n",
        "        ax (matplotlib.axes.Axes): The axes on which to plot.\n",
        "        x (array-like): The x-coordinates of the data points.\n",
        "        y (array-like): The y-coordinates of the data points.\n",
        "        label (str, optional): The label for the line plot. Defaults to None.\n",
        "        color (str, optional): The color of the line plot. Defaults to \"royalblue\".\n",
        "        marker (str, optional): The marker style for the line plot. Defaults to None.\n",
        "    \"\"\"\n",
        "    label = f'{label}' if label else None\n",
        "    # Plot data\n",
        "    sns.lineplot(x=x, y=y, ax=ax, label=label, color=color, marker=marker, alpha=alpha)\n",
        "    sns.despine(ax=ax)\n",
        "\n",
        "def plot_labels(ax, xlabel='', ylabel='', title='', fts=16):\n",
        "    \"\"\"\n",
        "    Sets the labels and title of the given axes.\n",
        "\n",
        "    Args:\n",
        "        ax (matplotlib.axes.Axes): The axes to modify.\n",
        "        xlabel (str, optional): The label for the x-axis. Defaults to ''.\n",
        "        ylabel (str, optional): The label for the y-axis. Defaults to ''.\n",
        "        title (str, optional): The title of the plot. Defaults to ''.\n",
        "        fts (int, optional): The font size for the labels and title. Defaults to 16.\n",
        "    \"\"\"\n",
        "    # Labels and title\n",
        "    ax.set_xlabel(xlabel, fontsize=fts)\n",
        "    ax.set_ylabel(ylabel, fontsize=fts)\n",
        "    ax.set_title(title, fontsize=fts)\n",
        "\n",
        "def plot_fit(ax, x, y, fit_func, color=None, linestyle=None, label=None, p0=None):\n",
        "    \"\"\"\n",
        "    Fits a curve to the data and plots the fit on the given axes.\n",
        "\n",
        "    Args:\n",
        "        ax (matplotlib.axes.Axes): The axes on which to plot.\n",
        "        x (array-like): The x-coordinates of the data points.\n",
        "        y (array-like): The y-coordinates of the data points.\n",
        "        fit_func (callable): The function to use for fitting.\n",
        "        color (str, optional): The color of the fit line. Defaults to None.\n",
        "        linestyle (str, optional): The linestyle of the fit line. Defaults to None.\n",
        "        label (str or callable, optional): The label for the fit line. If callable,\n",
        "          it will be called with the fit parameters. Defaults to None.\n",
        "\n",
        "    Returns:\n",
        "        tuple: A tuple containing the fit parameters, covariance matrix, and R^2 value.\n",
        "    \"\"\"\n",
        "    # Fit curve\n",
        "    popt, popc = curve_fit(fit_func, x, y, p0=p0)\n",
        "\n",
        "    if callable(label):\n",
        "        label = label(*popt)\n",
        "    spread = max(x) - min(x)\n",
        "    xfit = np.linspace(min(x) - spread, max(x) + spread, 1000)\n",
        "    y_fit = fit_func(xfit, *popt)\n",
        "    label = f'{label}' if label else None\n",
        "    sns.lineplot(ax=ax, x=xfit, y=y_fit, label=label, color=color, linestyle=linestyle, alpha=0.7)\n",
        "\n",
        "    # Compute R^2\n",
        "    ss_res = np.sum((y - fit_func(x, *popt)) ** 2)  # Residual sum of squares\n",
        "    ss_tot = np.sum((y - np.mean(y)) ** 2)  # Total sum of squares\n",
        "    R2 = 1 - (ss_res / ss_tot)\n",
        "    print(f'Fit parameters: {popt}', f' R^2: {R2}')\n",
        "    return popt, popc, R2\n",
        "\n",
        "def plot_lims(ax, x, y, xlims=['d', 'd'], ylims=['d', 'd']):\n",
        "    \"\"\"\n",
        "    Sets the limits of the x and y axes.\n",
        "\n",
        "    Args:\n",
        "        ax (matplotlib.axes.Axes): The axes to modify.\n",
        "        x (array-like): The x-coordinates of the data points.\n",
        "        y (array-like): The y-coordinates of the data points.\n",
        "        xlims (list, optional): The limits for the x-axis. 'd' indicates default limits. Defaults to ['d', 'd'].\n",
        "        ylims (list, optional): The limits for the y-axis. 'd' indicates default limits. Defaults to ['d', 'd'].\n",
        "    \"\"\"\n",
        "    span = lambda x: max(x) - min(x)\n",
        "    if ylims:\n",
        "        if ylims[0] == 'd':\n",
        "            ylims[0] = min(y) - span(y) * 0.05\n",
        "        if ylims[1] == 'd':\n",
        "            ylims[1] = max(y) + span(y) * 0.05\n",
        "        ax.set_ylim(ylims)\n",
        "    if xlims:\n",
        "        if xlims[0] == 'd':\n",
        "            xlims[0] = min(x) - span(x) * 0.05\n",
        "        if xlims[1] == 'd':\n",
        "            xlims[1] = max(x) + span(x) * 0.05\n",
        "        ax.set_xlim(xlims)\n",
        "\n",
        "def plot_ticks(ax,fts =12, x_ticks=None, y_ticks=None, x_scale=None, y_scale=None, default_ticks=5):\n",
        "    \"\"\"\n",
        "    Adjusts the ticks of a matplotlib axis to look nicer, with improved tick value selection.\n",
        "\n",
        "    Args:\n",
        "        ax (matplotlib.axes.Axes): The axis to adjust.\n",
        "        x_ticks (int or list, optional): Number of x-axis ticks or explicit tick positions.\n",
        "        y_ticks (int or list, optional): Number of y-axis ticks or explicit tick positions.\n",
        "        x_scale (str, optional): Scaling of the x-axis ('linear', 'log', etc.).\n",
        "        y_scale (str, optional): Scaling of the y-axis ('linear', 'log', etc.).\n",
        "        default_ticks (int, optional): The default number of ticks if x_ticks or y_ticks are not provided.\n",
        "    \"\"\"\n",
        "\n",
        "    if x_ticks is None:\n",
        "        if x_scale == 'log':\n",
        "            ax.xaxis.set_major_locator(ticker.LogLocator(numticks=default_ticks))\n",
        "        else:\n",
        "            ax.xaxis.set_major_locator(ticker.MaxNLocator(nbins=default_ticks, integer=False))  # changed to MaxNLocator\n",
        "    elif isinstance(x_ticks, int):\n",
        "        if x_scale == 'log':\n",
        "            ax.xaxis.set_major_locator(ticker.LogLocator(numticks=x_ticks))\n",
        "        else:\n",
        "            ax.xaxis.set_major_locator(ticker.MaxNLocator(nbins=x_ticks, integer=False))  # changed to MaxNLocator\n",
        "    else:\n",
        "        ax.set_xticks(x_ticks)\n",
        "\n",
        "    if y_ticks is None:\n",
        "        if y_scale == 'log':\n",
        "            ax.yaxis.set_major_locator(ticker.LogLocator(numticks=default_ticks))\n",
        "        else:\n",
        "            ax.yaxis.set_major_locator(ticker.MaxNLocator(nbins=default_ticks, integer=False))  # changed to MaxNLocator\n",
        "    elif isinstance(y_ticks, int):\n",
        "        if y_scale == 'log':\n",
        "            ax.yaxis.set_major_locator(ticker.LogLocator(numticks=y_ticks))\n",
        "        else:\n",
        "            ax.yaxis.set_major_locator(ticker.MaxNLocator(nbins=y_ticks, integer=False))  # changed to MaxNLocator\n",
        "    else:\n",
        "        ax.set_yticks(y_ticks)\n",
        "\n",
        "    if x_scale == 'log':\n",
        "        ax.xaxis.set_major_formatter(ticker.ScalarFormatter())\n",
        "    if y_scale == 'log':\n",
        "        ax.yaxis.set_major_formatter(ticker.ScalarFormatter())\n",
        "\n",
        "    ax.tick_params(axis='both', which='major', labelsize=10)\n",
        "    ax.tick_params(axis='both', which='minor', labelsize=8)\n",
        "    ax.tick_params(axis='both', which='both', direction='out')\n",
        "    ax.tick_params(axis='both', which='major', length=5)\n",
        "    ax.tick_params(axis='both', which='minor', length=2.5)\n",
        "\n",
        "    if x_scale == 'log':\n",
        "        ax.xaxis.set_minor_locator(ticker.LogLocator(subs='auto'))\n",
        "    if y_scale == 'log':\n",
        "        ax.yaxis.set_minor_locator(ticker.LogLocator(subs='auto'))\n",
        "    if x_scale == 'linear':\n",
        "        ax.xaxis.set_minor_locator(ticker.AutoMinorLocator())\n",
        "    if y_scale == 'linear':\n",
        "        ax.yaxis.set_minor_locator(ticker.AutoMinorLocator())\n",
        "\n",
        "    ax.tick_params(axis='x', labelsize=fts)\n",
        "    ax.tick_params(axis='y', labelsize=fts)\n",
        "\n",
        "def plot_legend(ax, legfts=12, loc=None, remove=[]):\n",
        "    \"\"\"\n",
        "    Adds a legend to the given axis with optional customization.\n",
        "\n",
        "    Parameters:\n",
        "    ax (matplotlib.axes.Axes): The axis to add the legend to.\n",
        "    legfts (int, optional): Font size of the legend. Defaults to 12.\n",
        "    loc (str or int, optional): Location of the legend. Uses Matplotlib's legend location codes. Defaults to None.\n",
        "    remove (list, optional): List of indices of legend items to exclude. Defaults to an empty list.\n",
        "\n",
        "    Returns:\n",
        "    None\n",
        "    \"\"\"\n",
        "    handles, labels = ax.get_legend_handles_labels()\n",
        "    nlabels = [item for i, item in enumerate(labels) if i not in remove]\n",
        "    nhandles = [item for i, item in enumerate(handles) if i not in remove]\n",
        "    ax.legend(handles=nhandles, labels=nlabels, fontsize=legfts, loc=loc)\n",
        "\n",
        "\n",
        "def plot_show(fig,ax, save_path=None):\n",
        "    \"\"\"\n",
        "    Adjusts the layout of the figure and either displays or saves it.\n",
        "\n",
        "    Parameters:\n",
        "    fig (matplotlib.figure.Figure): The figure to display or save.\n",
        "    save_path (str, optional): File path to save the figure. If None, the figure is shown instead. Defaults to None.\n",
        "\n",
        "    Returns:\n",
        "    None\n",
        "    \"\"\"\n",
        "    fig.tight_layout()\n",
        "    if save_path:\n",
        "        fig.savefig(save_path, dpi=300, bbox_inches='tight')\n",
        "    fig.show()\n",
        "\n",
        "\n",
        "# fitting lambda functions\n",
        "exp_fit = lambda x, a, b: a* np.exp( b * x)\n",
        "exp_label = lambda a, b: f\"$y = {a:.2f} e^{{{b:.2f} x}}$\"\n",
        "\n",
        "exp_fitC = lambda x, a, b, c: a* np.exp( b * x) + c\n",
        "expC_label = lambda a, b, c: f\"$y = {a:.2f} e^{{{b:.2f} x}} + {c:.2f}$\"\n",
        "\n",
        "linear_fit = lambda x, a, b: a*x + b\n",
        "linear_label = lambda a, b: f\"$y = {a:.2f}x+ {b:.2f}$\"\n",
        "\n",
        "quad_fit = lambda x, a, b, c: a*x**2 + b*x +c\n",
        "quad_label = lambda a, b, c: f\"$y = {a:.2f}x^2 + {b:.2f}x+c$\"\n"
      ]
    },
    {
      "cell_type": "markdown",
      "metadata": {
        "id": "BHbZAU9-SZjA"
      },
      "source": [
        "### Basic plot with fit for single experiment"
      ]
    },
    {
      "cell_type": "code",
      "execution_count": 754,
      "metadata": {
        "colab": {
          "base_uri": "https://localhost:8080/",
          "height": 461
        },
        "id": "IpKtMb_XEtcZ",
        "outputId": "e0dbd3b2-319c-49ff-e6a4-927f775bd0da"
      },
      "outputs": [
        {
          "name": "stdout",
          "output_type": "stream",
          "text": [
            "Fit parameters: [ 0.89661009 -2.20240684]  R^2: 0.8797463962752563\n",
            "Fit parameters: [-1.46536527  0.88445786]  R^2: 0.9301699976725877\n",
            "Fit parameters: [-2.66684888 -0.53196817  0.83778801]  R^2: 0.9609782728946344\n"
          ]
        },
        {
          "name": "stderr",
          "output_type": "stream",
          "text": [
            "/var/folders/pt/tzm_d9zs1yzdflvw_9xczlvw0000gn/T/ipykernel_9441/479999845.py:232: UserWarning:\n",
            "\n",
            "Matplotlib is currently using module://matplotlib_inline.backend_inline, which is a non-GUI backend, so cannot show the figure.\n",
            "\n"
          ]
        },
        {
          "data": {
            "image/png": "[encoded data removed]",
            "text/plain": [
              "<Figure size 600x400 with 1 Axes>"
            ]
          },
          "metadata": {},
          "output_type": "display_data"
        }
      ],
      "source": [
        "fig, ax = plt.subplots(figsize=(6, 4))\n",
        "\n",
        "dataset = datasets['FAEmain'] #choose dataset to explore\n",
        "buffer_indices = dataset.attrs.get('buffer_indicies', [])\n",
        "data = dataset.drop(columns=buffer_indices) #get only data values not buffer\n",
        "slicer = slice(None,None) #to remove certain indicies of data e.g 1st\n",
        "x = data.loc[data.attrs['variable']][slicer] # the indepvariable (conc varried)\n",
        "y = data.loc[\"norm_mean\"][slicer] #luminosity normed by avg buffer\n",
        "\n",
        "\n",
        "plot_data(ax, x, y, label=f\"{data.attrs.get('Title')}\", color=nicecolors[0])\n",
        "\n",
        "# some different fits\n",
        "popt, popc, R2 = plot_fit(ax, x, y, exp_fit, label = exp_label, color=nicecolors[1])\n",
        "popt, popc, R2 = plot_fit(ax, x, y, linear_fit, label = linear_label, color=nicecolors[2])\n",
        "popt, popc, R2 = plot_fit(ax, x, y, quad_fit, label = quad_label, color=nicecolors[3])\n",
        "\n",
        "plot_labels(ax, x.name, '[ATP]', f\"{data.attrs.get('Title')}\")\n",
        "# ax.legend().set_visible(False) #seaborn always adds axis\n",
        "plot_legend(ax, legfts = 8) #remove=[1,3,5,7] remove fit labels from legend\n",
        "plot_lims(ax, x, y, [0,'d'],[0,1.]) #set lims to max of all points ('d' is default)\n",
        "plot_ticks(ax) #make ticks nicer\n",
        "plot_show(fig, ax)"
      ]
    },
    {
      "cell_type": "markdown",
      "metadata": {
        "id": "mf0aU1_SShBH"
      },
      "source": [
        "### Plot all experiments in list"
      ]
    },
    {
      "cell_type": "code",
      "execution_count": 755,
      "metadata": {
        "colab": {
          "base_uri": "https://localhost:8080/",
          "height": 478
        },
        "id": "MzgFfSOa1xKn",
        "outputId": "2defd442-536b-4fbc-c55b-a95fff7ffbb9"
      },
      "outputs": [
        {
          "name": "stdout",
          "output_type": "stream",
          "text": [
            "Fit parameters: [ 1.23598889 -0.21206623]  R^2: 0.9960762845841071\n",
            "Fit parameters: [ 1.25426129 -0.23649915]  R^2: 0.9877793777605801\n",
            "Fit parameters: [ 1.59503997 -0.46061181]  R^2: 0.9936896313523752\n",
            "Fit parameters: [ 1.88979417 -0.7136051 ]  R^2: 0.9893299234720907\n"
          ]
        },
        {
          "name": "stderr",
          "output_type": "stream",
          "text": [
            "/var/folders/pt/tzm_d9zs1yzdflvw_9xczlvw0000gn/T/ipykernel_9441/479999845.py:232: UserWarning:\n",
            "\n",
            "Matplotlib is currently using module://matplotlib_inline.backend_inline, which is a non-GUI backend, so cannot show the figure.\n",
            "\n"
          ]
        },
        {
          "data": {
            "image/png": "[encoded data removed]",
            "text/plain": [
              "<Figure size 600x400 with 1 Axes>"
            ]
          },
          "metadata": {},
          "output_type": "display_data"
        }
      ],
      "source": [
        "#plot the basic plot for all datasets in a list for comparisson\n",
        "fig, ax = plt.subplots(figsize=(6, 4))\n",
        "i=0\n",
        "allx = []\n",
        "ally = []\n",
        "for title in ['MFAmain','MFAsup1','MFAsup2','MFAsup3']:\n",
        "  dataset = datasets[title]\n",
        "  buffer_indices = dataset.attrs.get('buffer_indicies', [])\n",
        "  data = dataset.drop(columns=buffer_indices) #get only data values not buffer\n",
        "  if data.attrs['variable'] != 'multi':\n",
        "    x = data.loc[data.attrs['variable']]\n",
        "    y = data.loc[\"norm_mean\"] #luminosity normed by avg buffer\n",
        "\n",
        "\n",
        "    plot_data(ax, x, y, label=f\"{data.attrs.get('Title')}, T={data.attrs['T']}\", color=nicecolors[i])\n",
        "\n",
        "    popt, popc, R2 = plot_fit(ax, x, y, exp_fit, label = exp_label, color=nicecolors[i])\n",
        "    plot_labels(ax, x.name,'[ATP]', f\"{data.attrs.get('Title')}\")\n",
        "    # ax.legend().set_visible(False) #seaborn always adds axis\n",
        "\n",
        "    i+=1\n",
        "    #make sure limits include all points\n",
        "    allx += x.tolist()\n",
        "    ally += y.tolist()\n",
        "plot_legend(ax, legfts = 8) #remove=[1,3,5,7] remove fit labels from legend\n",
        "plot_lims(ax, allx, ally, [0,'d'],[0,1.5]) #set lims to max of all points\n",
        "plot_ticks(ax) #make ticks nicer\n",
        "plot_show(fig, ax)"
      ]
    },
    {
      "cell_type": "markdown",
      "metadata": {
        "id": "gFYmj-IhR_o2"
      },
      "source": [
        "### plot allsup data sets whoch are actaully just  FFA and AAP sets merged\n",
        "probably should permantly seperate"
      ]
    },
    {
      "cell_type": "markdown",
      "metadata": {
        "id": "AFJTIqDLOAgg"
      },
      "source": [
        "# Simulation"
      ]
    },
    {
      "cell_type": "markdown",
      "metadata": {},
      "source": [
        "## Dimesnsionless Sims"
      ]
    },
    {
      "cell_type": "markdown",
      "metadata": {},
      "source": [
        "$$a = [ATP]/[ATP_0]$$\n",
        "$$m = [MFA]/[MFA_0]$$\n",
        "\n",
        "$$\\lambda_0 = k_1 + k_f [FAE]$$\n",
        "$$\\gamma_0 = k_2 + k_a [AAP]$$\n",
        "$$ \\beta = \\gamma / \\lambda$$\n",
        "$$ \\alpha = [ATP_0]/ [MFA_0]$$\n",
        "\n",
        "$$\\tau = t \\lambda_0$$\n",
        "$$ \\frac{da}{d\\tau}= -ma$$\n",
        "$$ \\frac{dm}{d\\tau}= -\\alpha ma + \\beta (1-m)$$\n"
      ]
    },
    {
      "cell_type": "code",
      "execution_count": 756,
      "metadata": {},
      "outputs": [],
      "source": [
        "from scipy.integrate import solve_ivp\n",
        "\n",
        "class simulation:\n",
        "    \"\"\"\n",
        "    A class to simulate the kinetics of a biochemical reaction system involving ATP MFA, and MFA*.\n",
        "\n",
        "    Attributes:\n",
        "        rates (dict): Dictionary of rate constants for the reactions.\n",
        "        concs (dict): Dictionary of initial concentrations for species.\n",
        "        indepvar (str): Name of the independent variable for parameter sweep (conc that changes).\n",
        "        var_concs (list): List of concentration values to iterate over during simulation.\n",
        "        results (list): Stores simulation outputs for each parameter value.\n",
        "    \"\"\"\n",
        "\n",
        "    def __init__(self, concs, rates):\n",
        "        \"\"\"\n",
        "        Initialize the simulation with initial concentrations, rate constants, and an independent variable.\n",
        "\n",
        "        Args:\n",
        "            concs (dict): Initial concentrations of species.\n",
        "            rates (dict): Reaction rate constants (intrinsic and catalyzed).\n",
        "            indepvar (str): The variable whose values will be varied during simulations.\n",
        "        \"\"\"\n",
        "        # the stoch sims just use the dicts\n",
        "        self.concs = concs\n",
        "        self.rates = rates\n",
        "        # other sims use idiviual vars for each component/rate\n",
        "        self.a = 1\n",
        "        self.m = 1\n",
        "        self.m_star = 0\n",
        "\n",
        "        self.alpha = rates['alpha']\n",
        "        self.gamma = rates['gamma']\n",
        "        self.lambd = rates['lambda']\n",
        "\n",
        "        self.results = []\n",
        "\n",
        "    def reaction_system(self, t, y):\n",
        "        \"\"\"\n",
        "        Defines the system of ODEs for the reaction kinetics.\n",
        "\n",
        "        Args:\n",
        "            t (float): Time variable (not used, required by solver).\n",
        "            y (list): Current concentrations of ATP, MFA, and MFA_star.\n",
        "\n",
        "        Returns:\n",
        "            list: Derivatives of concentrations.\n",
        "        \"\"\"\n",
        "        a, m = y\n",
        " \n",
        "        da_dtau = -  a * m\n",
        "        dm_dtau = - self.alpha * m * a + self.gamma / self.lambd * (1 - m)\n",
        "\n",
        "        return [da_dtau, dm_dtau]\n",
        "\n",
        "    def simulate(self):\n",
        "        \"\"\"\n",
        "        Run a deterministic simulation using the ODE model and store the ATP trajectory.\n",
        "        \"\"\"\n",
        "        t_max = sim.T +20\n",
        "        tau = lambda t: t * self.lambd\n",
        "        time_span = (0, tau(t_max))\n",
        "        self.time_eval = np.linspace(0, tau(t_max), 200)\n",
        "        sol = solve_ivp(self.reaction_system, time_span, [self.a, self.m], t_eval=self.time_eval)\n",
        "        self.results.append({'time': sol.t, 'ATP': sol.y[0]})\n",
        "\n",
        "    def sim_over_var(self):\n",
        "        \"\"\"\n",
        "        Run deterministic simulations over a range of values for the independent variable.\n",
        "        \"\"\"\n",
        "        for c in self.var_concs:\n",
        "            # this sets the e.g. self.'MFA' to c\n",
        "            setattr(self, self.indepvar, c)\n",
        "            # simulate\n",
        "            self.simulate()\n",
        "\n",
        "    def sim_over_two_vars(self, var1, var2, var1_vals, var2_vals, t_max=60):\n",
        "        \"\"\"\n",
        "        Run deterministic simulations over all combinations of two independent variables.\n",
        "\n",
        "        Args:\n",
        "            var1 (str): Name of the first variable (e.g. 'FAE').\n",
        "            var2 (str): Name of the second variable (e.g. 'AAP').\n",
        "            var1_vals (list or array): Values to iterate for var1.\n",
        "            var2_vals (list or array): Values to iterate for var2.\n",
        "            t_max (float): Simulation end time.\n",
        "        \"\"\"\n",
        "        # Clear/Reset\n",
        "        self.results_2D = []\n",
        "\n",
        "        # We'll create a 2D list (or list of lists) to store results\n",
        "        for v1 in var1_vals:\n",
        "            row_results = []\n",
        "            for v2 in var2_vals:\n",
        "                # Set the attribute values\n",
        "                setattr(self, var1, v1)\n",
        "                setattr(self, var2, v2)\n",
        "\n",
        "                # Also reset self.results if you only want the \"latest\" result each time\n",
        "                self.results = []\n",
        "                # Run the simulation (if it uses the current self.<var1>, self.<var2>)\n",
        "                self.simulate(t_max=t_max)\n",
        "\n",
        "                # Store just the last result\n",
        "                sim_result = self.results[-1]  # dictionary with 'time' and 'ATP'\n",
        "                # You could store other info if needed\n",
        "                row_results.append({\n",
        "                    var1: v1,\n",
        "                    var2: v2,\n",
        "                    'time': sim_result['time'],\n",
        "                    'ATP': sim_result['ATP']\n",
        "                })\n",
        "\n",
        "            self.results_2D.append(row_results)\n",
        "\n",
        "    def interpolate(self, T):\n",
        "        \"\"\"\n",
        "        Interpolate ATP concentration at a specific time point `T` for each simulation result.\n",
        "\n",
        "        Args:\n",
        "            T (float): The time point at which ATP concentration is interpolated.\n",
        "        \"\"\"\n",
        "        Tmes = []\n",
        "        for sol in self.results:\n",
        "            Tmes.append(np.interp(T, sol['time'], sol['ATP']))\n",
        "        self.Tmes = np.array(Tmes)\n",
        "\n",
        "    def Stoch_Sim(self):\n",
        "        \"\"\"\n",
        "        Run a stochastic simulation using Gillespie SSA and normalize ATP concentrations.\n",
        "        \"\"\"\n",
        "        model = MFASimulation(self, self.rates)\n",
        "        solver = gillespy.SSACSolver(model)\n",
        "        sol = solver.run(number_of_trajectories=1)\n",
        "        # sol[0]['ATP'] /= self.concs['ATP']\n",
        "        self.results.append(sol)\n",
        "\n",
        "    def Stoch_sim_over_var(self, rates_list):\n",
        "        \"\"\"\n",
        "        Run stochastic simulations across a range of values for the independent variable.\n",
        "        \"\"\"\n",
        "        for rates in tqdm(rates_list):\n",
        "            # this sets the conc e.g. self.'MFA' to c\n",
        "            self.rates = rates\n",
        "            #scale conc for discrete system\n",
        "            self.Stoch_Sim()\n",
        "\n",
        "    def timeseries_plots(self):\n",
        "        #plot time series results\n",
        "        fig, ax = plt.subplots(figsize=(6, 4))\n",
        "        plot_data(ax, [],[])\n",
        "        for sol in self.results:\n",
        "          plt.plot(sol['time'], sol['ATP'] , color=nicecolors[0])\n",
        "        plot_labels(ax, \"time\", \"[ATP]\", f\"{indepvar} kinetics\")\n",
        "        plot_lims(ax, sol['time'], sol['ATP'], [0,'d'],[0,'d'])\n",
        "        plot_ticks(ax)\n",
        "        plt.show()\n",
        "\n",
        "    def data_vs_sim_plot(self,shift=0):\n",
        "        # plot data and simdata\n",
        "        fig, ax = plt.subplots(figsize=(6, 4))\n",
        "        shift = 0\n",
        "        plot_scatter(ax,  (sim.x+shift), (sim.y), label=f\"data with x=x{shift}\", color=nicecolors[0],marker='o')\n",
        "        plot_scatter(ax, (self.var_concs), (self.Tmes), label='sim', color=nicecolors[1], marker='x')\n",
        "\n",
        "        #fit exponetial and shift\n",
        "        popt, popc, R2 = plot_fit(ax, (sim.x+shift), (sim.y), exp_fit, label = exp_label, color=nicecolors[0])\n",
        "        popt, popc, R2 = plot_fit(ax, (self.var_concs), (self.Tmes), exp_fit, label = exp_label, color=nicecolors[1])\n",
        "\n",
        "        plot_labels(ax, f\"[{indepvar}]\", \"[ATP]\", f\"{indepvar} kinetics\")\n",
        "        plot_lims(ax, sim.x, self.Tmes, [0,'d'],[0,1])\n",
        "        plot_ticks(ax)\n",
        "        plt.show()\n",
        "\n",
        "    def sim_over_two_vars(self, var1, var2,\n",
        "                          var1_vals, var2_vals,\n",
        "                          t_max=60, n_points=200):\n",
        "        \"\"\"\n",
        "        Sweeps var1 × var2 and returns a 2‑D list of results.\n",
        "        result[i][j] corresponds to var1_vals[i], var2_vals[j]\n",
        "        \"\"\"\n",
        "        grid = []\n",
        "        for v1 in var1_vals:\n",
        "            row = []\n",
        "            for v2 in var2_vals:\n",
        "                res = self._run_once({var1: v1, var2: v2},\n",
        "                                    t_max=t_max, n_points=n_points)\n",
        "                row.append(res)\n",
        "            grid.append(row)\n",
        "        return grid          # DON’T store internally unless you want to\n",
        "    def _run_once(self, conc_updates, t_max=60, n_points=200):\n",
        "        \"\"\"\n",
        "        conc_updates : dict  - {'AAP':0.5, 'FAE':2.0, ...}\n",
        "        Returns      : dict  - {'time':..., 'ATP':..., **conc_updates}\n",
        "        \"\"\"\n",
        "        # 1. copy ORIGINAL concentrations so we don’t mutate self.concs\n",
        "        y0_concs = self.concs.copy()\n",
        "        y0_concs.update(conc_updates)     # patch with the current grid point\n",
        "\n",
        "        # 2. unpack to local attributes used in reaction_system\n",
        "        self.AAP = y0_concs['AAP']\n",
        "        self.FAE = y0_concs['FAE']\n",
        "        self.MFA = y0_concs['MFA']\n",
        "        self.MFA_star = y0_concs['MFA_star0']\n",
        "        self.ATP = y0_concs['ATP']\n",
        "\n",
        "        # 3. integrate\n",
        "        t_eval = np.linspace(0, t_max, n_points)\n",
        "        sol = solve_ivp(self.reaction_system, (0, t_max),\n",
        "                        [self.ATP, self.MFA, self.MFA_star],\n",
        "                        t_eval=t_eval)\n",
        "\n",
        "        return {'time': sol.t,\n",
        "                'ATP':  sol.y[0] / self.concs['ATP'],\n",
        "                **conc_updates}\n",
        "\n",
        "\n",
        "# dataset loading\n",
        "def load_dataset(name):\n",
        "    \"\"\" Not part of the class as invloved in preperation.\n",
        "    requires name of dataset\n",
        "    returns: x (varied concerntraions),\n",
        "             y (normalised luminosity measurements),\n",
        "             indepvar (the [enzyme] which is varried)\n",
        "    \"\"\"\n",
        "    dataset = datasets[name] # load data\n",
        "    indepvar = dataset.attrs['variable']\n",
        "    buffer_indices = dataset.attrs.get('buffer_indicies', [])\n",
        "    data = dataset.drop(columns=buffer_indices) #get only data values not buffer\n",
        "    slicer = slice(None,None) #can be used to remove certain values\n",
        "    # reminder x usually goes from hight to low in data!\n",
        "    x = data.loc[indepvar][slicer]\n",
        "    y = data.loc[\"norm_mean\"][slicer] #luminosity normed by avg buffer\n",
        "    T = data.attrs['T']\n",
        "    return x, y, indepvar, T\n",
        "def load_dataset_v2(name): # new version of load_dataset that can load ALLmain, TBD:\n",
        "    \"\"\" Not part of the class as invloved in preperation.\n",
        "    requires name of dataset\n",
        "    returns: x (varied concerntraions),\n",
        "             y (normalised luminosity measurements),\n",
        "             indepvar (the [enzyme] which is varried)\n",
        "    \"\"\"\n",
        "    dataset = datasets[name] # load data\n",
        "\n",
        "    indepvar = dataset.attrs['variable']\n",
        "    if indepvar != 'multi':\n",
        "      buffer_indices = dataset.attrs.get('buffer_indicies', [])\n",
        "      data = dataset.drop(columns=buffer_indices) #get only data values not buffer\n",
        "      slicer = slice(None,None) #can be used to remove certain values\n",
        "      # reminder x usually goes from hight to low in data!\n",
        "      x = data.loc[indepvar][slicer]\n",
        "      y = data.loc[\"norm_mean\"][slicer] #luminosity normed by avg buffer\n",
        "      T = data.attrs['T']\n",
        "      return x, y, indepvar, T\n",
        "    else: # actually works only for the AAP and FAE case in allmain but that's what we care for\n",
        "      indepvar1 = 'AAP'\n",
        "      indepvar2 = 'FAE'\n",
        "      buffer_indices = dataset.attrs.get('buffer_indicies', [])\n",
        "      data = dataset.drop(columns=buffer_indices) #get only data values not buffer\n",
        "      slicer = slice(None,None) #can be used to remove certain values\n",
        "      x1 = dataset.loc[indepvar1]\n",
        "      x2 = dataset.loc[indepvar2]\n",
        "      y = dataset.loc[\"norm_mean\"] #luminosity normed by avg buffer\n",
        "      T = dataset.attrs['T']\n",
        "      return x1, x2, y, indepvar1, indepvar2, T\n",
        "\n"
      ]
    },
    {
      "cell_type": "code",
      "execution_count": 757,
      "metadata": {
        "colab": {
          "base_uri": "https://localhost:8080/",
          "height": 1000
        },
        "collapsed": true,
        "id": "rJq5Llwqop04",
        "outputId": "5e165001-e9da-46c1-900a-97e8468be761"
      },
      "outputs": [
        {
          "ename": "KeyboardInterrupt",
          "evalue": "",
          "output_type": "error",
          "traceback": [
            "\u001b[0;31m---------------------------------------------------------------------------\u001b[0m",
            "\u001b[0;31mKeyboardInterrupt\u001b[0m                         Traceback (most recent call last)",
            "Cell \u001b[0;32mIn[757], line 31\u001b[0m\n\u001b[1;32m     29\u001b[0m sim \u001b[38;5;241m=\u001b[39m simulation(concs, rates)\n\u001b[1;32m     30\u001b[0m sim\u001b[38;5;241m.\u001b[39mT \u001b[38;5;241m=\u001b[39m T\n\u001b[0;32m---> 31\u001b[0m sim\u001b[38;5;241m.\u001b[39msimulate()\n\u001b[1;32m     32\u001b[0m sim\u001b[38;5;241m.\u001b[39minterpolate(T)\n\u001b[1;32m     33\u001b[0m sims\u001b[38;5;241m.\u001b[39mappend(sim)\n",
            "Cell \u001b[0;32mIn[756], line 64\u001b[0m, in \u001b[0;36msimulation.simulate\u001b[0;34m(self)\u001b[0m\n\u001b[1;32m     62\u001b[0m time_span \u001b[38;5;241m=\u001b[39m (\u001b[38;5;241m0\u001b[39m, tau(t_max))\n\u001b[1;32m     63\u001b[0m \u001b[38;5;28mself\u001b[39m\u001b[38;5;241m.\u001b[39mtime_eval \u001b[38;5;241m=\u001b[39m np\u001b[38;5;241m.\u001b[39mlinspace(\u001b[38;5;241m0\u001b[39m, tau(t_max), \u001b[38;5;241m200\u001b[39m)\n\u001b[0;32m---> 64\u001b[0m sol \u001b[38;5;241m=\u001b[39m solve_ivp(\u001b[38;5;28mself\u001b[39m\u001b[38;5;241m.\u001b[39mreaction_system, time_span, [\u001b[38;5;28mself\u001b[39m\u001b[38;5;241m.\u001b[39ma, \u001b[38;5;28mself\u001b[39m\u001b[38;5;241m.\u001b[39mm], t_eval\u001b[38;5;241m=\u001b[39m\u001b[38;5;28mself\u001b[39m\u001b[38;5;241m.\u001b[39mtime_eval)\n\u001b[1;32m     65\u001b[0m \u001b[38;5;28mself\u001b[39m\u001b[38;5;241m.\u001b[39mresults\u001b[38;5;241m.\u001b[39mappend({\u001b[38;5;124m'\u001b[39m\u001b[38;5;124mtime\u001b[39m\u001b[38;5;124m'\u001b[39m: sol\u001b[38;5;241m.\u001b[39mt, \u001b[38;5;124m'\u001b[39m\u001b[38;5;124mATP\u001b[39m\u001b[38;5;124m'\u001b[39m: sol\u001b[38;5;241m.\u001b[39my[\u001b[38;5;241m0\u001b[39m]})\n",
            "File \u001b[0;32m/Applications/anaconda3/lib/python3.11/site-packages/scipy/integrate/_ivp/ivp.py:602\u001b[0m, in \u001b[0;36msolve_ivp\u001b[0;34m(fun, t_span, y0, method, t_eval, dense_output, events, vectorized, args, **options)\u001b[0m\n\u001b[1;32m    600\u001b[0m status \u001b[38;5;241m=\u001b[39m \u001b[38;5;28;01mNone\u001b[39;00m\n\u001b[1;32m    601\u001b[0m \u001b[38;5;28;01mwhile\u001b[39;00m status \u001b[38;5;129;01mis\u001b[39;00m \u001b[38;5;28;01mNone\u001b[39;00m:\n\u001b[0;32m--> 602\u001b[0m     message \u001b[38;5;241m=\u001b[39m solver\u001b[38;5;241m.\u001b[39mstep()\n\u001b[1;32m    604\u001b[0m     \u001b[38;5;28;01mif\u001b[39;00m solver\u001b[38;5;241m.\u001b[39mstatus \u001b[38;5;241m==\u001b[39m \u001b[38;5;124m'\u001b[39m\u001b[38;5;124mfinished\u001b[39m\u001b[38;5;124m'\u001b[39m:\n\u001b[1;32m    605\u001b[0m         status \u001b[38;5;241m=\u001b[39m \u001b[38;5;241m0\u001b[39m\n",
            "File \u001b[0;32m/Applications/anaconda3/lib/python3.11/site-packages/scipy/integrate/_ivp/base.py:197\u001b[0m, in \u001b[0;36mOdeSolver.step\u001b[0;34m(self)\u001b[0m\n\u001b[1;32m    195\u001b[0m \u001b[38;5;28;01melse\u001b[39;00m:\n\u001b[1;32m    196\u001b[0m     t \u001b[38;5;241m=\u001b[39m \u001b[38;5;28mself\u001b[39m\u001b[38;5;241m.\u001b[39mt\n\u001b[0;32m--> 197\u001b[0m     success, message \u001b[38;5;241m=\u001b[39m \u001b[38;5;28mself\u001b[39m\u001b[38;5;241m.\u001b[39m_step_impl()\n\u001b[1;32m    199\u001b[0m     \u001b[38;5;28;01mif\u001b[39;00m \u001b[38;5;129;01mnot\u001b[39;00m success:\n\u001b[1;32m    200\u001b[0m         \u001b[38;5;28mself\u001b[39m\u001b[38;5;241m.\u001b[39mstatus \u001b[38;5;241m=\u001b[39m \u001b[38;5;124m'\u001b[39m\u001b[38;5;124mfailed\u001b[39m\u001b[38;5;124m'\u001b[39m\n",
            "File \u001b[0;32m/Applications/anaconda3/lib/python3.11/site-packages/scipy/integrate/_ivp/rk.py:147\u001b[0m, in \u001b[0;36mRungeKutta._step_impl\u001b[0;34m(self)\u001b[0m\n\u001b[1;32m    144\u001b[0m y_new, f_new \u001b[38;5;241m=\u001b[39m rk_step(\u001b[38;5;28mself\u001b[39m\u001b[38;5;241m.\u001b[39mfun, t, y, \u001b[38;5;28mself\u001b[39m\u001b[38;5;241m.\u001b[39mf, h, \u001b[38;5;28mself\u001b[39m\u001b[38;5;241m.\u001b[39mA,\n\u001b[1;32m    145\u001b[0m                        \u001b[38;5;28mself\u001b[39m\u001b[38;5;241m.\u001b[39mB, \u001b[38;5;28mself\u001b[39m\u001b[38;5;241m.\u001b[39mC, \u001b[38;5;28mself\u001b[39m\u001b[38;5;241m.\u001b[39mK)\n\u001b[1;32m    146\u001b[0m scale \u001b[38;5;241m=\u001b[39m atol \u001b[38;5;241m+\u001b[39m np\u001b[38;5;241m.\u001b[39mmaximum(np\u001b[38;5;241m.\u001b[39mabs(y), np\u001b[38;5;241m.\u001b[39mabs(y_new)) \u001b[38;5;241m*\u001b[39m rtol\n\u001b[0;32m--> 147\u001b[0m error_norm \u001b[38;5;241m=\u001b[39m \u001b[38;5;28mself\u001b[39m\u001b[38;5;241m.\u001b[39m_estimate_error_norm(\u001b[38;5;28mself\u001b[39m\u001b[38;5;241m.\u001b[39mK, h, scale)\n\u001b[1;32m    149\u001b[0m \u001b[38;5;28;01mif\u001b[39;00m error_norm \u001b[38;5;241m<\u001b[39m \u001b[38;5;241m1\u001b[39m:\n\u001b[1;32m    150\u001b[0m     \u001b[38;5;28;01mif\u001b[39;00m error_norm \u001b[38;5;241m==\u001b[39m \u001b[38;5;241m0\u001b[39m:\n",
            "File \u001b[0;32m/Applications/anaconda3/lib/python3.11/site-packages/scipy/integrate/_ivp/rk.py:108\u001b[0m, in \u001b[0;36mRungeKutta._estimate_error_norm\u001b[0;34m(self, K, h, scale)\u001b[0m\n\u001b[1;32m    105\u001b[0m \u001b[38;5;28;01mdef\u001b[39;00m \u001b[38;5;21m_estimate_error\u001b[39m(\u001b[38;5;28mself\u001b[39m, K, h):\n\u001b[1;32m    106\u001b[0m     \u001b[38;5;28;01mreturn\u001b[39;00m np\u001b[38;5;241m.\u001b[39mdot(K\u001b[38;5;241m.\u001b[39mT, \u001b[38;5;28mself\u001b[39m\u001b[38;5;241m.\u001b[39mE) \u001b[38;5;241m*\u001b[39m h\n\u001b[0;32m--> 108\u001b[0m \u001b[38;5;28;01mdef\u001b[39;00m \u001b[38;5;21m_estimate_error_norm\u001b[39m(\u001b[38;5;28mself\u001b[39m, K, h, scale):\n\u001b[1;32m    109\u001b[0m     \u001b[38;5;28;01mreturn\u001b[39;00m norm(\u001b[38;5;28mself\u001b[39m\u001b[38;5;241m.\u001b[39m_estimate_error(K, h) \u001b[38;5;241m/\u001b[39m scale)\n\u001b[1;32m    111\u001b[0m \u001b[38;5;28;01mdef\u001b[39;00m \u001b[38;5;21m_step_impl\u001b[39m(\u001b[38;5;28mself\u001b[39m):\n",
            "\u001b[0;31mKeyboardInterrupt\u001b[0m: "
          ]
        },
        {
          "data": {
            "image/png": "[encoded data removed]",
            "text/plain": [
              "<Figure size 600x400 with 1 Axes>"
            ]
          },
          "metadata": {},
          "output_type": "display_data"
        }
      ],
      "source": [
        "sets = {}\n",
        "# define rates and concerntraions\n",
        "rates = {'k1_0': 0.002426 , 'k1_c': 0.03, 'k2_0': 10000.1, 'k2_c': 0.0}\n",
        "concs = {'ATP': 2000.0, 'MFA_star0': 0.0, 'MFA': 1.0, 'FAE': 0.0, 'AAP': 0.0}\n",
        "\n",
        "def find_dim_rates(concs, krates):\n",
        "\n",
        "    alpha = concs['ATP']#/concs['MFA']\n",
        "    gamma = krates['k2_0'] + krates['k2_c'] * concs['AAP']\n",
        "    lambd = (krates['k1_0'] + krates['k1_c'] * concs['FAE']) * concs['MFA']\n",
        "    rates = {'alpha': alpha, 'gamma': gamma, 'lambda': lambd}\n",
        "    return rates\n",
        "\n",
        "for i, title in enumerate(['MFAmain','MFAsup1','MFAsup2','MFAsup3']): #\n",
        "\n",
        "    fig, ax = plt.subplots(figsize=(6, 4))\n",
        "\n",
        "    sims = []\n",
        "    shift = -1\n",
        "    # load dataset of interest\n",
        "    x, y, indepvar, T = load_dataset(title)\n",
        "    x = x.to_numpy() + shift\n",
        "    # set the [enzyme] which is varried to array of what it is\n",
        "    rate_list = []\n",
        "    for ix in x:\n",
        "        concs[indepvar] =  ix\n",
        "        rate_list.append(find_dim_rates(concs, krates))\n",
        "    for rates in rate_list:\n",
        "        sim = simulation(concs, rates)\n",
        "        sim.T = T\n",
        "        sim.simulate()\n",
        "        sim.interpolate(T)\n",
        "        sims.append(sim)\n",
        "    mesurements = [sim.Tmes[0] for sim in sims]\n",
        "    if title == 'MFAmain':\n",
        "        plot_scatter(ax,  x, y, label=f\"{title}, T={sim.T}\", marker='x', color=nicecolors[i])\n",
        "        plot_scatter(ax, x, mesurements, label='sim',marker='o', color=nicecolors[i])\n",
        "\n",
        "        #fit exponetial and shift\n",
        "        popt, popc, R2 = plot_fit(ax, x, y, exp_fit, color=nicecolors[i], label = exp_label)\n",
        "        popt, popc, R2 = plot_fit(ax, x, mesurements, exp_fit, color=nicecolors[i], label = exp_label, linestyle='--')\n",
        "\n",
        "        plot_labels(ax, f\"[{indepvar}]\", \"[ATP]\", f\"{indepvar} kinetics\") #T={sim.T}\n",
        "        plot_lims(ax, x, mesurements, [0,'d'],[0,1])\n",
        "        plot_ticks(ax)\n",
        "        plot_legend(ax, legfts = 8, loc='right')\n",
        "        plt.show()\n",
        "    sets[title] = mesurements\n",
        "    plt.close()"
      ]
    },
    {
      "cell_type": "code",
      "execution_count": null,
      "metadata": {
        "colab": {
          "base_uri": "https://localhost:8080/",
          "height": 568
        },
        "id": "YhDO252IamSb",
        "outputId": "13f3d0ac-1e62-4759-c1cc-5f04b7a7596a"
      },
      "outputs": [
        {
          "name": "stdout",
          "output_type": "stream",
          "text": [
            "Fit parameters: [ 0.99980513 -0.21206622]  R^2: 0.9960762845841125\n",
            "Fit parameters: [ 0.99723907 -0.26289187]  R^2: 0.9999960295938046\n",
            "Fit parameters: [ 0.990097   -0.23649915]  R^2: 0.9877793777605801\n",
            "Fit parameters: [ 0.99844881 -0.27840946]  R^2: 0.999997112710139\n",
            "Fit parameters: [ 1.00630678 -0.4606118 ]  R^2: 0.9936896313523746\n",
            "Fit parameters: [ 0.998269   -0.48367137]  R^2: 0.9999990068904904\n",
            "Fit parameters: [ 0.92576284 -0.7136051 ]  R^2: 0.9893299234720905\n",
            "Fit parameters: [ 0.99835766 -0.78385044]  R^2: 0.999999792494323\n",
            "k_1 = 0.00243 ± 0.00008\n",
            "k_1 sim = 0.00277 ± 0.00015\n"
          ]
        },
        {
          "data": {
            "image/png": "[encoded data removed]",
            "text/plain": [
              "<Figure size 600x400 with 1 Axes>"
            ]
          },
          "metadata": {},
          "output_type": "display_data"
        }
      ],
      "source": [
        "keff_data = []\n",
        "keff_sim = []\n",
        "\n",
        "fig, ax = plt.subplots(figsize=(6, 4))\n",
        "for i, title in enumerate(['MFAmain','MFAsup1','MFAsup2','MFAsup3']):\n",
        "\n",
        "    shift = -1\n",
        "    # load dataset of interest\n",
        "    x, y, indepvar, T = load_dataset(title)\n",
        "    x = x.to_numpy() + shift\n",
        "\n",
        "    mesurements = sets[title]\n",
        "\n",
        "    plot_scatter(ax,  x, y, label=f\"{title}, T={T}\", marker='x', color=nicecolors[i])\n",
        "    plot_scatter(ax, x, mesurements, label=None,marker='o', color=nicecolors[i])\n",
        "\n",
        "    #fit exponetial and shift\n",
        "    popt, popc, R2 = plot_fit(ax, x, y, exp_fit, color=nicecolors[i], label = None)\n",
        "    keff_data.append(popt[1]/T)\n",
        "    popt, popc, R2 = plot_fit(ax, x, mesurements, exp_fit, color=nicecolors[i], label = None, linestyle='--')\n",
        "    keff_sim.append(popt[1]/T)\n",
        "    plot_labels(ax, f\"[{indepvar}]\", \"[ATP]\", f\"{indepvar} kinetics\") #T={sim.T}\n",
        "    plot_lims(ax, x, mesurements, [0,10],[0,1])\n",
        "    \n",
        "\n",
        "plt.plot([],[], label='$ae^{bx}$ Data fit', color='black')\n",
        "plt.plot([],[], label='$ae^{bx}$ Simulation fit', color='black', linestyle='--')\n",
        "plot_legend(ax, legfts = 9, loc='upper right')\n",
        "keff = np.array(keff_data)\n",
        "print(f\"k_1 = {-keff.mean():.5f} ± {keff.std():.5f}\")\n",
        "plt.title(f\"MFA: $k_1$ = {-keff.mean():.5f} ± {keff.std():.5f}\", fontsize=16)\n",
        "\n",
        "keff = np.array(keff_sim)\n",
        "print(f\"k_1 sim = {-keff.mean():.5f} ± {keff.std():.5f}\")\n",
        "name = 'MFAsup_plot'\n",
        "# plt.tight_layout()\n",
        "# plt.savefig(f'/content/drive/MyDrive/POBS/figs/{name}.svg', dpi=1000)"
      ]
    },
    {
      "cell_type": "markdown",
      "metadata": {
        "id": "Y2Qakg7dvBup"
      },
      "source": [
        "## Simulation class"
      ]
    },
    {
      "cell_type": "code",
      "execution_count": 1198,
      "metadata": {
        "id": "DddPdDa5-Dga"
      },
      "outputs": [],
      "source": [
        "from scipy.integrate import solve_ivp\n",
        "\n",
        "class simulation:\n",
        "    \"\"\"\n",
        "    A class to simulate the kinetics of a biochemical reaction system involving ATP MFA, and MFA*.\n",
        "\n",
        "    Attributes:\n",
        "        rates (dict): Dictionary of rate constants for the reactions.\n",
        "        concs (dict): Dictionary of initial concentrations for species.\n",
        "        indepvar (str): Name of the independent variable for parameter sweep (conc that changes).\n",
        "        var_concs (list): List of concentration values to iterate over during simulation.\n",
        "        results (list): Stores simulation outputs for each parameter value.\n",
        "    \"\"\"\n",
        "\n",
        "    def __init__(self, concs, rates, indepvar):\n",
        "        \"\"\"\n",
        "        Initialize the simulation with initial concentrations, rate constants, and an independent variable.\n",
        "\n",
        "        Args:\n",
        "            concs (dict): Initial concentrations of species.\n",
        "            rates (dict): Reaction rate constants (intrinsic and catalyzed).\n",
        "            indepvar (str): The variable whose values will be varied during simulations.\n",
        "        \"\"\"\n",
        "        # the stoch sims just use the dicts\n",
        "        self.concs = concs\n",
        "        self.rates = rates\n",
        "        # other sims use idiviual vars for each component/rate\n",
        "        self.k1_0 = rates['k1_0']\n",
        "        self.k1_c = rates['k1_c']\n",
        "        self.k2_0 = rates['k2_0']\n",
        "        self.k2_c = rates['k2_c']\n",
        "\n",
        "        self.ATP = concs['ATP']\n",
        "        self.MFA_star = concs['MFA_star0']\n",
        "        self.MFA = concs['MFA']\n",
        "        self.FAE = concs['FAE']\n",
        "        self.AAP = concs['AAP']\n",
        "\n",
        "        self.indepvar = indepvar\n",
        "        self.var_concs = self.__getattribute__(indepvar)\n",
        "        self.results = []\n",
        "\n",
        "    def reaction_system(self, t, y):\n",
        "        \"\"\"\n",
        "        Defines the system of ODEs for the reaction kinetics.\n",
        "\n",
        "        Args:\n",
        "            t (float): Time variable (not used, required by solver).\n",
        "            y (list): Current concentrations of ATP, MFA, and MFA_star.\n",
        "\n",
        "        Returns:\n",
        "            list: Derivatives of concentrations.\n",
        "        \"\"\"\n",
        "        ATP, MFA, MFA_star = y\n",
        "\n",
        "        rate1 = (self.k1_0 + self.k1_c * self.FAE) * ATP * MFA\n",
        "        rate2 = (self.k2_0 + self.k2_c * self.AAP) * MFA_star\n",
        "\n",
        "        dATP_dt = -rate1\n",
        "        dMFA_dt = -rate1 + rate2\n",
        "        dMFA_star_dt = rate1 - rate2\n",
        "\n",
        "        return [dATP_dt, dMFA_dt, dMFA_star_dt]\n",
        "    def reaction_system(self, t, y):\n",
        "        ATP, MFA, MFA_star = y\n",
        "        # n= 4\n",
        "        # KD = .2\n",
        "        # Hill-based cooperative effect of FAE\n",
        "        hill_effectFAE = (self.FAE**F_n) / (F_KD**F_n + self.FAE**F_n)\n",
        "        hill_effectAAP = self.AAP #(self.AAP**A_n) / (A_KD**n + self.AAP**A_n)\n",
        "\n",
        "        # Updated rate with cooperative catalyst activity\n",
        "        rate1 = (self.k1_0 + self.k1_c * hill_effectFAE) * ATP * MFA\n",
        "        rate2 = (self.k2_0 + self.k2_c * hill_effectAAP) * MFA_star\n",
        "\n",
        "        dATP_dt = -rate1\n",
        "        dMFA_dt = -rate1 + rate2\n",
        "        dMFA_star_dt = rate1 - rate2\n",
        "\n",
        "        return [dATP_dt, dMFA_dt, dMFA_star_dt]\n",
        "\n",
        "    def simulate(self):\n",
        "        \"\"\"\n",
        "        Run a deterministic simulation using the ODE model and store the ATP trajectory.\n",
        "        \"\"\"\n",
        "        t_max = sim.T +20\n",
        "        time_span = (0, t_max)\n",
        "        self.time_eval = np.linspace(0, t_max, 200)\n",
        "        sol = solve_ivp(self.reaction_system, time_span, [self.ATP, self.MFA, self.MFA_star], t_eval=self.time_eval)\n",
        "        self.results.append({'time': sol.t, 'ATP': sol.y[0]/self.concs['ATP']})\n",
        "\n",
        "    def sim_over_var(self):\n",
        "        \"\"\"\n",
        "        Run deterministic simulations over a range of values for the independent variable.\n",
        "        \"\"\"\n",
        "        for c in self.var_concs:\n",
        "            # this sets the e.g. self.'MFA' to c\n",
        "            setattr(self, self.indepvar, c)\n",
        "            # simulate\n",
        "            self.simulate()\n",
        "\n",
        "    def sim_over_two_vars(self, var1, var2, var1_vals, var2_vals, t_max=60):\n",
        "        \"\"\"\n",
        "        Run deterministic simulations over all combinations of two independent variables.\n",
        "\n",
        "        Args:\n",
        "            var1 (str): Name of the first variable (e.g. 'FAE').\n",
        "            var2 (str): Name of the second variable (e.g. 'AAP').\n",
        "            var1_vals (list or array): Values to iterate for var1.\n",
        "            var2_vals (list or array): Values to iterate for var2.\n",
        "            t_max (float): Simulation end time.\n",
        "        \"\"\"\n",
        "        # Clear/Reset\n",
        "        self.results_2D = []\n",
        "\n",
        "        # We'll create a 2D list (or list of lists) to store results\n",
        "        for v1 in var1_vals:\n",
        "            row_results = []\n",
        "            for v2 in var2_vals:\n",
        "                # Set the attribute values\n",
        "                setattr(self, var1, v1)\n",
        "                setattr(self, var2, v2)\n",
        "\n",
        "                # Also reset self.results if you only want the \"latest\" result each time\n",
        "                self.results = []\n",
        "                # Run the simulation (if it uses the current self.<var1>, self.<var2>)\n",
        "                self.simulate(t_max=t_max)\n",
        "\n",
        "                # Store just the last result\n",
        "                sim_result = self.results[-1]  # dictionary with 'time' and 'ATP'\n",
        "                # You could store other info if needed\n",
        "                row_results.append({\n",
        "                    var1: v1,\n",
        "                    var2: v2,\n",
        "                    'time': sim_result['time'],\n",
        "                    'ATP': sim_result['ATP']\n",
        "                })\n",
        "\n",
        "            self.results_2D.append(row_results)\n",
        "\n",
        "    def interpolate(self, T):\n",
        "        \"\"\"\n",
        "        Interpolate ATP concentration at a specific time point `T` for each simulation result.\n",
        "\n",
        "        Args:\n",
        "            T (float): The time point at which ATP concentration is interpolated.\n",
        "        \"\"\"\n",
        "        Tmes = []\n",
        "        for sol in self.results:\n",
        "            Tmes.append(np.interp(T, sol['time'], sol['ATP']))\n",
        "        self.Tmes = np.array(Tmes)\n",
        "\n",
        "    def Stoch_Sim(self):\n",
        "        \"\"\"\n",
        "        Run a stochastic simulation using Gillespie SSA and normalize ATP concentrations.\n",
        "        \"\"\"\n",
        "        model = MFASimulation(self.concs, self.rates, indepvar=self.indepvar)\n",
        "        solver = gillespy.SSACSolver(model)\n",
        "        sol = solver.run(number_of_trajectories=1)\n",
        "        sol[0]['ATP'] /= self.concs['ATP']\n",
        "        self.results.append(sol)\n",
        "\n",
        "    def Stoch_sim_over_var(self):\n",
        "        \"\"\"\n",
        "        Run stochastic simulations across a range of values for the independent variable.\n",
        "        \"\"\"\n",
        "        for c in tqdm(self.var_concs):\n",
        "            # this sets the conc e.g. self.'MFA' to c\n",
        "            setattr(self, self.indepvar, c) #not nessasry\n",
        "            #scale conc for discrete system\n",
        "            self.concs[self.indepvar] = c  #needs scaling !find better solution\n",
        "            self.Stoch_Sim()\n",
        "\n",
        "    def timeseries_plots(self):\n",
        "        #plot time series results\n",
        "        fig, ax = plt.subplots(figsize=(6, 4))\n",
        "        plot_data(ax, [],[])\n",
        "        for sol in self.results:\n",
        "          plt.plot(sol['time'], sol['ATP'] , color=nicecolors[0])\n",
        "        plot_labels(ax, \"time\", \"[ATP]\", f\"{indepvar} kinetics\")\n",
        "        plot_lims(ax, sol['time'], sol['ATP'], [0,'d'],[0,'d'])\n",
        "        plot_ticks(ax)\n",
        "        plt.show()\n",
        "\n",
        "    def data_vs_sim_plot(self,shift=0):\n",
        "        # plot data and simdata\n",
        "        fig, ax = plt.subplots(figsize=(6, 4))\n",
        "        shift = 0\n",
        "        plot_scatter(ax,  (sim.x+shift), (sim.y), label=f\"data with x=x{shift}\", color=nicecolors[0],marker='o')\n",
        "        plot_scatter(ax, (self.var_concs), (self.Tmes), label='sim', color=nicecolors[1], marker='x')\n",
        "\n",
        "        #fit exponetial and shift\n",
        "        popt, popc, R2 = plot_fit(ax, (sim.x+shift), (sim.y), exp_fit, label = exp_label, color=nicecolors[0])\n",
        "        popt, popc, R2 = plot_fit(ax, (self.var_concs), (self.Tmes), exp_fit, label = exp_label, color=nicecolors[1])\n",
        "\n",
        "        plot_labels(ax, f\"[{indepvar}]\", \"[ATP]\", f\"{indepvar} kinetics\")\n",
        "        plot_lims(ax, sim.x, self.Tmes, [0,'d'],[0,1])\n",
        "        plot_ticks(ax)\n",
        "        plt.show()\n",
        "\n",
        "    def sim_over_two_vars(self, var1, var2,\n",
        "                          var1_vals, var2_vals,\n",
        "                          t_max=60, n_points=200):\n",
        "        \"\"\"\n",
        "        Sweeps var1 × var2 and returns a 2‑D list of results.\n",
        "        result[i][j] corresponds to var1_vals[i], var2_vals[j]\n",
        "        \"\"\"\n",
        "        grid = []\n",
        "        for v1 in var1_vals:\n",
        "            row = []\n",
        "            for v2 in var2_vals:\n",
        "                res = self._run_once({var1: v1, var2: v2},\n",
        "                                    t_max=t_max, n_points=n_points)\n",
        "                row.append(res)\n",
        "            grid.append(row)\n",
        "        return grid          # DON’T store internally unless you want to\n",
        "    def _run_once(self, conc_updates, t_max=60, n_points=200):\n",
        "        \"\"\"\n",
        "        conc_updates : dict  – {'AAP':0.5, 'FAE':2.0, ...}\n",
        "        Returns      : dict  – {'time':..., 'ATP':..., **conc_updates}\n",
        "        \"\"\"\n",
        "        # 1. copy ORIGINAL concentrations so we don’t mutate self.concs\n",
        "        y0_concs = self.concs.copy()\n",
        "        y0_concs.update(conc_updates)     # patch with the current grid point\n",
        "\n",
        "        # 2. unpack to local attributes used in reaction_system\n",
        "        self.AAP = y0_concs['AAP']\n",
        "        self.FAE = y0_concs['FAE']\n",
        "        self.MFA = y0_concs['MFA']\n",
        "        self.MFA_star = y0_concs['MFA_star0']\n",
        "        self.ATP = y0_concs['ATP']\n",
        "\n",
        "        # 3. integrate\n",
        "        t_eval = np.linspace(0, t_max, n_points)\n",
        "        sol = solve_ivp(self.reaction_system, (0, t_max),\n",
        "                        [self.ATP, self.MFA, self.MFA_star],\n",
        "                        t_eval=t_eval)\n",
        "\n",
        "        return {'time': sol.t,\n",
        "                'ATP':  sol.y[0] / self.concs['ATP'],\n",
        "                **conc_updates}\n",
        "\n",
        "\n",
        "# dataset loading\n",
        "def load_dataset(name):\n",
        "    \"\"\" Not part of the class as invloved in preperation.\n",
        "    requires name of dataset\n",
        "    returns: x (varied concerntraions),\n",
        "             y (normalised luminosity measurements),\n",
        "             indepvar (the [enzyme] which is varried)\n",
        "    \"\"\"\n",
        "    dataset = datasets[name] # load data\n",
        "    indepvar = dataset.attrs['variable']\n",
        "    buffer_indices = dataset.attrs.get('buffer_indicies', [])\n",
        "    data = dataset.drop(columns=buffer_indices) #get only data values not buffer\n",
        "    slicer = slice(None,None) #can be used to remove certain values\n",
        "    # reminder x usually goes from hight to low in data!\n",
        "    x = data.loc[indepvar][slicer]\n",
        "    y = data.loc[\"norm_mean\"][slicer] #luminosity normed by avg buffer\n",
        "    T = data.attrs['T']\n",
        "    return x, y, indepvar, T\n",
        "def load_dataset_v2(name): # new version of load_dataset that can load ALLmain, TBD:\n",
        "    \"\"\" Not part of the class as invloved in preperation.\n",
        "    requires name of dataset\n",
        "    returns: x (varied concerntraions),\n",
        "             y (normalised luminosity measurements),\n",
        "             indepvar (the [enzyme] which is varried)\n",
        "    \"\"\"\n",
        "    dataset = datasets[name] # load data\n",
        "\n",
        "    indepvar = dataset.attrs['variable']\n",
        "    if indepvar != 'multi':\n",
        "      buffer_indices = dataset.attrs.get('buffer_indicies', [])\n",
        "      data = dataset.drop(columns=buffer_indices) #get only data values not buffer\n",
        "      slicer = slice(None,None) #can be used to remove certain values\n",
        "      # reminder x usually goes from hight to low in data!\n",
        "      x = data.loc[indepvar][slicer]\n",
        "      y = data.loc[\"norm_mean\"][slicer] #luminosity normed by avg buffer\n",
        "      T = data.attrs['T']\n",
        "      return x, y, indepvar, T\n",
        "    else: # actually works only for the AAP and FAE case in allmain but that's what we care for\n",
        "      indepvar1 = 'AAP'\n",
        "      indepvar2 = 'FAE'\n",
        "      buffer_indices = dataset.attrs.get('buffer_indicies', [])\n",
        "      data = dataset.drop(columns=buffer_indices) #get only data values not buffer\n",
        "      slicer = slice(None,None) #can be used to remove certain values\n",
        "      x1 = dataset.loc[indepvar1]\n",
        "      x2 = dataset.loc[indepvar2]\n",
        "      y = dataset.loc[\"norm_mean\"] #luminosity normed by avg buffer\n",
        "      T = dataset.attrs['T']\n",
        "      return x1, x2, y, indepvar1, indepvar2, T\n",
        "\n"
      ]
    },
    {
      "cell_type": "markdown",
      "metadata": {
        "id": "yM2gc8ZWK4io"
      },
      "source": [
        "## simulation executions"
      ]
    },
    {
      "cell_type": "code",
      "execution_count": 1122,
      "metadata": {},
      "outputs": [
        {
          "name": "stdout",
          "output_type": "stream",
          "text": [
            "Fit parameters: [ 0.99980513 -0.21206622]  R^2: 0.9960762845841125\n",
            "Fit parameters: [ 1.00242269 -0.2125412 ]  R^2: 0.9999750458198018\n",
            "Fit parameters: [ 0.990097   -0.23649915]  R^2: 0.9877793777605801\n",
            "Fit parameters: [ 1.00073849 -0.22470282]  R^2: 0.9999892662482339\n",
            "Fit parameters: [ 1.00630678 -0.4606118 ]  R^2: 0.9936896313523746\n",
            "Fit parameters: [ 1.00145509 -0.42600329]  R^2: 0.9999777728108933\n",
            "Fit parameters: [ 0.92576284 -0.7136051 ]  R^2: 0.9893299234720905\n",
            "Fit parameters: [ 1.00173936 -0.72045556]  R^2: 0.9999710602586018\n"
          ]
        }
      ],
      "source": [
        "sims = {}\n",
        "# define rates and concerntraions\n",
        "rates = {'k1_0': 0.002426 , 'k1_c': 0.03, 'k2_0': 100.1, 'k2_c': 0.0}\n",
        "concs = {'ATP': 2000.0, 'MFA_star0': 0.0, 'MFA': 1.0, 'FAE': 0.0, 'AAP': 0.0}\n",
        "\n",
        "# rates = {'k1_0': 1.5 * .22428/90 , 'k1_c': 0.03, 'k2_0': 10, 'k2_c': 20}\n",
        "# concs = {'ATP': 2000.0, 'MFA_star0': 0.0, 'MFA': 2.0, 'FAE': 0.0, 'AAP': 0.0}\n",
        "\n",
        "for i, title in enumerate(['MFAmain','MFAsup1','MFAsup2','MFAsup3']):\n",
        "\n",
        "    fig, ax = plt.subplots(figsize=(6, 4))\n",
        "    shift = -1\n",
        "    # load dataset of interest\n",
        "    x, y, indepvar, T = load_dataset(title)\n",
        "    # set the [enzyme] which is varried to array of what it is\n",
        "    concs[indepvar] = x.to_numpy() + shift\n",
        "    concs[indepvar] = np.append(concs[indepvar],0)\n",
        "    # simulation class containing everthing to do with sim\n",
        "    sim = simulation(concs, rates, indepvar) # initialise\n",
        "    sim.x = x; sim.y = y; sim.T = T # add the data to it\n",
        "    sim.sim_over_var() # sim over variable [enzyme]\n",
        "    sim.interpolate(sim.T) # interpolate to find value at specific T\n",
        "\n",
        "    \n",
        "    plot_scatter(ax,  (sim.x+shift), (sim.y), label=f\"{title}, T={sim.T}\", marker='x', color=nicecolors[i])\n",
        "    plot_scatter(ax, (sim.var_concs), (sim.Tmes), label='sim',marker='o', color=nicecolors[i])\n",
        "\n",
        "    #fit exponetial and shift\n",
        "    popt, popc, R2 = plot_fit(ax, (sim.x+shift), (sim.y), exp_fit, color=nicecolors[i], label = exp_label)\n",
        "    popt, popc, R2 = plot_fit(ax, (sim.var_concs), (sim.Tmes), exp_fit, color=nicecolors[i], label = exp_label, linestyle='--')\n",
        "\n",
        "    plot_labels(ax, f\"[{indepvar}]\", \"[ATP]\", f\"{indepvar} kinetics\") #T={sim.T}\n",
        "    plot_lims(ax, sim.x, sim.Tmes, [0,'d'],[0,1])\n",
        "    plot_ticks(ax)\n",
        "    plot_legend(ax, legfts = 8, loc='right')\n",
        "    plt.close()\n",
        "    sims[title] = sim"
      ]
    },
    {
      "cell_type": "code",
      "execution_count": 1123,
      "metadata": {},
      "outputs": [
        {
          "name": "stdout",
          "output_type": "stream",
          "text": [
            "Fit parameters: [ 0.99980513 -0.21206622]  R^2: 0.9960762845841125\n",
            "Fit parameters: [ 1.00242269 -0.2125412 ]  R^2: 0.9999750458198018\n",
            "Fit parameters: [ 0.990097   -0.23649915]  R^2: 0.9877793777605801\n",
            "Fit parameters: [ 1.00073849 -0.22470282]  R^2: 0.9999892662482339\n",
            "Fit parameters: [ 1.00630678 -0.4606118 ]  R^2: 0.9936896313523746\n",
            "Fit parameters: [ 1.00145509 -0.42600329]  R^2: 0.9999777728108933\n",
            "Fit parameters: [ 0.92576284 -0.7136051 ]  R^2: 0.9893299234720905\n",
            "Fit parameters: [ 1.00173936 -0.72045556]  R^2: 0.9999710602586018\n",
            "k_1 = 0.00243 ± 0.00008\n"
          ]
        },
        {
          "data": {
            "image/png": "[encoded data removed]",
            "text/plain": [
              "<Figure size 600x400 with 1 Axes>"
            ]
          },
          "metadata": {},
          "output_type": "display_data"
        }
      ],
      "source": [
        "keff = []\n",
        "fig, ax = plt.subplots(figsize=(6, 4))\n",
        "for i, title in enumerate(['MFAmain','MFAsup1','MFAsup2','MFAsup3']):\n",
        "    sim = sims[title]\n",
        "    shift = -1\n",
        "    plot_scatter(ax,  (sim.x+shift), (sim.y), label=f\"{title}, T={sim.T}\", marker='x', color=nicecolors[i], alpha=1)\n",
        "    plot_scatter(ax, (sim.var_concs), (sim.Tmes),marker='o', color=nicecolors[i])\n",
        "\n",
        "    #fit exponetial and shift\n",
        "    popt, popc, R2 = plot_fit(ax, (sim.x+shift), (sim.y), exp_fit, color=nicecolors[i], label = None)\n",
        "    keff.append(popt[1]/sim.T)\n",
        "    popt, popc, R2 = plot_fit(ax, (sim.var_concs), (sim.Tmes), exp_fit, color=nicecolors[i], label = None, linestyle='--')\n",
        "\n",
        "    plot_labels(ax, f\"[{indepvar}]$/\\mu$M\", r\"[ATP]/[ATP$_0$]\", f\"{indepvar} kinetics\") #T={sim.T}\n",
        "    plot_lims(ax, sim.x, sim.Tmes, [0,5],[0,1])\n",
        "    plot_ticks(ax)\n",
        "    \n",
        "    sims[title] = sim\n",
        "plt.plot([],[], label='$ae^{bx}$ Data fit', color='black')\n",
        "plt.plot([],[], label='$ae^{bx}$ Simulation fit', color='black', linestyle='--')\n",
        "plot_legend(ax, legfts = 9, loc='upper right')\n",
        "keff = np.array(keff)\n",
        "print(f\"k_1 = {-keff.mean():.5f} ± {keff.std():.5f}\")\n",
        "plt.title(f\"MFA: $k_1$ = {-keff.mean():.5f} ± {keff.std():.5f}\", fontsize=16)\n",
        "name = 'MFAsup_plot'\n",
        "plt.tight_layout()\n",
        "# plt.savefig(f'/content/drive/MyDrive/POBS/figs/{name}.svg', dpi=1000)"
      ]
    },
    {
      "cell_type": "code",
      "execution_count": 1275,
      "metadata": {},
      "outputs": [],
      "source": [
        "sims = {}\n",
        "# define rates and concerntraions\n",
        "rates = {'k1_0': 1*0.002426 , 'k1_c': 0.02, 'k2_0': 50., 'k2_c': 0.0}\n",
        "concs = {'ATP': 2000.0, 'MFA_star0': 0.0, 'MFA': 1.0, 'FAE': 0.0, 'AAP': 0.0}\n",
        "\n",
        "# rates = {'k1_0': 0.5*0.002426 , 'k1_c': 0.02, 'k2_0': 10, 'k2_c': 0.0}\n",
        "# concs = {'ATP': 2000.0, 'MFA_star0': 0.0, 'MFA': 2.0, 'FAE': 0.0, 'AAP': 0.0}\n",
        "\n",
        "F_KD = 0.35\n",
        "F_n = 4\n",
        "for i, title in enumerate(['FAEmain','FAEsup1','FAEsup2','FAEsup3']):\n",
        "\n",
        "    shift = 0\n",
        "    # load dataset of interest\n",
        "    x, y, indepvar, T = load_dataset(title)\n",
        "    # set the [enzyme] which is varried to array of what it is\n",
        "    concs[indepvar] = x.to_numpy() + shift\n",
        "    concs[indepvar] = np.append(concs[indepvar],0)\n",
        "    # simulation class containing everthing to do with sim\n",
        "    sim = simulation(concs, rates, indepvar) # initialise\n",
        "    sim.x = x; sim.y = y; sim.T = T # add the data to it\n",
        "    sim.sim_over_var() # sim over variable [enzyme]\n",
        "    sim.interpolate(sim.T) # interpolate to find value at specific T\n",
        "\n",
        "    sims[title] = sim"
      ]
    },
    {
      "cell_type": "code",
      "execution_count": 1276,
      "metadata": {},
      "outputs": [
        {
          "data": {
            "image/png": "[encoded data removed]",
            "text/plain": [
              "<Figure size 600x500 with 1 Axes>"
            ]
          },
          "metadata": {},
          "output_type": "display_data"
        }
      ],
      "source": [
        "keff = []\n",
        "fig, ax = plt.subplots(figsize=(6, 5))\n",
        "for i, title in enumerate(['FAEmain','FAEsup1','FAEsup2','FAEsup3']): #'FAEmain',\n",
        "    sim = sims[title]\n",
        "    shift = 0\n",
        "    plot_scatter(ax,  (sim.x+shift), (sim.y), label=f\"{title}, T={sim.T}\", marker='x', color=nicecolors[i], alpha=1)\n",
        "    plot_scatter(ax, (sim.var_concs), (sim.Tmes),marker='o', color=nicecolors[i])\n",
        "\n",
        "    #fit exponetial and shift\n",
        "    # popt, popc, R2 = plot_fit(ax, (sim.x+shift), (sim.y), exp_fit, color=nicecolors[i], label = None)\n",
        "    # popt, popc, R2 = plot_fit(ax, (sim.var_concs), (sim.Tmes), exp_fit, color=nicecolors[i], label = None, linestyle='--')\n",
        "\n",
        "    plot_labels(ax, f\"[{indepvar}]$/\\mu$M\", r\"[ATP]/[ATP$_0$]\", f\"{indepvar} kinetics\") #T={sim.T}\n",
        "    plot_lims(ax, sim.x, sim.Tmes, [0,0.55],[0,1])\n",
        "    \n",
        "    \n",
        "    sims[title] = sim\n",
        "plot_ticks(ax, default_ticks=6)\n",
        "# plt.plot([],[], label='$ae^{bx}$ Data fit', color='black')\n",
        "# plt.plot([],[], label='$ae^{bx}$ Simulation fit', color='black', linestyle='--')\n",
        "\n",
        "lin = np.linspace(0, 0.55, 1000)\n",
        "plt.plot(lin, 0.8*(1-lin**n /(lin**n + KD**n)), color='grey', linestyle='--', label = 'Hill Effect')\n",
        "plot_legend(ax, legfts = 9, loc='upper right')\n",
        "\n",
        "name = 'MFAsup_plot'\n",
        "plt.tight_layout()\n",
        "# plt.savefig(f'/content/drive/MyDrive/POBS/figs/{name}.svg', dpi=1000)"
      ]
    },
    {
      "cell_type": "code",
      "execution_count": null,
      "metadata": {},
      "outputs": [],
      "source": [
        "sims = {}\n",
        "# define rates and concerntraions\n",
        "rates = {'k1_0': 1.5 * .22428/90 , 'k1_c': 0.03, 'k2_0': 1.5, 'k2_c': 20}\n",
        "concs = {'ATP': 2000.0, 'MFA_star0': 0.0, 'MFA': 2.0, 'FAE': 0.0, 'AAP': 0.0}\n",
        "\n",
        "rates = {'k1_0': 3.5 * .22428/90 , 'k1_c': 0.03, 'k2_0': 3.5, 'k2_c': 25}\n",
        "concs = {'ATP': 2000.0, 'MFA_star0': 0.0, 'MFA': 1.0, 'FAE': 0.0, 'AAP': 0.0}\n",
        "\n",
        "F_KD = 0.35\n",
        "F_n = 4\n",
        "\n",
        "for i, title in enumerate(['AAPmain','AAPsup1','AAPsup2','AAPsup3']):\n",
        "\n",
        "    shift = 0\n",
        "    # load dataset of interest\n",
        "    x, y, indepvar, T = load_dataset(title)\n",
        "    # set the [enzyme] which is varried to array of what it is\n",
        "    if title == 'AAPmain':\n",
        "            x = x[1:]\n",
        "            y = y[1:]\n",
        "    concs[indepvar] = x.to_numpy() + shift\n",
        "    concs[indepvar] = np.append(concs[indepvar],0)\n",
        "    # simulation class containing everthing to do with sim\n",
        "    sim = simulation(concs, rates, indepvar) # initialise\n",
        "    sim.x = x; sim.y = y; sim.T = T # add the data to it\n",
        "    sim.sim_over_var() # sim over variable [enzyme]\n",
        "    sim.interpolate(sim.T) # interpolate to find value at specific T\n",
        "\n",
        "    sims[title] = sim"
      ]
    },
    {
      "cell_type": "code",
      "execution_count": 1308,
      "metadata": {},
      "outputs": [
        {
          "name": "stdout",
          "output_type": "stream",
          "text": [
            "0.6575078021942665\n",
            "0.8594606667957175\n",
            "0.8269859237558714\n",
            "0.8349732407681665\n"
          ]
        },
        {
          "data": {
            "image/png": "[encoded data removed]",
            "text/plain": [
              "<Figure size 600x500 with 1 Axes>"
            ]
          },
          "metadata": {},
          "output_type": "display_data"
        }
      ],
      "source": [
        "keff = []\n",
        "fig, ax = plt.subplots(figsize=(6, 5))\n",
        "for i, title in enumerate(['AAPmain','AAPsup1','AAPsup2','AAPsup3']): #,\n",
        "    sim = sims[title]\n",
        "    shift = 0\n",
        "\n",
        "    plot_data(ax,  (sim.x+shift), (sim.y), label=f\"{title}, T={sim.T}\", marker='x', color=nicecolors[i], alpha=1)\n",
        "    plot_scatter(ax, (sim.var_concs), (sim.Tmes),marker='o', color=nicecolors[i])\n",
        "    exp_fitC = lambda x, a, b: a * np.exp(b * x) + sim.y.min() #exp_fit\n",
        "    print(sim.y.max())\n",
        "    #fit exponetial and shift\n",
        "    # popt, popc, R2 = plot_fit(ax, (sim.x+shift), (sim.y), exp_fitC, color=nicecolors[i], label = None)\n",
        "    exp_fitC = lambda x, a, b: a * np.exp(b * x) + sim.Tmes.min() #exp_fit\n",
        "    # popt, popc, R2 = plot_fit(ax, (sim.var_concs), (sim.Tmes), exp_fitC, color=nicecolors[i], label = None, linestyle='--')\n",
        "\n",
        "    plot_labels(ax, f\"[{indepvar}]$/\\mu$M\", r\"[ATP]/[ATP$_0$]\", f\"{indepvar} kinetics\") #T={sim.T}\n",
        "    plot_lims(ax, sim.x, sim.Tmes, [0,1.55],[0,1])\n",
        "    \n",
        "    \n",
        "    sims[title] = sim\n",
        "plot_ticks(ax, default_ticks=6)\n",
        "plt.plot([],[], label='$ae^{bx}$ Data fit', color='black')\n",
        "plt.plot([],[], label='$ae^{bx}$ Simulation fit', color='black', linestyle='--')\n",
        "plot_legend(ax, legfts = 9, loc='lower right')\n",
        "name = 'MFAsup_plot'\n",
        "plt.tight_layout()\n",
        "# plt.savefig(f'/content/drive/MyDrive/POBS/figs/{name}.svg', dpi=1000)"
      ]
    },
    {
      "cell_type": "code",
      "execution_count": 916,
      "metadata": {},
      "outputs": [
        {
          "name": "stdout",
          "output_type": "stream",
          "text": [
            "ar = 0.84047 ± 0.01382\n"
          ]
        }
      ],
      "source": [
        "ar = np.array([0.8594606667957175, 0.8269859237558714, 0.8349732407681665])\n",
        "ar.mean(), ar.std()\n",
        "print(f\"ar = {ar.mean():.5f} ± {ar.std():.5f}\")"
      ]
    },
    {
      "cell_type": "markdown",
      "metadata": {
        "id": "GDxBcKBevbMm"
      },
      "source": [
        "### only 1 indep var"
      ]
    },
    {
      "cell_type": "markdown",
      "metadata": {
        "id": "1GAVcPibIYih"
      },
      "source": [
        "## 2 uncopled independent variables\n"
      ]
    },
    {
      "cell_type": "code",
      "execution_count": 1333,
      "metadata": {
        "cellView": "form",
        "id": "ry4dw6WVwjkR"
      },
      "outputs": [],
      "source": [
        "# @title 2 uncopled independent variables\n",
        "#Initiation of parameters:\n",
        "\n",
        "rates = {'k1_0': 3.5 * .22428/90 , 'k1_c': 0.04, 'k2_0': 3.5, 'k2_c': 25}\n",
        "concs = {'ATP': 2000.0, 'MFA_star0': 0.0, 'MFA': 1.0, 'FAE': 0.0, 'AAP': 0.0} #matches AAP\n",
        "\n",
        "\n",
        "rates = {'k1_0': 1. * .22428/90 , 'k1_c': 0.04, 'k2_0': 50, 'k2_c': 20}\n",
        "concs = {'ATP': 2000.0, 'MFA_star0': 0.0, 'MFA': 1.0, 'FAE': 0.0, 'AAP': 0.0} #matches FAE\n",
        "\n",
        "rates = {'k1_0': 3.5 * .22428/90 , 'k1_c': 0.4, 'k2_0': 10, 'k2_c': 25}\n",
        "concs = {'ATP': 2000.0, 'MFA_star0': 0.0, 'MFA': 1.0, 'FAE': 0.0, 'AAP': 0.0} #matches both?\n",
        "\n",
        "F_KD = 0.35\n",
        "F_n = 4\n",
        "# load dataset of interest\n",
        "x1, x2, y, indepvar1, indepvar2, T = load_dataset_v2('ALLmain')\n",
        "\n",
        "sim = simulation(concs, rates, indepvar='FAE')   # name ignored here\n",
        "grid = sim.sim_over_two_vars(indepvar1, indepvar2,\n",
        "                             x1, x2,\n",
        "                             t_max=T)\n",
        "\n",
        "# quick heat‑map of ATP remaining at t = T\n",
        "ATP90 = np.array([[cell['ATP'][-1] for cell in row] for row in grid])\n",
        "\n",
        "x2_mesh, x1_mesh = np.meshgrid(x2, x1)  # note the order for axes\n",
        "\n"
      ]
    },
    {
      "cell_type": "code",
      "execution_count": 1349,
      "metadata": {
        "colab": {
          "base_uri": "https://localhost:8080/",
          "height": 517
        },
        "id": "5JgyJkQILpX4",
        "outputId": "7d6fb52a-7fb6-4a5c-f56c-e8498e2d3728"
      },
      "outputs": [
        {
          "data": {
            "application/vnd.plotly.v1+json": {
              "config": {
                "plotlyServerURL": "https://plot.ly"
              },
              "data": [
                {
                  "marker": {
                    "color": "royalblue",
                    "opacity": 0.8,
                    "size": 4
                  },
                  "mode": "markers",
                  "name": "Simulation",
                  "textfont": {
                    "size": 18
                  },
                  "type": "scatter3d",
                  "x": [
                    0,
                    0,
                    0,
                    0,
                    0,
                    0,
                    0,
                    0,
                    0,
                    0,
                    0,
                    0,
                    0,
                    0,
                    0,
                    0,
                    0,
                    0,
                    0,
                    0,
                    0,
                    0,
                    0,
                    0,
                    0,
                    0,
                    0,
                    0,
                    0,
                    0,
                    0,
                    0,
                    0,
                    0,
                    0,
                    0,
                    0,
                    0,
                    0,
                    0,
                    0,
                    0,
                    0,
                    0,
                    0,
                    0,
                    0,
                    0,
                    0,
                    0,
                    0,
                    0,
                    0,
                    0,
                    0,
                    0,
                    0,
                    0,
                    0,
                    0,
                    0,
                    0,
                    0,
                    0,
                    0,
                    0,
                    0,
                    0,
                    0,
                    0,
                    0,
                    0,
                    0,
                    0,
                    0,
                    0,
                    0,
                    0,
                    0,
                    0,
                    0,
                    0,
                    0,
                    0,
                    0,
                    0,
                    0,
                    0,
                    0,
                    0,
                    0,
                    0,
                    0,
                    0,
                    0,
                    0,
                    0,
                    0,
                    0,
                    0,
                    0,
                    0,
                    0,
                    0,
                    0,
                    0,
                    0,
                    0,
                    0,
                    0,
                    0,
                    0,
                    0,
                    0,
                    0,
                    0,
                    0,
                    0,
                    0,
                    0,
                    0,
                    0,
                    0,
                    0,
                    0,
                    0,
                    0,
                    0,
                    0.25,
                    0.25,
                    0.25,
                    0.25,
                    0.25,
                    0.25,
                    0.25,
                    0.25,
                    0.25,
                    0.25,
                    0.25,
                    0.25,
                    0.25,
                    0.25,
                    0.25,
                    0.25,
                    0.5,
                    0.5,
                    0.5,
                    0.5,
                    0.5,
                    0.5,
                    0.5,
                    0.5,
                    0.5,
                    0.5,
                    0.5,
                    0.5,
                    0.5,
                    0.5,
                    0.5,
                    0.5,
                    1,
                    1,
                    1,
                    1,
                    1,
                    1,
                    1,
                    1,
                    1,
                    1,
                    1,
                    1,
                    1,
                    1,
                    1,
                    1,
                    0.5,
                    0.5,
                    0.5,
                    0.5,
                    0.5,
                    0.5,
                    0.5,
                    0.5,
                    0.5,
                    0.5,
                    0.5,
                    0.5,
                    0.5,
                    0.5,
                    0.5,
                    0.5,
                    0.25,
                    0.25,
                    0.25,
                    0.25,
                    0.25,
                    0.25,
                    0.25,
                    0.25,
                    0.25,
                    0.25,
                    0.25,
                    0.25,
                    0.25,
                    0.25,
                    0.25,
                    0.25,
                    0.5,
                    0.5,
                    0.5,
                    0.5,
                    0.5,
                    0.5,
                    0.5,
                    0.5,
                    0.5,
                    0.5,
                    0.5,
                    0.5,
                    0.5,
                    0.5,
                    0.5,
                    0.5,
                    1,
                    1,
                    1,
                    1,
                    1,
                    1,
                    1,
                    1,
                    1,
                    1,
                    1,
                    1,
                    1,
                    1,
                    1,
                    1,
                    0.5,
                    0.5,
                    0.5,
                    0.5,
                    0.5,
                    0.5,
                    0.5,
                    0.5,
                    0.5,
                    0.5,
                    0.5,
                    0.5,
                    0.5,
                    0.5,
                    0.5,
                    0.5
                  ],
                  "y": [
                    0,
                    0,
                    0,
                    0,
                    0,
                    0.15,
                    0.2,
                    0.25,
                    0,
                    0,
                    0,
                    0.2,
                    0.15,
                    0.15,
                    0.15,
                    0.25,
                    0,
                    0,
                    0,
                    0,
                    0,
                    0.15,
                    0.2,
                    0.25,
                    0,
                    0,
                    0,
                    0.2,
                    0.15,
                    0.15,
                    0.15,
                    0.25,
                    0,
                    0,
                    0,
                    0,
                    0,
                    0.15,
                    0.2,
                    0.25,
                    0,
                    0,
                    0,
                    0.2,
                    0.15,
                    0.15,
                    0.15,
                    0.25,
                    0,
                    0,
                    0,
                    0,
                    0,
                    0.15,
                    0.2,
                    0.25,
                    0,
                    0,
                    0,
                    0.2,
                    0.15,
                    0.15,
                    0.15,
                    0.25,
                    0,
                    0,
                    0,
                    0,
                    0,
                    0.15,
                    0.2,
                    0.25,
                    0,
                    0,
                    0,
                    0.2,
                    0.15,
                    0.15,
                    0.15,
                    0.25,
                    0,
                    0,
                    0,
                    0,
                    0,
                    0.15,
                    0.2,
                    0.25,
                    0,
                    0,
                    0,
                    0.2,
                    0.15,
                    0.15,
                    0.15,
                    0.25,
                    0,
                    0,
                    0,
                    0,
                    0,
                    0.15,
                    0.2,
                    0.25,
                    0,
                    0,
                    0,
                    0.2,
                    0.15,
                    0.15,
                    0.15,
                    0.25,
                    0,
                    0,
                    0,
                    0,
                    0,
                    0.15,
                    0.2,
                    0.25,
                    0,
                    0,
                    0,
                    0.2,
                    0.15,
                    0.15,
                    0.15,
                    0.25,
                    0,
                    0,
                    0,
                    0,
                    0,
                    0.15,
                    0.2,
                    0.25,
                    0,
                    0,
                    0,
                    0.2,
                    0.15,
                    0.15,
                    0.15,
                    0.25,
                    0,
                    0,
                    0,
                    0,
                    0,
                    0.15,
                    0.2,
                    0.25,
                    0,
                    0,
                    0,
                    0.2,
                    0.15,
                    0.15,
                    0.15,
                    0.25,
                    0,
                    0,
                    0,
                    0,
                    0,
                    0.15,
                    0.2,
                    0.25,
                    0,
                    0,
                    0,
                    0.2,
                    0.15,
                    0.15,
                    0.15,
                    0.25,
                    0,
                    0,
                    0,
                    0,
                    0,
                    0.15,
                    0.2,
                    0.25,
                    0,
                    0,
                    0,
                    0.2,
                    0.15,
                    0.15,
                    0.15,
                    0.25,
                    0,
                    0,
                    0,
                    0,
                    0,
                    0.15,
                    0.2,
                    0.25,
                    0,
                    0,
                    0,
                    0.2,
                    0.15,
                    0.15,
                    0.15,
                    0.25,
                    0,
                    0,
                    0,
                    0,
                    0,
                    0.15,
                    0.2,
                    0.25,
                    0,
                    0,
                    0,
                    0.2,
                    0.15,
                    0.15,
                    0.15,
                    0.25,
                    0,
                    0,
                    0,
                    0,
                    0,
                    0.15,
                    0.2,
                    0.25,
                    0,
                    0,
                    0,
                    0.2,
                    0.15,
                    0.15,
                    0.15,
                    0.25,
                    0,
                    0,
                    0,
                    0,
                    0,
                    0.15,
                    0.2,
                    0.25,
                    0,
                    0,
                    0,
                    0.2,
                    0.15,
                    0.15,
                    0.15,
                    0.25
                  ],
                  "z": [
                    0.7668755461116039,
                    0.7668755461116039,
                    0.7668755461116039,
                    0.7668755461116039,
                    0.7668755461116039,
                    0.6973809372895394,
                    0.6587317026554271,
                    0.6390508837063273,
                    0.7668755461116039,
                    0.7668755461116039,
                    0.7668755461116039,
                    0.6587317026554271,
                    0.6973809372895394,
                    0.6973809372895394,
                    0.6973809372895394,
                    0.6390508837063273,
                    0.7668755461116039,
                    0.7668755461116039,
                    0.7668755461116039,
                    0.7668755461116039,
                    0.7668755461116039,
                    0.6973809372895394,
                    0.6587317026554271,
                    0.6390508837063273,
                    0.7668755461116039,
                    0.7668755461116039,
                    0.7668755461116039,
                    0.6587317026554271,
                    0.6973809372895394,
                    0.6973809372895394,
                    0.6973809372895394,
                    0.6390508837063273,
                    0.7668755461116039,
                    0.7668755461116039,
                    0.7668755461116039,
                    0.7668755461116039,
                    0.7668755461116039,
                    0.6973809372895394,
                    0.6587317026554271,
                    0.6390508837063273,
                    0.7668755461116039,
                    0.7668755461116039,
                    0.7668755461116039,
                    0.6587317026554271,
                    0.6973809372895394,
                    0.6973809372895394,
                    0.6973809372895394,
                    0.6390508837063273,
                    0.7668755461116039,
                    0.7668755461116039,
                    0.7668755461116039,
                    0.7668755461116039,
                    0.7668755461116039,
                    0.6973809372895394,
                    0.6587317026554271,
                    0.6390508837063273,
                    0.7668755461116039,
                    0.7668755461116039,
                    0.7668755461116039,
                    0.6587317026554271,
                    0.6973809372895394,
                    0.6973809372895394,
                    0.6973809372895394,
                    0.6390508837063273,
                    0.7668755461116039,
                    0.7668755461116039,
                    0.7668755461116039,
                    0.7668755461116039,
                    0.7668755461116039,
                    0.6973809372895394,
                    0.6587317026554271,
                    0.6390508837063273,
                    0.7668755461116039,
                    0.7668755461116039,
                    0.7668755461116039,
                    0.6587317026554271,
                    0.6973809372895394,
                    0.6973809372895394,
                    0.6973809372895394,
                    0.6390508837063273,
                    0.7668755461116039,
                    0.7668755461116039,
                    0.7668755461116039,
                    0.7668755461116039,
                    0.7668755461116039,
                    0.6973809372895394,
                    0.6587317026554271,
                    0.6390508837063273,
                    0.7668755461116039,
                    0.7668755461116039,
                    0.7668755461116039,
                    0.6587317026554271,
                    0.6973809372895394,
                    0.6973809372895394,
                    0.6973809372895394,
                    0.6390508837063273,
                    0.7668755461116039,
                    0.7668755461116039,
                    0.7668755461116039,
                    0.7668755461116039,
                    0.7668755461116039,
                    0.6973809372895394,
                    0.6587317026554271,
                    0.6390508837063273,
                    0.7668755461116039,
                    0.7668755461116039,
                    0.7668755461116039,
                    0.6587317026554271,
                    0.6973809372895394,
                    0.6973809372895394,
                    0.6973809372895394,
                    0.6390508837063273,
                    0.7668755461116039,
                    0.7668755461116039,
                    0.7668755461116039,
                    0.7668755461116039,
                    0.7668755461116039,
                    0.6973809372895394,
                    0.6587317026554271,
                    0.6390508837063273,
                    0.7668755461116039,
                    0.7668755461116039,
                    0.7668755461116039,
                    0.6587317026554271,
                    0.6973809372895394,
                    0.6973809372895394,
                    0.6973809372895394,
                    0.6390508837063273,
                    0.7027581574315179,
                    0.7027581574315179,
                    0.7027581574315179,
                    0.7027581574315179,
                    0.7027581574315179,
                    0.5783690014452564,
                    0.49492146182363533,
                    0.44581899171864015,
                    0.7027581574315179,
                    0.7027581574315179,
                    0.7027581574315179,
                    0.49492146182363533,
                    0.5783690014452564,
                    0.5783690014452564,
                    0.5783690014452564,
                    0.44581899171864015,
                    0.6632308261389197,
                    0.6632308261389197,
                    0.6632308261389197,
                    0.6632308261389197,
                    0.6632308261389197,
                    0.49587823514559026,
                    0.3700692872334515,
                    0.28710248759456686,
                    0.6632308261389197,
                    0.6632308261389197,
                    0.6632308261389197,
                    0.3700692872334515,
                    0.49587823514559026,
                    0.49587823514559026,
                    0.49587823514559026,
                    0.28710248759456686,
                    0.6180013950273697,
                    0.6180013950273697,
                    0.6180013950273697,
                    0.6180013950273697,
                    0.6180013950273697,
                    0.39625668284046045,
                    0.2173875106546195,
                    0.09778416046686851,
                    0.6180013950273697,
                    0.6180013950273697,
                    0.6180013950273697,
                    0.2173875106546195,
                    0.39625668284046045,
                    0.39625668284046045,
                    0.39625668284046045,
                    0.09778416046686851,
                    0.6632308261389197,
                    0.6632308261389197,
                    0.6632308261389197,
                    0.6632308261389197,
                    0.6632308261389197,
                    0.49587823514559026,
                    0.3700692872334515,
                    0.28710248759456686,
                    0.6632308261389197,
                    0.6632308261389197,
                    0.6632308261389197,
                    0.3700692872334515,
                    0.49587823514559026,
                    0.49587823514559026,
                    0.49587823514559026,
                    0.28710248759456686,
                    0.7027581574315179,
                    0.7027581574315179,
                    0.7027581574315179,
                    0.7027581574315179,
                    0.7027581574315179,
                    0.5783690014452564,
                    0.49492146182363533,
                    0.44581899171864015,
                    0.7027581574315179,
                    0.7027581574315179,
                    0.7027581574315179,
                    0.49492146182363533,
                    0.5783690014452564,
                    0.5783690014452564,
                    0.5783690014452564,
                    0.44581899171864015,
                    0.6632308261389197,
                    0.6632308261389197,
                    0.6632308261389197,
                    0.6632308261389197,
                    0.6632308261389197,
                    0.49587823514559026,
                    0.3700692872334515,
                    0.28710248759456686,
                    0.6632308261389197,
                    0.6632308261389197,
                    0.6632308261389197,
                    0.3700692872334515,
                    0.49587823514559026,
                    0.49587823514559026,
                    0.49587823514559026,
                    0.28710248759456686,
                    0.6180013950273697,
                    0.6180013950273697,
                    0.6180013950273697,
                    0.6180013950273697,
                    0.6180013950273697,
                    0.39625668284046045,
                    0.2173875106546195,
                    0.09778416046686851,
                    0.6180013950273697,
                    0.6180013950273697,
                    0.6180013950273697,
                    0.2173875106546195,
                    0.39625668284046045,
                    0.39625668284046045,
                    0.39625668284046045,
                    0.09778416046686851,
                    0.6632308261389197,
                    0.6632308261389197,
                    0.6632308261389197,
                    0.6632308261389197,
                    0.6632308261389197,
                    0.49587823514559026,
                    0.3700692872334515,
                    0.28710248759456686,
                    0.6632308261389197,
                    0.6632308261389197,
                    0.6632308261389197,
                    0.3700692872334515,
                    0.49587823514559026,
                    0.49587823514559026,
                    0.49587823514559026,
                    0.28710248759456686
                  ]
                },
                {
                  "marker": {
                    "color": "darkorange",
                    "opacity": 0.8,
                    "size": 4
                  },
                  "mode": "markers",
                  "name": "Data",
                  "textfont": {
                    "size": 18
                  },
                  "type": "scatter3d",
                  "x": [
                    0,
                    0,
                    0,
                    0,
                    0,
                    0,
                    0,
                    0,
                    0.25,
                    0.5,
                    1,
                    0.5,
                    0.25,
                    0.5,
                    1,
                    0.5
                  ],
                  "y": [
                    0,
                    0,
                    0,
                    0,
                    0,
                    0.15,
                    0.2,
                    0.25,
                    0,
                    0,
                    0,
                    0.2,
                    0.15,
                    0.15,
                    0.15,
                    0.25
                  ],
                  "z": [
                    1.0714268881819253,
                    1.07960410038883,
                    0.9439692078080201,
                    0.9049998036212246,
                    0.8750716782530145,
                    0.743513609049134,
                    0.5513137740073053,
                    0.5230980715604258,
                    0.6939711715957739,
                    0.6537056674914575,
                    0.6241153136169043,
                    0.16000942618121833,
                    0.43211971250147285,
                    0.2773575271984604,
                    0.17293900475236637,
                    0.09624916539020463
                  ]
                }
              ],
              "layout": {
                "margin": {
                  "b": 0,
                  "l": 0,
                  "r": 0,
                  "t": 40
                },
                "scene": {
                  "aspectmode": "cube",
                  "camera": {
                    "center": {
                      "x": 0,
                      "y": 0,
                      "z": -0.2
                    },
                    "eye": {
                      "x": 1.5,
                      "y": 1.5,
                      "z": 0.5
                    },
                    "up": {
                      "x": 0,
                      "y": 0,
                      "z": 1
                    }
                  },
                  "xaxis": {
                    "title": {
                      "text": "[AAP] (µM)"
                    }
                  },
                  "yaxis": {
                    "title": {
                      "text": "[FAE] (µM)"
                    }
                  },
                  "zaxis": {
                    "title": {
                      "text": "[ATP] / [ATP]₀"
                    }
                  }
                },
                "template": {
                  "data": {
                    "bar": [
                      {
                        "error_x": {
                          "color": "#2a3f5f"
                        },
                        "error_y": {
                          "color": "#2a3f5f"
                        },
                        "marker": {
                          "line": {
                            "color": "#E5ECF6",
                            "width": 0.5
                          },
                          "pattern": {
                            "fillmode": "overlay",
                            "size": 10,
                            "solidity": 0.2
                          }
                        },
                        "type": "bar"
                      }
                    ],
                    "barpolar": [
                      {
                        "marker": {
                          "line": {
                            "color": "#E5ECF6",
                            "width": 0.5
                          },
                          "pattern": {
                            "fillmode": "overlay",
                            "size": 10,
                            "solidity": 0.2
                          }
                        },
                        "type": "barpolar"
                      }
                    ],
                    "carpet": [
                      {
                        "aaxis": {
                          "endlinecolor": "#2a3f5f",
                          "gridcolor": "white",
                          "linecolor": "white",
                          "minorgridcolor": "white",
                          "startlinecolor": "#2a3f5f"
                        },
                        "baxis": {
                          "endlinecolor": "#2a3f5f",
                          "gridcolor": "white",
                          "linecolor": "white",
                          "minorgridcolor": "white",
                          "startlinecolor": "#2a3f5f"
                        },
                        "type": "carpet"
                      }
                    ],
                    "choropleth": [
                      {
                        "colorbar": {
                          "outlinewidth": 0,
                          "ticks": ""
                        },
                        "type": "choropleth"
                      }
                    ],
                    "contour": [
                      {
                        "colorbar": {
                          "outlinewidth": 0,
                          "ticks": ""
                        },
                        "colorscale": [
                          [
                            0,
                            "#0d0887"
                          ],
                          [
                            0.1111111111111111,
                            "#46039f"
                          ],
                          [
                            0.2222222222222222,
                            "#7201a8"
                          ],
                          [
                            0.3333333333333333,
                            "#9c179e"
                          ],
                          [
                            0.4444444444444444,
                            "#bd3786"
                          ],
                          [
                            0.5555555555555556,
                            "#d8576b"
                          ],
                          [
                            0.6666666666666666,
                            "#ed7953"
                          ],
                          [
                            0.7777777777777778,
                            "#fb9f3a"
                          ],
                          [
                            0.8888888888888888,
                            "#fdca26"
                          ],
                          [
                            1,
                            "#f0f921"
                          ]
                        ],
                        "type": "contour"
                      }
                    ],
                    "contourcarpet": [
                      {
                        "colorbar": {
                          "outlinewidth": 0,
                          "ticks": ""
                        },
                        "type": "contourcarpet"
                      }
                    ],
                    "heatmap": [
                      {
                        "colorbar": {
                          "outlinewidth": 0,
                          "ticks": ""
                        },
                        "colorscale": [
                          [
                            0,
                            "#0d0887"
                          ],
                          [
                            0.1111111111111111,
                            "#46039f"
                          ],
                          [
                            0.2222222222222222,
                            "#7201a8"
                          ],
                          [
                            0.3333333333333333,
                            "#9c179e"
                          ],
                          [
                            0.4444444444444444,
                            "#bd3786"
                          ],
                          [
                            0.5555555555555556,
                            "#d8576b"
                          ],
                          [
                            0.6666666666666666,
                            "#ed7953"
                          ],
                          [
                            0.7777777777777778,
                            "#fb9f3a"
                          ],
                          [
                            0.8888888888888888,
                            "#fdca26"
                          ],
                          [
                            1,
                            "#f0f921"
                          ]
                        ],
                        "type": "heatmap"
                      }
                    ],
                    "heatmapgl": [
                      {
                        "colorbar": {
                          "outlinewidth": 0,
                          "ticks": ""
                        },
                        "colorscale": [
                          [
                            0,
                            "#0d0887"
                          ],
                          [
                            0.1111111111111111,
                            "#46039f"
                          ],
                          [
                            0.2222222222222222,
                            "#7201a8"
                          ],
                          [
                            0.3333333333333333,
                            "#9c179e"
                          ],
                          [
                            0.4444444444444444,
                            "#bd3786"
                          ],
                          [
                            0.5555555555555556,
                            "#d8576b"
                          ],
                          [
                            0.6666666666666666,
                            "#ed7953"
                          ],
                          [
                            0.7777777777777778,
                            "#fb9f3a"
                          ],
                          [
                            0.8888888888888888,
                            "#fdca26"
                          ],
                          [
                            1,
                            "#f0f921"
                          ]
                        ],
                        "type": "heatmapgl"
                      }
                    ],
                    "histogram": [
                      {
                        "marker": {
                          "pattern": {
                            "fillmode": "overlay",
                            "size": 10,
                            "solidity": 0.2
                          }
                        },
                        "type": "histogram"
                      }
                    ],
                    "histogram2d": [
                      {
                        "colorbar": {
                          "outlinewidth": 0,
                          "ticks": ""
                        },
                        "colorscale": [
                          [
                            0,
                            "#0d0887"
                          ],
                          [
                            0.1111111111111111,
                            "#46039f"
                          ],
                          [
                            0.2222222222222222,
                            "#7201a8"
                          ],
                          [
                            0.3333333333333333,
                            "#9c179e"
                          ],
                          [
                            0.4444444444444444,
                            "#bd3786"
                          ],
                          [
                            0.5555555555555556,
                            "#d8576b"
                          ],
                          [
                            0.6666666666666666,
                            "#ed7953"
                          ],
                          [
                            0.7777777777777778,
                            "#fb9f3a"
                          ],
                          [
                            0.8888888888888888,
                            "#fdca26"
                          ],
                          [
                            1,
                            "#f0f921"
                          ]
                        ],
                        "type": "histogram2d"
                      }
                    ],
                    "histogram2dcontour": [
                      {
                        "colorbar": {
                          "outlinewidth": 0,
                          "ticks": ""
                        },
                        "colorscale": [
                          [
                            0,
                            "#0d0887"
                          ],
                          [
                            0.1111111111111111,
                            "#46039f"
                          ],
                          [
                            0.2222222222222222,
                            "#7201a8"
                          ],
                          [
                            0.3333333333333333,
                            "#9c179e"
                          ],
                          [
                            0.4444444444444444,
                            "#bd3786"
                          ],
                          [
                            0.5555555555555556,
                            "#d8576b"
                          ],
                          [
                            0.6666666666666666,
                            "#ed7953"
                          ],
                          [
                            0.7777777777777778,
                            "#fb9f3a"
                          ],
                          [
                            0.8888888888888888,
                            "#fdca26"
                          ],
                          [
                            1,
                            "#f0f921"
                          ]
                        ],
                        "type": "histogram2dcontour"
                      }
                    ],
                    "mesh3d": [
                      {
                        "colorbar": {
                          "outlinewidth": 0,
                          "ticks": ""
                        },
                        "type": "mesh3d"
                      }
                    ],
                    "parcoords": [
                      {
                        "line": {
                          "colorbar": {
                            "outlinewidth": 0,
                            "ticks": ""
                          }
                        },
                        "type": "parcoords"
                      }
                    ],
                    "pie": [
                      {
                        "automargin": true,
                        "type": "pie"
                      }
                    ],
                    "scatter": [
                      {
                        "fillpattern": {
                          "fillmode": "overlay",
                          "size": 10,
                          "solidity": 0.2
                        },
                        "type": "scatter"
                      }
                    ],
                    "scatter3d": [
                      {
                        "line": {
                          "colorbar": {
                            "outlinewidth": 0,
                            "ticks": ""
                          }
                        },
                        "marker": {
                          "colorbar": {
                            "outlinewidth": 0,
                            "ticks": ""
                          }
                        },
                        "type": "scatter3d"
                      }
                    ],
                    "scattercarpet": [
                      {
                        "marker": {
                          "colorbar": {
                            "outlinewidth": 0,
                            "ticks": ""
                          }
                        },
                        "type": "scattercarpet"
                      }
                    ],
                    "scattergeo": [
                      {
                        "marker": {
                          "colorbar": {
                            "outlinewidth": 0,
                            "ticks": ""
                          }
                        },
                        "type": "scattergeo"
                      }
                    ],
                    "scattergl": [
                      {
                        "marker": {
                          "colorbar": {
                            "outlinewidth": 0,
                            "ticks": ""
                          }
                        },
                        "type": "scattergl"
                      }
                    ],
                    "scattermapbox": [
                      {
                        "marker": {
                          "colorbar": {
                            "outlinewidth": 0,
                            "ticks": ""
                          }
                        },
                        "type": "scattermapbox"
                      }
                    ],
                    "scatterpolar": [
                      {
                        "marker": {
                          "colorbar": {
                            "outlinewidth": 0,
                            "ticks": ""
                          }
                        },
                        "type": "scatterpolar"
                      }
                    ],
                    "scatterpolargl": [
                      {
                        "marker": {
                          "colorbar": {
                            "outlinewidth": 0,
                            "ticks": ""
                          }
                        },
                        "type": "scatterpolargl"
                      }
                    ],
                    "scatterternary": [
                      {
                        "marker": {
                          "colorbar": {
                            "outlinewidth": 0,
                            "ticks": ""
                          }
                        },
                        "type": "scatterternary"
                      }
                    ],
                    "surface": [
                      {
                        "colorbar": {
                          "outlinewidth": 0,
                          "ticks": ""
                        },
                        "colorscale": [
                          [
                            0,
                            "#0d0887"
                          ],
                          [
                            0.1111111111111111,
                            "#46039f"
                          ],
                          [
                            0.2222222222222222,
                            "#7201a8"
                          ],
                          [
                            0.3333333333333333,
                            "#9c179e"
                          ],
                          [
                            0.4444444444444444,
                            "#bd3786"
                          ],
                          [
                            0.5555555555555556,
                            "#d8576b"
                          ],
                          [
                            0.6666666666666666,
                            "#ed7953"
                          ],
                          [
                            0.7777777777777778,
                            "#fb9f3a"
                          ],
                          [
                            0.8888888888888888,
                            "#fdca26"
                          ],
                          [
                            1,
                            "#f0f921"
                          ]
                        ],
                        "type": "surface"
                      }
                    ],
                    "table": [
                      {
                        "cells": {
                          "fill": {
                            "color": "#EBF0F8"
                          },
                          "line": {
                            "color": "white"
                          }
                        },
                        "header": {
                          "fill": {
                            "color": "#C8D4E3"
                          },
                          "line": {
                            "color": "white"
                          }
                        },
                        "type": "table"
                      }
                    ]
                  },
                  "layout": {
                    "annotationdefaults": {
                      "arrowcolor": "#2a3f5f",
                      "arrowhead": 0,
                      "arrowwidth": 1
                    },
                    "autotypenumbers": "strict",
                    "coloraxis": {
                      "colorbar": {
                        "outlinewidth": 0,
                        "ticks": ""
                      }
                    },
                    "colorscale": {
                      "diverging": [
                        [
                          0,
                          "#8e0152"
                        ],
                        [
                          0.1,
                          "#c51b7d"
                        ],
                        [
                          0.2,
                          "#de77ae"
                        ],
                        [
                          0.3,
                          "#f1b6da"
                        ],
                        [
                          0.4,
                          "#fde0ef"
                        ],
                        [
                          0.5,
                          "#f7f7f7"
                        ],
                        [
                          0.6,
                          "#e6f5d0"
                        ],
                        [
                          0.7,
                          "#b8e186"
                        ],
                        [
                          0.8,
                          "#7fbc41"
                        ],
                        [
                          0.9,
                          "#4d9221"
                        ],
                        [
                          1,
                          "#276419"
                        ]
                      ],
                      "sequential": [
                        [
                          0,
                          "#0d0887"
                        ],
                        [
                          0.1111111111111111,
                          "#46039f"
                        ],
                        [
                          0.2222222222222222,
                          "#7201a8"
                        ],
                        [
                          0.3333333333333333,
                          "#9c179e"
                        ],
                        [
                          0.4444444444444444,
                          "#bd3786"
                        ],
                        [
                          0.5555555555555556,
                          "#d8576b"
                        ],
                        [
                          0.6666666666666666,
                          "#ed7953"
                        ],
                        [
                          0.7777777777777778,
                          "#fb9f3a"
                        ],
                        [
                          0.8888888888888888,
                          "#fdca26"
                        ],
                        [
                          1,
                          "#f0f921"
                        ]
                      ],
                      "sequentialminus": [
                        [
                          0,
                          "#0d0887"
                        ],
                        [
                          0.1111111111111111,
                          "#46039f"
                        ],
                        [
                          0.2222222222222222,
                          "#7201a8"
                        ],
                        [
                          0.3333333333333333,
                          "#9c179e"
                        ],
                        [
                          0.4444444444444444,
                          "#bd3786"
                        ],
                        [
                          0.5555555555555556,
                          "#d8576b"
                        ],
                        [
                          0.6666666666666666,
                          "#ed7953"
                        ],
                        [
                          0.7777777777777778,
                          "#fb9f3a"
                        ],
                        [
                          0.8888888888888888,
                          "#fdca26"
                        ],
                        [
                          1,
                          "#f0f921"
                        ]
                      ]
                    },
                    "colorway": [
                      "#636efa",
                      "#EF553B",
                      "#00cc96",
                      "#ab63fa",
                      "#FFA15A",
                      "#19d3f3",
                      "#FF6692",
                      "#B6E880",
                      "#FF97FF",
                      "#FECB52"
                    ],
                    "font": {
                      "color": "#2a3f5f"
                    },
                    "geo": {
                      "bgcolor": "white",
                      "lakecolor": "white",
                      "landcolor": "#E5ECF6",
                      "showlakes": true,
                      "showland": true,
                      "subunitcolor": "white"
                    },
                    "hoverlabel": {
                      "align": "left"
                    },
                    "hovermode": "closest",
                    "mapbox": {
                      "style": "light"
                    },
                    "paper_bgcolor": "white",
                    "plot_bgcolor": "#E5ECF6",
                    "polar": {
                      "angularaxis": {
                        "gridcolor": "white",
                        "linecolor": "white",
                        "ticks": ""
                      },
                      "bgcolor": "#E5ECF6",
                      "radialaxis": {
                        "gridcolor": "white",
                        "linecolor": "white",
                        "ticks": ""
                      }
                    },
                    "scene": {
                      "xaxis": {
                        "backgroundcolor": "#E5ECF6",
                        "gridcolor": "white",
                        "gridwidth": 2,
                        "linecolor": "white",
                        "showbackground": true,
                        "ticks": "",
                        "zerolinecolor": "white"
                      },
                      "yaxis": {
                        "backgroundcolor": "#E5ECF6",
                        "gridcolor": "white",
                        "gridwidth": 2,
                        "linecolor": "white",
                        "showbackground": true,
                        "ticks": "",
                        "zerolinecolor": "white"
                      },
                      "zaxis": {
                        "backgroundcolor": "#E5ECF6",
                        "gridcolor": "white",
                        "gridwidth": 2,
                        "linecolor": "white",
                        "showbackground": true,
                        "ticks": "",
                        "zerolinecolor": "white"
                      }
                    },
                    "shapedefaults": {
                      "line": {
                        "color": "#2a3f5f"
                      }
                    },
                    "ternary": {
                      "aaxis": {
                        "gridcolor": "white",
                        "linecolor": "white",
                        "ticks": ""
                      },
                      "baxis": {
                        "gridcolor": "white",
                        "linecolor": "white",
                        "ticks": ""
                      },
                      "bgcolor": "#E5ECF6",
                      "caxis": {
                        "gridcolor": "white",
                        "linecolor": "white",
                        "ticks": ""
                      }
                    },
                    "title": {
                      "x": 0.05
                    },
                    "xaxis": {
                      "automargin": true,
                      "gridcolor": "white",
                      "linecolor": "white",
                      "ticks": "",
                      "title": {
                        "standoff": 15
                      },
                      "zerolinecolor": "white",
                      "zerolinewidth": 2
                    },
                    "yaxis": {
                      "automargin": true,
                      "gridcolor": "white",
                      "linecolor": "white",
                      "ticks": "",
                      "title": {
                        "standoff": 15
                      },
                      "zerolinecolor": "white",
                      "zerolinewidth": 2
                    }
                  }
                },
                "title": {
                  "text": "AAPsup3"
                }
              }
            }
          },
          "metadata": {},
          "output_type": "display_data"
        }
      ],
      "source": [
        "import plotly.graph_objects as go\n",
        "import numpy as np\n",
        "\n",
        "# x1, x2, ATP90 are 2D arrays\n",
        "x2_mesh, x1_mesh = np.meshgrid(x2, x1)\n",
        "\n",
        "# Flatten all arrays for scatter plot\n",
        "x_vals = x1_mesh.flatten()  # [FAE] (µM)\n",
        "y_vals = x2_mesh.flatten()  # [AAP] (µM)\n",
        "z_vals = ATP90.flatten()    # [ATP]/[ATP]₀ at 90 s\n",
        "\n",
        "# Create the 3D scatter plot\n",
        "fig = go.Figure(data=[go.Scatter3d(\n",
        "    x=x_vals,\n",
        "    y=y_vals,\n",
        "    z=z_vals,\n",
        "    name = 'Simulation',\n",
        "    mode='markers',\n",
        "    marker=dict(\n",
        "        size=4,\n",
        "        color=nicecolors[0],  # Color by ATP90 value\n",
        "        opacity=0.8\n",
        "    )\n",
        ")])\n",
        "\n",
        "# Add another trace without overwriting the original\n",
        "fig.add_trace(go.Scatter3d(\n",
        "    x=x1,\n",
        "    y=x2,\n",
        "    z=y,\n",
        "    name = 'Data',\n",
        "    mode='markers',\n",
        "    marker=dict(\n",
        "        size=4,\n",
        "        color=nicecolors[1],  # Color by ATP90 value\n",
        "        opacity=0.8\n",
        "    )\n",
        "))\n",
        "\n",
        "\n",
        "# Update layout for better visualization\n",
        "fig.update_layout(\n",
        "    title = title,\n",
        "    scene=dict(\n",
        "        xaxis_title=f'[{indepvar1}] (µM)',\n",
        "        yaxis_title=f'[{indepvar2}] (µM)',\n",
        "        zaxis_title='[ATP] / [ATP]₀',\n",
        "        aspectmode='cube',\n",
        "        \n",
        "    ),\n",
        "    margin=dict(l=0, r=0, b=0, t=40),  # Remove extra padding\n",
        ")\n",
        "\n",
        "camera = dict(\n",
        "    up=dict(x=0, y=0, z=1),\n",
        "    center=dict(x=0, y=0, z=-0.2),\n",
        "    eye=dict(x=1.5, y=1.5, z=.5)\n",
        ")\n",
        "\n",
        "fig.update_layout(scene_camera=camera)\n",
        "fig.update_traces(textfont=dict(size=18))\n",
        "fig.write_image(\"3Dpahse.svg\")  # Increase scale for higher resolution\n",
        "\n",
        "fig.show()"
      ]
    },
    {
      "cell_type": "markdown",
      "metadata": {
        "id": "3T1EqOXT767l"
      },
      "source": [
        "# Stochastic Simulations\n"
      ]
    },
    {
      "cell_type": "markdown",
      "metadata": {
        "id": "2kosrS-CxY34"
      },
      "source": [
        "## gillespy2 reaction system"
      ]
    },
    {
      "cell_type": "code",
      "execution_count": 1147,
      "metadata": {
        "id": "XmVNkv-Un28L"
      },
      "outputs": [],
      "source": [
        "import gillespy2 as gillespy\n",
        "import numpy as np\n",
        "import matplotlib.pyplot as plt\n",
        "\n",
        "class MFASimulation(gillespy.Model):\n",
        "    def __init__(self, concs, rates, indepvar):\n",
        "        super().__init__('MFA_Reaction')\n",
        "\n",
        "        # Parameters (rate constants)\n",
        "        self.k1_0 = gillespy.Parameter(name='k1_0', expression=rates['k1_0'])\n",
        "        self.k1_c = gillespy.Parameter(name='k1_c', expression=rates['k1_c'])\n",
        "        self.k2_0 = gillespy.Parameter(name='k2_0', expression=rates['k2_0'])\n",
        "        self.k2_c = gillespy.Parameter(name='k2_c', expression=rates['k2_c'])\n",
        "        self.add_parameter([self.k1_0, self.k1_c, self.k2_0, self.k2_c])\n",
        "\n",
        "\n",
        "        # Species (concentrations)\n",
        "        self.ATP = gillespy.Species(name='ATP', initial_value=concs['ATP'])\n",
        "        self.MFA = gillespy.Species(name='MFA', initial_value=concs['MFA'])\n",
        "        self.MFA_star = gillespy.Species(name='MFA_star', initial_value=concs['MFA_star0'])\n",
        "        self.FAE = gillespy.Species(name='FAE', initial_value=concs['FAE'])\n",
        "        self.AAP = gillespy.Species(name='AAP', initial_value=concs['AAP'])\n",
        "\n",
        "        self.add_species([self.ATP, self.MFA, self.MFA_star, self.FAE, self.AAP])\n",
        "\n",
        "        # Define reactions with propensity functions as strings and valid names\n",
        "        reaction1 = gillespy.Reaction(\n",
        "            name='ATP_MFA_to_MFA_star',  # Changed to a valid name\n",
        "            reactants={self.ATP: 1, self.MFA: 1, self.FAE: 1},  # if FAE binds catalytically\n",
        "            products={self.MFA_star: 1, self.FAE: 1},  # FAE is released (unchanged)    \n",
        "            propensity_function=\"(k1_0 + k1_c * FAE) * ATP * MFA\"\n",
        "    )\n",
        "        \n",
        "\n",
        "        reaction2 = gillespy.Reaction(\n",
        "            name='MFA_star_to_MFA',  # Changed to a valid name\n",
        "            reactants={self.MFA_star: 1, self.AAP: 1}, \n",
        "            products={self.MFA: 1, self.AAP: 1},  # AAP is released (unchanged)\n",
        "            propensity_function=\"(k2_0 + k2_c * AAP) * MFA_star\"\n",
        "        )\n",
        "\n",
        "        self.add_reaction([reaction1, reaction2])\n",
        "\n",
        "        # Time span for simulation\n",
        "        self.timespan(np.linspace(0, 100, 100))\n",
        "\n"
      ]
    },
    {
      "cell_type": "markdown",
      "metadata": {
        "id": "v3cL7QEd0i9_"
      },
      "source": [
        "## sims"
      ]
    },
    {
      "cell_type": "code",
      "execution_count": null,
      "metadata": {},
      "outputs": [],
      "source": [
        "simsstoch = {}"
      ]
    },
    {
      "cell_type": "code",
      "execution_count": null,
      "metadata": {
        "colab": {
          "base_uri": "https://localhost:8080/"
        },
        "id": "Wa8JRJIRu2oi",
        "outputId": "cebe3f6b-8f7a-4efa-cf86-8074f0a3e361"
      },
      "outputs": [
        {
          "name": "stderr",
          "output_type": "stream",
          "text": [
            "100%|██████████| 9/9 [00:33<00:00,  3.74s/it]\n"
          ]
        }
      ],
      "source": [
        "# load data\n",
        "dataset = datasets['MFAmain']\n",
        "indepvar = dataset.attrs['variable']\n",
        "buffer_indices = dataset.attrs.get('buffer_indicies', [])\n",
        "data = dataset.drop(columns=buffer_indices) #get only data values not buffer\n",
        "slicer = slice(None,None)\n",
        "x = data.loc[indepvar][slicer] -1\n",
        "y = data.loc[\"norm_mean\"][slicer] #luminosity normed by avg buffer\n",
        "\n",
        "def units_coversion(conc, V):\n",
        "  NA = 6.022e23 #avagadro mol^-1\n",
        "  # conc = 1e-6 #1 micro molar = mol/ litre\n",
        "  n = conc*NA # molecules / litre\n",
        "  # V = 1e-15 # 1 pico liter\n",
        "  N = n * V\n",
        "  return(np.round(N)) #round to integer\n",
        "\n",
        "\n",
        "# Running the Simulation\n",
        "V = 1e-14 #1 pico liter\n",
        "concs = {'ATP': units_coversion(1e-6 * 2000, V),\n",
        "         'MFA': units_coversion(1e-6 , V),\n",
        "         'MFA_star0': 0, 'FAE': 0, 'AAP':0}\n",
        "rates = {'k1_0': 0.00243/units_coversion(1e-6 , V) , 'k1_c': 0.03, 'k2_0': 10000.1, 'k2_c': 0.0}\n",
        "\n",
        "concs[indepvar] = units_coversion(1e-6 * x.to_numpy(), V)\n",
        "sim = simulation(concs, rates, indepvar)\n",
        "sim.Stoch_sim_over_var()\n",
        "sim.interpolate(90)\n",
        "sim.x = x; sim.y = y; sim.T = T\n",
        "simsstoch['MFAmain'] = sim"
      ]
    },
    {
      "cell_type": "code",
      "execution_count": 1151,
      "metadata": {
        "colab": {
          "base_uri": "https://localhost:8080/",
          "height": 443
        },
        "id": "4TVcjBcOqI4k",
        "outputId": "f39c6035-a91a-42f2-93f2-e86c9b17c078"
      },
      "outputs": [
        {
          "name": "stdout",
          "output_type": "stream",
          "text": [
            "Fit parameters: [ 0.99980513 -0.21206622]  R^2: 0.9960762845841125\n",
            "Fit parameters: [ 0.99997559 -0.21866105]  R^2: 0.9999998517709936\n"
          ]
        },
        {
          "data": {
            "image/png": "[encoded data removed]",
            "text/plain": [
              "<Figure size 600x400 with 1 Axes>"
            ]
          },
          "metadata": {},
          "output_type": "display_data"
        }
      ],
      "source": [
        "# define rates and concerntraions\n",
        "rates = {'k1_0': 0.22/90 , 'k1_c': 0.03, 'k2_0': 1000.1, 'k2_c': 0.0}\n",
        "concs = {'ATP': 2000.0, 'MFA_star0': 0.0, 'MFA': 1.0, 'FAE': 0.0, 'AAP': 0.0}\n",
        "fig, ax = plt.subplots(figsize=(6, 4))\n",
        "for i, title in enumerate(['MFAmain']):\n",
        "\n",
        "\n",
        "\n",
        "    sim = simsstoch[title]\n",
        "    # datasets[title].attrs['sim'] = sim\n",
        "    # plots of enzyme behavoit\n",
        "    # sim.timeseries_plots() # each line is for different [enzyme]: [ATP] vs t\n",
        "    # sim.data_vs_sim_plot(shift=0) #[ATP] at t=T vs [enzyme]\n",
        "    # plot data and simdata\n",
        "    shift = 0\n",
        "    plot_scatter(ax,  sim.x, (sim.y), label=f\"{title}, T={sim.T}\", marker='x', color=nicecolors[i], alpha=1)\n",
        "    plot_scatter(ax, sim.x, (sim.Tmes),marker='o', color=nicecolors[i])\n",
        "\n",
        "    #fit exponetial and shift\n",
        "    popt, popc, R2 = plot_fit(ax, sim.x, (sim.y), exp_fit, color=nicecolors[i], label = None)\n",
        "    popt, popc, R2 = plot_fit(ax, sim.x, (sim.Tmes), exp_fit, color=nicecolors[i], label = None, linestyle='--')\n",
        "\n",
        "    plot_labels(ax, f\"[{indepvar}]$/\\mu$M\", r\"[ATP]/[ATP$_0$]\", f\"{indepvar} kinetics\") #T={sim.T}\n",
        "    plot_lims(ax, sim.x, sim.Tmes, [0,'d'],[0,1.2])\n",
        "    plot_ticks(ax)\n",
        "\n",
        "\n",
        "\n",
        "\n",
        "plt.plot([],[], label='$ae^{bx}$ Data fit', color='black')\n",
        "plt.plot([],[], label='$ae^{bx}$ Simulation fit', color='black', linestyle='--')\n",
        "plot_legend(ax, legfts = 9, loc='upper right')\n",
        "name = 'MFAsup_plot'\n",
        "plt.tight_layout()\n",
        "# plt.savefig(f'/content/drive/MyDrive/POBS/figs/{name}.svg', dpi=1000)"
      ]
    },
    {
      "cell_type": "markdown",
      "metadata": {
        "id": "vxGjmebjpFRq"
      },
      "source": [
        "## FAE"
      ]
    },
    {
      "cell_type": "code",
      "execution_count": 1162,
      "metadata": {
        "colab": {
          "base_uri": "https://localhost:8080/",
          "height": 885
        },
        "id": "fnlqMvlsgUnQ",
        "outputId": "9f9d7afe-dd32-4f21-ae65-6aa0ac396341"
      },
      "outputs": [
        {
          "name": "stderr",
          "output_type": "stream",
          "text": [
            "100%|██████████| 8/8 [00:23<00:00,  2.91s/it]\n"
          ]
        },
        {
          "data": {
            "image/png": "[encoded data removed]",
            "text/plain": [
              "<Figure size 600x400 with 1 Axes>"
            ]
          },
          "metadata": {},
          "output_type": "display_data"
        }
      ],
      "source": [
        "simsstochF = {}\n",
        "# define rates and concerntraions\n",
        "# Running the Simulation\n",
        "V = 1e-14 #1 pico liter\n",
        "concs = {'ATP': units_coversion(1e-6 * 2000, V),\n",
        "         'MFA': units_coversion(1e-6 , V),\n",
        "         'MFA_star0': 0, 'FAE': 0, 'AAP':0}\n",
        "rates = {'k1_0': 0.00243/units_coversion(1e-6 , V) , 'k1_c': 0.033/units_coversion(1e-6 , V)**2,\n",
        "          'k2_0': 100.1, 'k2_c': 0.0/units_coversion(1e-6 , V)}\n",
        "rates = {'k1_0': 2*0.00243/units_coversion(1e-6 , V) , 'k1_c': 0.033/units_coversion(1e-6 , V)**2,\n",
        "          'k2_0': 10.1, 'k2_c': 10.0/units_coversion(1e-6 , V)} #work with 1microM MFA\n",
        "\n",
        "for i, title in enumerate(['FAEmain']):\n",
        "\n",
        "    # load dataset of interest\n",
        "    x, y, indepvar, T = load_dataset(title)\n",
        "    \n",
        "    # set the [enzyme] which is varried to array of what it is\n",
        "    concs[indepvar] = units_coversion(1e-6 * x.to_numpy(), V) #dont convert Fae as its not \n",
        "    sim = simulation(concs, rates, indepvar)\n",
        "    sim.x = x; sim.y = y; sim.T = T\n",
        "    sim.Stoch_sim_over_var()\n",
        "    sim.interpolate(sim.T)\n",
        "    sim.timeseries_plots()\n",
        "    simsstochF[title] = sim"
      ]
    },
    {
      "cell_type": "code",
      "execution_count": 1163,
      "metadata": {},
      "outputs": [
        {
          "name": "stdout",
          "output_type": "stream",
          "text": [
            "Fit parameters: [-2.45636255  0.08154077]  R^2: 0.8703343778477497\n",
            "Fit parameters: [-0.45061005 -0.01194551]  R^2: 0.9672594617849346\n"
          ]
        },
        {
          "data": {
            "image/png": "[encoded data removed]",
            "text/plain": [
              "<Figure size 600x500 with 1 Axes>"
            ]
          },
          "metadata": {},
          "output_type": "display_data"
        }
      ],
      "source": [
        "fig, ax = plt.subplots(figsize=(6, 5))\n",
        "for i, title in enumerate(['FAEmain']):\n",
        "\n",
        "    sim = simsstochF[title]\n",
        "\n",
        "\n",
        "    plot_scatter(ax,  sim.x, (sim.y), label=f\"{title}, T={sim.T}\", marker='x', color=nicecolors[i], alpha=1)\n",
        "    plot_scatter(ax, sim.x, (sim.Tmes),marker='o', color=nicecolors[i])\n",
        "\n",
        "    #fit exponetial and shift\n",
        "    A = sim.y[0]\n",
        "    exp_fitC = lambda x, b, c: A * np.exp(b * x) + c\n",
        "    expC_label = lambda b, c: f\"${A:.2f}e^{{{b:.2f}}} + {c:.2f}$\"\n",
        "    popt, popc, R2 = plot_fit(ax, sim.x, (sim.y), exp_fitC, color=nicecolors[i], label = expC_label)\n",
        "    A = sim.Tmes[0]\n",
        "    exp_fitC = lambda x, b, c: A * np.exp(b * x) + c\n",
        "    expC_label = lambda b, c: f\"${A:.2f}e^{{{b:.2f}}} + {c:.2f}$\"\n",
        "    popt, popc, R2 = plot_fit(ax, sim.x, (sim.Tmes), exp_fitC, color=nicecolors[i], label = expC_label, linestyle='--')\n",
        "\n",
        "    plot_labels(ax, f\"[{indepvar}]$/\\mu$M\", r\"[ATP]/[ATP$_0$]\", f\"{indepvar} kinetics\") #T={sim.T}\n",
        "    plot_lims(ax, sim.x, sim.Tmes, [0,'d'],[0,1])\n",
        "    plot_ticks(ax)\n",
        "\n",
        "plt.plot([],[], label='$ae^{bx}$ Data fit', color='black')\n",
        "plt.plot([],[], label='$ae^{bx}$ Simulation fit', color='black', linestyle='--')\n",
        "plot_legend(ax, legfts = 10, loc='upper right')\n",
        "name = 'MFAsup_plot_stoch'\n",
        "plt.tight_layout()\n",
        "# plt.savefig(f'/content/drive/MyDrive/POBS/figs/{name}.svg', dpi=1000)"
      ]
    },
    {
      "cell_type": "code",
      "execution_count": 1154,
      "metadata": {},
      "outputs": [
        {
          "name": "stderr",
          "output_type": "stream",
          "text": [
            "100%|██████████| 9/9 [00:19<00:00,  2.14s/it]\n"
          ]
        },
        {
          "data": {
            "image/png": "[encoded data removed]",
            "text/plain": [
              "<Figure size 600x400 with 1 Axes>"
            ]
          },
          "metadata": {},
          "output_type": "display_data"
        }
      ],
      "source": [
        "simsstochA = {}\n",
        "# define rates and concerntraions\n",
        "# Running the Simulation\n",
        "V = 1e-15 #1 pico liter\n",
        "concs = {'ATP': units_coversion(1e-6 * 2000, V),\n",
        "         'MFA': units_coversion(1e-6 , V),\n",
        "         'MFA_star0': 0, 'FAE': 0, 'AAP':0}\n",
        "\n",
        "rates = {'k1_0': 4*0.00243/units_coversion(1e-6 , V) , 'k1_c': 0.033/units_coversion(1e-6 , V)**2,\n",
        "          'k2_0': 10.1, 'k2_c': 10.0/units_coversion(1e-6 , V)} #work with 1microM MFA\n",
        "# rates = {'k1_0': 2*0.00243/units_coversion(1e-6 , V) , 'k1_c': 0.033/units_coversion(1e-6 , V)**2,\n",
        "#           'k2_0': 10.1, 'k2_c': 20.0/units_coversion(1e-6 , V)}\n",
        "\n",
        "\n",
        "for i, title in enumerate(['AAPmain']):\n",
        "\n",
        "    # load dataset of interest\n",
        "    x, y, indepvar, T = load_dataset(title)\n",
        "    \n",
        "    # set the [enzyme] which is varried to array of what it is\n",
        "    concs[indepvar] = units_coversion(1e-6 * x.to_numpy(), V)\n",
        "    sim = simulation(concs, rates, indepvar)\n",
        "    sim.x = x; sim.y = y; sim.T = T\n",
        "    sim.Stoch_sim_over_var()\n",
        "    sim.interpolate(sim.T)\n",
        "    sim.timeseries_plots() # each line is for different [enzyme]: [ATP] vs t\n",
        "\n",
        "    simsstochA[title] = sim"
      ]
    },
    {
      "cell_type": "code",
      "execution_count": 1155,
      "metadata": {},
      "outputs": [
        {
          "name": "stdout",
          "output_type": "stream",
          "text": [
            "Fit parameters: [ 0.64709818 -0.08754318]  R^2: 0.7927245996015576\n",
            "Fit parameters: [ 0.65143614 -0.08282911]  R^2: 0.915134519467789\n"
          ]
        },
        {
          "data": {
            "image/png": "[encoded data removed]",
            "text/plain": [
              "<Figure size 600x500 with 1 Axes>"
            ]
          },
          "metadata": {},
          "output_type": "display_data"
        }
      ],
      "source": [
        "fig, ax = plt.subplots(figsize=(6, 5))\n",
        "for i, title in enumerate(['AAPmain']):\n",
        "\n",
        "    sim = simsstochA[title]\n",
        "\n",
        "\n",
        "    plot_scatter(ax,  sim.x, (sim.y), label=f\"{title}, T={sim.T}\", marker='x', color=nicecolors[i], alpha=1)\n",
        "    plot_scatter(ax, sim.x, (sim.Tmes),marker='o', color=nicecolors[i])\n",
        "\n",
        "    #fit exponetial and shift\n",
        "    A = sim.y[0]\n",
        "    exp_fitC = lambda x, b, c: (A) * np.exp(b * x) + c\n",
        "    expC_label = lambda b, c: f\"${A:.2f}e^{{{b:.2f}}} + {c:.2f}$\"\n",
        "    popt, popc, R2 = plot_fit(ax, sim.x, (sim.y), exp_fit, color=nicecolors[i], label = exp_label)\n",
        "    A = sim.Tmes[0]\n",
        "    exp_fitC = lambda x, b, c: (A) * np.exp(b * x) + c\n",
        "    expC_label = lambda b, c: f\"${A:.2f}e^{{{b:.2f}}} + {c:.2f}$\"\n",
        "    popt, popc, R2 = plot_fit(ax, sim.x, (sim.Tmes), exp_fit, color=nicecolors[i], label = exp_label, linestyle='--')\n",
        "\n",
        "    plot_labels(ax, f\"[{indepvar}]$/\\mu$M\", r\"[ATP]/[ATP$_0$]\", f\"{indepvar} kinetics\") #T={sim.T}\n",
        "    plot_lims(ax, sim.x, sim.Tmes, [0,'d'],[0,1])\n",
        "    plot_ticks(ax)\n",
        "\n",
        "plt.plot([],[], label='$ae^{bx}$ Data fit', color='black')\n",
        "plt.plot([],[], label='$ae^{bx}$ Simulation fit', color='black', linestyle='--')\n",
        "plot_legend(ax, legfts = 10, loc='upper right')\n",
        "name = 'MFAsup_plot_stoch'\n",
        "plt.tight_layout()\n",
        "# plt.savefig(f'/content/drive/MyDrive/POBS/figs/{name}.svg', dpi=1000)"
      ]
    },
    {
      "cell_type": "markdown",
      "metadata": {},
      "source": [
        "### michales mentewn"
      ]
    },
    {
      "cell_type": "code",
      "execution_count": 1169,
      "metadata": {
        "id": "2xvQeQeqoURm"
      },
      "outputs": [
        {
          "name": "stdout",
          "output_type": "stream",
          "text": [
            "Fit parameters: [1.26218106 0.79219882]  R^2: 0.9990608984130512\n"
          ]
        },
        {
          "name": "stderr",
          "output_type": "stream",
          "text": [
            "/var/folders/pt/tzm_d9zs1yzdflvw_9xczlvw0000gn/T/ipykernel_9441/1112808234.py:11: RuntimeWarning:\n",
            "\n",
            "invalid value encountered in power\n",
            "\n"
          ]
        },
        {
          "data": {
            "image/png": "[encoded data removed]",
            "text/plain": [
              "<Figure size 600x400 with 1 Axes>"
            ]
          },
          "metadata": {},
          "output_type": "display_data"
        }
      ],
      "source": [
        "# Plot results\n",
        "xconc = []\n",
        "yconc = []\n",
        "fig, ax = plt.subplots(figsize=(6, 4))\n",
        "for i, trajectory in enumerate(sim.results):\n",
        "    # plt.plot(trajectory['time'], trajectory['MFA'],label=sim.var_concs[i], alpha=0.3)\n",
        "    xconc.append(sim.var_concs[i]/units_coversion(1e-6 , V))\n",
        "    yconc.append(trajectory['MFA_star'].mean()/concs['MFA'])\n",
        "    errors = trajectory['MFA'].std()/concs['MFA']\n",
        "xconc = np.array(xconc); yconc = np.array(yconc)\n",
        "hill = lambda L, K_A, n: L**n/(L**n+ K_A**n) + yconc.min()\n",
        "hill_label = lambda K_A, n: f\"KD= {K_A:.2f}, n={n:.2f})\"\n",
        "plot_scatter(ax, xconc, yconc, color=nicecolors[0], marker='o')\n",
        "plt.errorbar(xconc, yconc, yerr=errors, fmt='o', capsize=3,color=nicecolors[0], label='mean [MFA]')\n",
        "\n",
        "popt, popc, R2 = plot_fit(ax, xconc, yconc, hill, label=hill_label,color=nicecolors[1])\n",
        "plot_lims(ax, xconc, yconc, [0,'d'],[0,1])\n",
        "plot_labels(ax, f'[{sim.indepvar}]', \"[MFA]\", \"Hill behavoir\")\n",
        "plot_ticks(ax, default_ticks=6)\n",
        "plot_legend(ax, legfts = 10, loc='lower right')\n"
      ]
    },
    {
      "cell_type": "markdown",
      "metadata": {
        "id": "zClKqXCmuiTd"
      },
      "source": [
        "# temp bin"
      ]
    },
    {
      "cell_type": "code",
      "execution_count": null,
      "metadata": {},
      "outputs": [],
      "source": [
        "import gillespy2 as gillespy\n",
        "import numpy as np\n",
        "\n",
        "class MFASimulation(gillespy.Model):\n",
        "    def __init__(self, sim, rates):\n",
        "        super().__init__(name='Dimensionless_MFA_Model')\n",
        "\n",
        "        # Dimensionless parameters\n",
        "        self.alpha = gillespy.Parameter(name='alpha', expression=rates['alpha'])  \n",
        "        self.gamma = gillespy.Parameter(name='gamma', expression=rates['gamma'])\n",
        "        self.lambd = gillespy.Parameter(name='lambd', expression=rates['lambda'])\n",
        "\n",
        "        self.add_parameter([self.alpha, self.gamma, self.lambd])\n",
        "\n",
        "        # Species (ATP: a, MFA: m, MFA*: m_star)\n",
        "        self.a = gillespy.Species(name='a', initial_value=sim.a)  # ATP\n",
        "        self.m = gillespy.Species(name='m', initial_value=sim.m)  # MFA\n",
        "        self.m_star = gillespy.Species(name='m_star', initial_value=1-sim.m)  # MFA*\n",
        "\n",
        "        self.add_species([self.a, self.m, self.m_star])\n",
        "\n",
        "        # Reactions\n",
        "        consumption = gillespy.Reaction(\n",
        "            name='ATP consumption',\n",
        "            reactants={self.a: 1, self.m: 1},\n",
        "            products={self.m_star: 1},\n",
        "            propensity_function=\"alpha * a * m\"\n",
        "        )\n",
        "\n",
        "        reactivation = gillespy.Reaction(\n",
        "            name='reactivation',\n",
        "            reactants={self.m_star: 1},\n",
        "            products={self.m: 1},\n",
        "            propensity_function=\"(gamma / lambd) * m_star\"\n",
        "        )\n",
        "\n",
        "        self.add_reaction([consumption, reactivation])\n",
        "\n",
        "        # Timespan for simulation\n",
        "        self.timespan(np.linspace(0, 100, 100))\n",
        "simsstoch = {}\n",
        "# load data\n",
        "dataset = datasets['MFAmain']\n",
        "indepvar = dataset.attrs['variable']\n",
        "buffer_indices = dataset.attrs.get('buffer_indicies', [])\n",
        "data = dataset.drop(columns=buffer_indices) #get only data values not buffer\n",
        "slicer = slice(None,None)\n",
        "x = data.loc[indepvar][slicer] -1\n",
        "y = data.loc[\"norm_mean\"][slicer] #luminosity normed by avg buffer\n",
        "\n",
        "def units_coversion(conc, V):\n",
        "  NA = 6.022e23 #avagadro mol^-1\n",
        "  # conc = 1e-6 #1 micro molar = mol/ litre\n",
        "  n = conc*NA # molecules / litre\n",
        "  # V = 1e-15 # 1 pico liter\n",
        "  N = n * V\n",
        "  return(N)\n",
        "\n",
        "\n",
        "# Running the Simulation\n",
        "V = 1e-15 #1 pico liter\n",
        "concs = {'ATP': units_coversion(1e-6 * 2000, V),\n",
        "         'MFA': units_coversion(1e-6 , V),\n",
        "         'MFA_star0': 0, 'FAE': 0, 'AAP':0}\n",
        "rates = {'k1_0': 0.0003, 'k1_c': 0.05, 'k2_0': 1000, 'k2_c': 0.1}\n",
        "rates = {'k1_0': 0.00243/10 , 'k1_c': 0.03, 'k2_0': 1000.1, 'k2_c': 0.0}\n",
        "\n",
        "concs[indepvar] = x.to_numpy()[2:4]-1\n",
        "sim = simulation(concs, rate_list[0])\n",
        "sim.Stoch_sim_over_var(rate_list)\n",
        "sim.interpolate(90)\n",
        "sim.x = x; sim.y = y; sim.T = T\n",
        "simsstoch['MFAmain'] = sim\n",
        "import gillespy2 as gillespy\n",
        "import numpy as np\n",
        "import matplotlib.pyplot as plt\n",
        "\n",
        "class MFADimensionlessSim(gillespy.Model):\n",
        "    def __init__(self, concs, rates, scaling=1000):\n",
        "        super().__init__(name='Dimensionless_MFA_Model')\n",
        "\n",
        "        # Parameters (dimensionless, so not scaled)\n",
        "        self.alpha = gillespy.Parameter(name='alpha', expression=rates['alpha'])\n",
        "        self.gamma = gillespy.Parameter(name='gamma', expression=rates['gamma'])\n",
        "        self.lambd = gillespy.Parameter(name='lambd', expression=rates['lambda'])\n",
        "        self.add_parameter([self.alpha, self.gamma, self.lambd])\n",
        "\n",
        "        # Convert dimensionless concs to molecule counts using scaling\n",
        "        self.a = gillespy.Species(name='a', initial_value=int(concs['a'] * scaling))\n",
        "        self.m = gillespy.Species(name='m', initial_value=int(concs['m'] * scaling))\n",
        "        self.m_star = gillespy.Species(name='m_star', initial_value=int(concs['m_star'] * scaling))\n",
        "        self.add_species([self.a, self.m, self.m_star])\n",
        "\n",
        "        # Reactions\n",
        "        activation = gillespy.Reaction(\n",
        "            name='activation',\n",
        "            reactants={self.a: 1, self.m: 1},\n",
        "            products={self.m_star: 1},\n",
        "            propensity_function = \"(1 / {}) * a * m\".format(scaling)\n",
        "        )\n",
        "\n",
        "        deactivation = gillespy.Reaction(\n",
        "            name='deactivation',\n",
        "            reactants={self.m_star: 1},\n",
        "            products={self.m: 1},\n",
        "            propensity_function=\"(gamma / lambd) * m_star\"\n",
        "        )\n",
        "\n",
        "        self.add_reaction([activation, deactivation])\n",
        "\n",
        "        # Simulation in dimensionless time τ\n",
        "        self.timespan(np.linspace(0, 100, 200))\n",
        "\n",
        "\n",
        "# --- Run simulation ---\n",
        "\n",
        "rates = {'k1_0': 0.002426 , 'k1_c': 0.0, 'k2_0': 100, 'k2_c': 0.0}\n",
        "concs = {'ATP': 2000.0, 'MFA_star0': 0.0, 'MFA': 1.0, 'FAE': 0.0, 'AAP': 0.0}\n",
        "\n",
        "def find_dim_rates(concs, krates):\n",
        "\n",
        "    alpha = concs['ATP']/concs['MFA']\n",
        "    gamma = krates['k2_0'] + krates['k2_c'] * concs['AAP']\n",
        "    lambd = (krates['k1_0'] + krates['k1_c'] * concs['FAE']) * concs['MFA']\n",
        "    rates = {'alpha': alpha, 'gamma': gamma, 'lambda': lambd}\n",
        "    return rates\n",
        "\n",
        "rates = find_dim_rates(concs, rates)\n",
        "scaling =2  # Scaling factor for converting to molecule counts\n",
        "concs = {\n",
        "    'a': 1.0,  # ATP\n",
        "    'm': 1.0,  # MFA\n",
        "    'm_star': 0.0,  # MFA*\n",
        "}\n",
        "model = MFADimensionlessSim(concs, rates, scaling=scaling)\n",
        "results = model.run(number_of_trajectories=1)\n",
        "\n",
        "# Extract and plot ATP (a) trajectory\n",
        "time = results[0].data['time']  # convert to dimensionless time\n",
        "ATP_traj = results[0].data['a'] / scaling  # convert back to dimensionless conc.\n",
        "\n",
        "plt.plot(time, ATP_traj, label='[ATP]')\n",
        "plt.plot(time, results[0].data['m'] / scaling , label='[m]')\n",
        "\n",
        "plt.xlabel('Dimensionless time (τ)')\n",
        "plt.ylabel('Dimensionless [ATP]')\n",
        "plt.title('Stochastic Simulation (Gillespie)')\n",
        "plt.legend()\n",
        "plt.grid(True)\n",
        "plt.show()"
      ]
    },
    {
      "cell_type": "code",
      "execution_count": null,
      "metadata": {
        "id": "UftKKn95x_9b"
      },
      "outputs": [],
      "source": [
        "# define rates and concerntraions\n",
        "disc_scale = 10 #scale things up a bit as its a discrete sim\n",
        "\n",
        "rates = {'k1_0':  0.22428/90/disc_scale, 'k1_c': 0.05, 'k2_0': 500, 'k2_c': 0.1}\n",
        "concs = {'ATP': 2000*disc_scale, 'MFA': 4*disc_scale, 'MFA_star0': 0, 'FAE': 0, 'AAP':0}\n",
        "\n",
        "# load dataset of interest\n",
        "x, y, indepvar, T = load_dataset('MFAmain')\n",
        "# set the [enzyme] which is varried to array of what it is\n",
        "concs[indepvar] = x.to_numpy() - 1\n",
        "\n",
        "# simulation class containing everthing to do with sim\n",
        "sim = simulation(concs, rates, indepvar) # initialise\n",
        "sim.x = x; sim.y = y; sim.T = T # add the data to it\n",
        "sim.Stoch_sim_over_var(disc_scale) # sim over variable [enzyme]\n",
        "sim.interpolate(sim.T) # interpolate to find value at specific T\n",
        "\n"
      ]
    },
    {
      "cell_type": "markdown",
      "metadata": {
        "id": "eZ7V0FNdHHcc"
      },
      "source": [
        "## unwrapped code"
      ]
    },
    {
      "cell_type": "code",
      "execution_count": null,
      "metadata": {
        "id": "eqGWnWRfHkLt"
      },
      "outputs": [],
      "source": [
        "#full code for changes\n",
        "dataset = datasets['MFAmain'] # load data\n",
        "indepvar = dataset.attrs['variable']\n",
        "buffer_indices = dataset.attrs.get('buffer_indicies', [])\n",
        "data = dataset.drop(columns=buffer_indices) #get only data values not buffer\n",
        "slicer = slice(None,None)\n",
        "x = data.loc[indepvar][slicer]\n",
        "y = data.loc[\"norm_mean\"][slicer] #luminosity normed by avg buffer\n",
        "\n",
        "rates = {'k1_0': 0.22428/90 , 'k1_c': 0.0, 'k2_0': 0.1, 'k2_c': 0.0}\n",
        "concs = {'ATP': 1.0, 'MFA_star0': 0.0, 'MFA': 1.0, 'FAE': 0.0, 'AAP': 0.0}\n",
        "\n",
        "concs[indepvar] = x.to_numpy()\n",
        "sim = simulation(concs, rates, indepvar)\n",
        "sim.sim_over_var()\n",
        "sim.interpolate(90)\n",
        "\n",
        "#plot time series results\n",
        "fig, ax = plt.subplots(figsize=(6, 4))\n",
        "plot_data(ax, [],[])\n",
        "for sol in sim.results:\n",
        "  plt.plot(sol['time'], sol['ATP'] , color=nicecolors[0])\n",
        "plot_labels(ax, \"time\", \"[ATP]\", f\"{indepvar} kinetics\")\n",
        "plot_lims(ax, sol['time'], sol['ATP'], [0,'d'],[0,'d'])\n",
        "plot_ticks(ax)\n",
        "plt.close()\n",
        "\n",
        "# plot data vs simdata\n",
        "fig, ax = plt.subplots(figsize=(6, 4))\n",
        "shift = 0\n",
        "plot_data(ax,  (x+shift), (y), label=f\"data with x=x{shift}\", color=nicecolors[0])\n",
        "plot_data(ax, (sim.var_concs), (sim.Tmes), label='sim', color=nicecolors[1])\n",
        "\n",
        "#fit exponetial and shift if needed\n",
        "popt, popc, R2 = plot_fit(ax, (x+shift), (y), exp_fit, label = exp_label, color=nicecolors[0])\n",
        "popt, popc, R2 = plot_fit(ax, (sim.var_concs), (sim.Tmes), exp_fit, label = exp_label, color=nicecolors[1])\n",
        "\n",
        "plot_labels(ax, f\"[{indepvar}]\", \"[ATP]\", f\"{indepvar} kinetics\")\n",
        "plot_lims(ax, x, sim.Tmes, [0,'d'],[0,1])\n",
        "plot_ticks(ax)\n",
        "plt.close()\n"
      ]
    },
    {
      "cell_type": "markdown",
      "metadata": {
        "id": "lW7gTnKE6i2s"
      },
      "source": [
        "## Run stochastic simulation plot MFA\n"
      ]
    },
    {
      "cell_type": "code",
      "execution_count": null,
      "metadata": {
        "id": "CklxQnsZ6mZx"
      },
      "outputs": [],
      "source": [
        "# Running the Simulation\n",
        "concs = {'ATP': 2000000, 'MFA': 20, 'MFA_star0': 0, 'FAE': 0, 'AAP':0}\n",
        "rates = {'k1_0': 0.0003, 'k1_c': 0.05, 'k2_0': 990, 'k2_c': 0.1}\n",
        "\n",
        "model = MFASimulation(concs, rates, indepvar='ATP')\n",
        "solver = gillespy.SSACSolver(model)\n",
        "results = solver.run(number_of_trajectories=1)\n"
      ]
    },
    {
      "cell_type": "code",
      "execution_count": null,
      "metadata": {
        "id": "Tx8BEx9l6o0M"
      },
      "outputs": [],
      "source": [
        "# Plot results\n",
        "for species in ['ATP', 'MFA']:\n",
        "    plt.figure()\n",
        "    for trajectory in results:\n",
        "        plt.plot(model.tspan, trajectory[species], alpha=0.3)\n",
        "        if species == 'ATP':\n",
        "            # Fit the exponential function to the data (using the first part of the trajectory for the fit)\n",
        "            popt, _ = curve_fit(exp_fitC, model.tspan, trajectory[species], p0=[1000, -0.01,.0], maxfev =10000)\n",
        "\n",
        "            # Generate fitted curve using optimal parameters\n",
        "            fitted_curve = exp_fitC(model.tspan, *popt)\n",
        "\n",
        "            # Plot the exponential fit curve\n",
        "            plt.plot(model.tspan, fitted_curve, label=f\"Exp Fit: A={popt[0]:.2f}, B={popt[1]:.4f}, C={popt[2]:.4f}\", color='red')\n",
        "            plt.legend()\n",
        "\n",
        "    plt.xlabel('Time')\n",
        "    plt.ylabel(f'[{species}]')\n",
        "    plt.title(f'Stochastic Simulation of {species}')\n",
        "    plt.ylim(0)\n",
        "    plt.show()"
      ]
    },
    {
      "cell_type": "code",
      "execution_count": null,
      "metadata": {
        "id": "y884LHX6-prb"
      },
      "outputs": [],
      "source": [
        "# load data\n",
        "dataset = datasets['MFAmain']\n",
        "indepvar = dataset.attrs['variable']\n",
        "buffer_indices = dataset.attrs.get('buffer_indicies', [])\n",
        "data = dataset.drop(columns=buffer_indices) #get only data values not buffer\n",
        "slicer = slice(None,None)\n",
        "x = data.loc[indepvar][slicer]\n",
        "y = data.loc[\"norm_mean\"][slicer] #luminosity normed by avg buffer\n",
        "\n",
        "\n",
        "rates = {\n",
        "    'k1_0': 1.22428/90,  # Intrinsic rate for ATP + MFA -> MFA*\n",
        "    'k1_c': 0.0,  # Catalyzed rate for ATP + MFA -> MFA*\n",
        "    'k2_0': 0.1,  # Intrinsic rate for S* -> S\n",
        "    'k2_c': 0.0  # Catalyzed rate for S* -> S\n",
        "}\n",
        "\n",
        "concs = {\n",
        "    'ATP': 1.0,  # Initial concentration of ATP\n",
        "    'MFA_star0': 0.0,  # Initial concentration of MFA*\n",
        "    'MFA': 1.0,  # Initial concentration of MFA\n",
        "    'FAE': 0.0,  # Initial concentration of FAE\n",
        "    'AAP': 0.0  # Initial concentration of AAP\n",
        "}\n",
        "concs[indepvar] = x.to_numpy()\n",
        "sim = simulation(concs, rates, indepvar)\n",
        "sim.sim_over_var()\n",
        "sim.interpolate(90)"
      ]
    },
    {
      "cell_type": "markdown",
      "metadata": {
        "id": "hbR4GsulikNl"
      },
      "source": [
        "## binned exploration"
      ]
    },
    {
      "cell_type": "code",
      "execution_count": null,
      "metadata": {
        "id": "uOM9SrLwEdAW"
      },
      "outputs": [],
      "source": [
        "\n",
        "# Access only the 'MFAmain' dataset\n",
        "dataset = datasets['MFAmain']\n",
        "\n",
        "# Check if 'MFA' is in the index and 'mean' is in the columns\n",
        "if 'MFA' in dataset.index and 'mean' in dataset.index:\n",
        "    # Access the MFA concentration from the 'MFA' row\n",
        "    mfa_concentration = dataset.loc['MFA'].values\n",
        "\n",
        "    # Access the intensity mean values from the 'mean' row\n",
        "    intensity_mean = dataset.loc['mean'].values\n",
        "\n",
        "    # Remove buffer columns from both arrays if they exist\n",
        "    buffer_indices = dataset.attrs.get('buffer_indicies', [])\n",
        "\n",
        "    # Filter out buffer columns from mfa_concentration and intensity_mean\n",
        "    mfa_concentration = mfa_concentration[\n",
        "        [i for i, col in enumerate(dataset.columns) if col not in buffer_indices]\n",
        "    ]\n",
        "    intensity_mean = intensity_mean[\n",
        "        [i for i, col in enumerate(dataset.columns) if col not in buffer_indices]\n",
        "    ]\n",
        "\n",
        "    # Plot the data\n",
        "    plt.plot(mfa_concentration, intensity_mean, 'o', label='MFAmain')\n",
        "\n",
        "plt.xlabel('MFA Concentration')\n",
        "plt.ylabel('Intensity Mean')\n",
        "plt.title('Intensity Mean vs. MFA Concentration (MFAmain)')\n",
        "plt.legend()\n",
        "plt.show()"
      ]
    },
    {
      "cell_type": "code",
      "execution_count": null,
      "metadata": {
        "id": "yudhlL-1Elmh"
      },
      "outputs": [],
      "source": []
    },
    {
      "cell_type": "code",
      "execution_count": null,
      "metadata": {
        "id": "FwGL4EpeEygy"
      },
      "outputs": [],
      "source": [
        "\n",
        "# Access only the 'MFAmain' dataset\n",
        "dataset = datasets['MFAmain']\n",
        "\n",
        "# Check if 'MFA' is in the index and 'mean' is in the columns\n",
        "if 'MFA' in dataset.index and 'mean' in dataset.index:\n",
        "    # Access the MFA concentration from the 'MFA' row\n",
        "    mfa_concentration = dataset.loc['MFA'].values\n",
        "\n",
        "    # Access the intensity mean values from the 'mean' row\n",
        "    intensity_mean = dataset.loc['mean'].values\n",
        "\n",
        "    # Remove buffer columns from both arrays if they exist\n",
        "    buffer_indices = dataset.attrs.get('buffer_indicies', [])\n",
        "\n",
        "    # Filter out buffer columns from mfa_concentration and intensity_mean\n",
        "    mfa_concentration = mfa_concentration[\n",
        "        [i for i, col in enumerate(dataset.columns) if col not in buffer_indices]\n",
        "    ]\n",
        "    intensity_mean = intensity_mean[\n",
        "        [i for i, col in enumerate(dataset.columns) if col not in buffer_indices]\n",
        "    ]\n",
        "\n",
        "    # Calculate the natural log of intensity mean\n",
        "    ln_intensity_mean = np.log(intensity_mean)\n",
        "\n",
        "    # Plot the data with ln_intensity_mean on the y-axis\n",
        "    plt.plot(mfa_concentration, ln_intensity_mean, 'o', label='MFAmain')\n",
        "\n",
        "plt.xlabel('MFA Concentration')\n",
        "plt.ylabel('ln(Intensity Mean)')  # Update y-axis label\n",
        "plt.title('ln(Intensity Mean) vs. MFA Concentration (MFAmain)')\n",
        "plt.legend()\n",
        "plt.show()"
      ]
    },
    {
      "cell_type": "code",
      "execution_count": null,
      "metadata": {
        "id": "UbneRgK2KCjw"
      },
      "outputs": [],
      "source": [
        "import matplotlib.pyplot as plt\n",
        "import numpy as np\n",
        "\n",
        "def fit_and_plot_log(dataset_name, concentration_key, x_label, title_prefix):\n",
        "    \"\"\"\n",
        "    Fits a linear function to the log of the data, plots the fit, and prints results.\n",
        "\n",
        "    Args:\n",
        "        dataset_name (str): Name of the dataset to use (e.g., 'MFAmain').\n",
        "        concentration_key (str): Key for concentration data (e.g., 'MFA', 'AAP', 'FAE').\n",
        "        x_label (str): Label for the x-axis.\n",
        "        title_prefix (str): Prefix for the plot title.\n",
        "    \"\"\"\n",
        "\n",
        "    dataset = datasets[dataset_name]\n",
        "\n",
        "    if concentration_key in dataset.index and 'mean' in dataset.index:\n",
        "        concentration = dataset.loc[concentration_key].values\n",
        "        intensity_mean = dataset.loc['mean'].values\n",
        "\n",
        "        # Filter buffer columns\n",
        "        buffer_indices = dataset.attrs.get('buffer_indicies', [])\n",
        "        concentration = concentration[\n",
        "            [i for i, col in enumerate(dataset.columns) if col not in buffer_indices]\n",
        "        ]\n",
        "        intensity_mean = intensity_mean[\n",
        "            [i for i, col in enumerate(dataset.columns) if col not in buffer_indices]\n",
        "        ]\n",
        "\n",
        "        # Calculate the natural log of intensity mean\n",
        "        ln_intensity_mean = np.log(intensity_mean)\n",
        "\n",
        "        # Calculate linear fit for the log data\n",
        "        slope, intercept = np.polyfit(concentration, ln_intensity_mean, 1)\n",
        "\n",
        "        # Print slope and y-intercept\n",
        "        print(f\"{dataset_name} - Slope (k_f0): {slope:.4f}\")  # Assuming slope represents k_f0\n",
        "        print(f\"{dataset_name} - Y-intercept: {intercept:.4f}\")\n",
        "\n",
        "        # Generate regression line\n",
        "        x_fit = np.linspace(min(concentration), max(concentration), 100)\n",
        "        y_fit = slope * x_fit + intercept\n",
        "\n",
        "        # Plot the data and the linear fit on a log scale\n",
        "        plt.figure(figsize=(6, 4))\n",
        "        plt.plot(concentration, ln_intensity_mean, 'o', label=dataset_name)\n",
        "        plt.plot(x_fit, y_fit, color='red', linestyle='--', label=f'Fit: y = {slope:.4f}x + {intercept:.4f}')\n",
        "\n",
        "        plt.xlabel(x_label)\n",
        "        plt.ylabel('ln(Intensity Mean)')\n",
        "        plt.title(f'{title_prefix} ln(Intensity Mean) vs. {x_label} ({dataset_name})')\n",
        "        plt.legend()\n",
        "        plt.show()\n",
        "\n",
        "# Call the function for different datasets\n",
        "fit_and_plot_log('MFAmain', 'MFA', 'MFA Concentration', 'MFAmain')\n",
        "fit_and_plot_log('AAPmain', 'AAP', 'AAP Concentration', 'AAPmain')\n",
        "fit_and_plot_log('FAEmain', 'FAE', 'FAE Concentration', 'FAEmain')"
      ]
    },
    {
      "cell_type": "code",
      "execution_count": null,
      "metadata": {
        "id": "-N3nDoyaOHYG"
      },
      "outputs": [],
      "source": [
        "import matplotlib.pyplot as plt\n",
        "import numpy as np\n",
        "\n",
        "def fit_and_plot_log_quadratic(dataset_name, concentration_key, x_label, title_prefix,\n",
        "                                 overlay_dataset=None, overlay_concentration_key=None,\n",
        "                                 concentration_range=None, exclude_both_nonzero=False):\n",
        "    \"\"\"\n",
        "    Fits a quadratic function to the log of the data, plots the fit, and prints results.\n",
        "    Optionally overlays data from another dataset.\n",
        "\n",
        "    Args:\n",
        "        dataset_name (str): Name of the dataset to use (e.g., 'MFAmain').\n",
        "        concentration_key (str): Key for concentration data (e.g., 'MFA', 'AAP', 'FAE').\n",
        "        x_label (str): Label for the x-axis.\n",
        "        title_prefix (str): Prefix for the plot title.\n",
        "        overlay_dataset (str, optional): Name of the dataset to overlay. Defaults to None.\n",
        "        overlay_concentration_key (str, optional): Concentration key for overlay dataset. Defaults to None.\n",
        "        concentration_range (tuple, optional): Range of concentration for overlay. Defaults to None.\n",
        "        exclude_both_nonzero (bool, optional): Whether to exclude data points with nonzero\n",
        "                                                concentrations for both AAP and FAE. Defaults to False.\n",
        "    \"\"\"\n",
        "\n",
        "    dataset = datasets[dataset_name]\n",
        "\n",
        "    if concentration_key in dataset.index and 'mean' in dataset.index:\n",
        "        concentration = dataset.loc[concentration_key].values\n",
        "        intensity_mean = dataset.loc['mean'].values\n",
        "\n",
        "        # Filter buffer columns\n",
        "        buffer_indices = dataset.attrs.get('buffer_indicies', [])\n",
        "        concentration = concentration[\n",
        "            [i for i, col in enumerate(dataset.columns) if col not in buffer_indices]\n",
        "        ]\n",
        "        intensity_mean = intensity_mean[\n",
        "            [i for i, col in enumerate(dataset.columns) if col not in buffer_indices]\n",
        "        ]\n",
        "\n",
        "        # Calculate the natural log of intensity mean\n",
        "        ln_intensity_mean = np.log(intensity_mean)\n",
        "\n",
        "        # Calculate quadratic fit for the log data\n",
        "        coefficients = np.polyfit(concentration, ln_intensity_mean, 2)  # Fit a 2nd-degree polynomial\n",
        "        slope = coefficients[0]  # The coefficient of the x^2 term is considered the slope here\n",
        "        intercept = coefficients[2]  # The constant term is the intercept\n",
        "\n",
        "        # Print slope and y-intercept\n",
        "        print(f\"{dataset_name} - Slope (quadratic): {slope:.4f}\")\n",
        "        print(f\"{dataset_name} - Y-intercept: {intercept:.4f}\")\n",
        "\n",
        "        # Generate regression line (quadratic curve)\n",
        "        x_fit = np.linspace(min(concentration), max(concentration), 100)\n",
        "        y_fit = np.polyval(coefficients, x_fit)  # Use polyval to evaluate the polynomial\n",
        "\n",
        "        # Plot the data and the quadratic fit on a log scale\n",
        "        plt.figure(figsize=(6, 4))\n",
        "        plt.plot(concentration, ln_intensity_mean, 'o', label=dataset_name)\n",
        "        plt.plot(x_fit, y_fit, color='red', linestyle='--',\n",
        "                 label=f'Quadratic Fit: y = {coefficients[0]:.4f}x^2 + {coefficients[1]:.4f}x + {coefficients[2]:.4f}')\n",
        "\n",
        "        # Overlay data if provided\n",
        "        if overlay_dataset:\n",
        "            overlay_data = datasets[overlay_dataset]\n",
        "            if overlay_concentration_key in overlay_data.index and 'mean' in overlay_data.index:\n",
        "                overlay_concentration = overlay_data.loc[overlay_concentration_key].values\n",
        "                overlay_intensity_mean = overlay_data.loc['mean'].values\n",
        "\n",
        "                # Filter buffer columns for overlay data\n",
        "                buffer_indices_overlay = overlay_data.attrs.get('buffer_indicies', [])\n",
        "                overlay_concentration = overlay_concentration[\n",
        "                    [i for i, col in enumerate(overlay_data.columns) if col not in buffer_indices_overlay]\n",
        "                ]\n",
        "                overlay_intensity_mean = overlay_intensity_mean[\n",
        "                    [i for i, col in enumerate(overlay_data.columns) if col not in buffer_indices_overlay]\n",
        "                ]\n",
        "\n",
        "                # --- Exclude data points with both AAP and FAE nonzero ---\n",
        "                if exclude_both_nonzero:\n",
        "                    aap_conc_overlay = overlay_data.loc['AAP'].values[\n",
        "                        [i for i, col in enumerate(overlay_data.columns) if col not in buffer_indices_overlay]\n",
        "                    ]\n",
        "                    fae_conc_overlay = overlay_data.loc['FAE'].values[\n",
        "                        [i for i, col in enumerate(overlay_data.columns) if col not in buffer_indices_overlay]\n",
        "                    ]\n",
        "\n",
        "                    # Create a mask to exclude data points with both AAP and FAE nonzero\n",
        "                    mask_both_nonzero = ~((aap_conc_overlay != 0) & (fae_conc_overlay != 0))\n",
        "\n",
        "                    overlay_concentration = overlay_concentration[mask_both_nonzero]\n",
        "                    overlay_intensity_mean = overlay_intensity_mean[mask_both_nonzero]\n",
        "\n",
        "                # Filter overlay data based on concentration range\n",
        "                if concentration_range:\n",
        "                    mask_range = (overlay_concentration >= concentration_range[0]) & (\n",
        "                        overlay_concentration <= concentration_range[1])\n",
        "                    overlay_concentration = overlay_concentration[mask_range]\n",
        "                    overlay_intensity_mean = overlay_intensity_mean[mask_range]\n",
        "\n",
        "                # Plot overlay data\n",
        "                plt.plot(overlay_concentration, np.log(overlay_intensity_mean), 'x',\n",
        "                         label=overlay_dataset)\n",
        "\n",
        "        plt.xlabel(x_label)\n",
        "        plt.ylabel('ln(Intensity Mean)')\n",
        "        plt.title(f'{title_prefix} ln(Intensity Mean) vs. {x_label} ({dataset_name})')\n",
        "        plt.legend()\n",
        "        plt.show()\n",
        "\n",
        "\n",
        "# Call the function for different datasets with overlay and exclusion\n",
        "fit_and_plot_log_quadratic('FAEmain', 'FAE', 'FAE Concentration', 'FAEmain',\n",
        "                           overlay_dataset='ALLmain', overlay_concentration_key='FAE',\n",
        "                           concentration_range=(0.15, 0.25), exclude_both_nonzero=True)\n",
        "\n",
        "fit_and_plot_log_quadratic('AAPmain', 'AAP', 'AAP Concentration', 'AAPmain',\n",
        "                           overlay_dataset='ALLmain', overlay_concentration_key='AAP',\n",
        "                           concentration_range=(0.25, 1), exclude_both_nonzero=True)"
      ]
    },
    {
      "cell_type": "code",
      "execution_count": null,
      "metadata": {
        "id": "0vKeAsYCbeza"
      },
      "outputs": [],
      "source": [
        "# prompt: Create a code for the data used which takes the ALLmain dataset, and plots the ln(intensity mean) relative to both AAP and FAE concentrations. Makes sure to plot only the points from sample 8 to sample 12 only (in other words from L to P). The plot should be 3D since it require both AAP and FAE. Make it so the plot is clearly visible i guess with a surface visualization?\n",
        "\n",
        "import matplotlib.pyplot as plt\n",
        "from mpl_toolkits.mplot3d import Axes3D\n",
        "import numpy as np\n",
        "\n",
        "# Assuming 'datasets' and other necessary variables are defined as in your provided code.\n",
        "\n",
        "def plot_3d_ln_intensity(dataset_name):\n",
        "    dataset = datasets[dataset_name]\n",
        "\n",
        "    # Extract AAP, FAE, and intensity data, handling potential missing keys\n",
        "    if 'AAP' not in dataset.index or 'FAE' not in dataset.index or 'mean' not in dataset.index:\n",
        "        print(f\"Error: 'AAP', 'FAE', or 'mean' not found in dataset '{dataset_name}'\")\n",
        "        return\n",
        "\n",
        "    aap_conc = dataset.loc['AAP'].values\n",
        "    fae_conc = dataset.loc['FAE'].values\n",
        "    intensity_mean = dataset.loc['mean'].values\n",
        "\n",
        "    buffer_indices = dataset.attrs.get('buffer_indicies', [])\n",
        "\n",
        "    # Filter out buffer columns\n",
        "    aap_conc = aap_conc[[i for i, col in enumerate(dataset.columns) if col not in buffer_indices]]\n",
        "    fae_conc = fae_conc[[i for i, col in enumerate(dataset.columns) if col not in buffer_indices]]\n",
        "    intensity_mean = intensity_mean[[i for i, col in enumerate(dataset.columns) if col not in buffer_indices]]\n",
        "\n",
        "    # Select data from samples 8 to 12 (L to P) – adjust indices if needed\n",
        "    start_index = 7  # Index 7 corresponds to sample 8 (L)\n",
        "    end_index = 11  # Index 11 corresponds to sample 12 (P)\n",
        "\n",
        "    if start_index < 0 or end_index >= len(aap_conc) or start_index > end_index:\n",
        "      print(\"Error: Invalid sample indices\")\n",
        "      return\n",
        "\n",
        "    aap_conc = aap_conc[start_index:end_index+1]\n",
        "    fae_conc = fae_conc[start_index:end_index+1]\n",
        "    intensity_mean = intensity_mean[start_index:end_index+1]\n",
        "\n",
        "    # Calculate ln(intensity mean)\n",
        "    ln_intensity = np.log(intensity_mean)\n",
        "\n",
        "    # Create the 3D plot\n",
        "    fig = plt.figure(figsize=(10, 8))\n",
        "    ax = fig.add_subplot(111, projection='3d')\n",
        "\n",
        "    # Plot the data points\n",
        "    ax.scatter(aap_conc, fae_conc, ln_intensity, s=50, c=ln_intensity, cmap='viridis')  # Use color for ln_intensity\n",
        "\n",
        "    # Add labels and title\n",
        "    ax.set_xlabel('AAP Concentration')\n",
        "    ax.set_ylabel('FAE Concentration')\n",
        "    ax.set_zlabel('ln(Intensity Mean)')\n",
        "    ax.set_title(f'3D Plot of ln(Intensity Mean) vs AAP and FAE Concentrations ({dataset_name})')\n",
        "\n",
        "    plt.show()\n",
        "\n",
        "\n",
        "# Call the function for the 'ALLmain' dataset\n",
        "plot_3d_ln_intensity('ALLmain')\n"
      ]
    },
    {
      "cell_type": "markdown",
      "metadata": {
        "id": "_wqg4COfaKT3"
      },
      "source": [
        "## Simulations old"
      ]
    },
    {
      "cell_type": "markdown",
      "metadata": {
        "id": "1nKltWwxD0C6"
      },
      "source": [
        "### adding in Fae"
      ]
    },
    {
      "cell_type": "code",
      "execution_count": null,
      "metadata": {
        "id": "Bzfq_bYpjq-g"
      },
      "outputs": [],
      "source": [
        "# Define rate constants\n",
        "k1_0 = 0.22428/90 #0.002492  # Intrinsic rate for T + S -> S*\n",
        "k1_c = 0.03  # Catalyzed rate for T + S -> S*\n",
        "k2_0 = 10 # Intrinsic rate for S* -> S\n",
        "k2_c = 0.0  # Catalyzed rate for S* -> S\n",
        "\n",
        "# Initial concentrations\n",
        "T0 = 1.0    # Initial concentration of T\n",
        "# S0 = 0.1    # Initial concentration of S\n",
        "S_star0 = 0.0  # Initial concentration of S*\n",
        "F = 0.       # Catalyst concentration for first reaction\n",
        "A = 0.      # Catalyst concentration for second reaction\n",
        "\n",
        "concs = np.array([2])\n",
        "var_conc = np.array([\t0.35,0.3,0.25,0.2,0.15,0.1,0.05])\n",
        "results = []\n",
        "Tinitial = [1]\n",
        "# Solve the system\n",
        "for i, Faeconc in enumerate(var_conc):\n",
        "    S0 = concs[0]\n",
        "    T0 = Tinitial[0]\n",
        "    F = Faeconc\n",
        "    def reaction_system(t, y):\n",
        "        T, S, S_star = y\n",
        "\n",
        "        # Reaction rates including both intrinsic and catalyzed contributions\n",
        "        rate1 = (k1_0 + k1_c * F) * T * S\n",
        "        rate2 = (k2_0 + k2_c * A) * S_star\n",
        "\n",
        "        # Differential equations\n",
        "        dT_dt = -rate1\n",
        "        dS_dt = -rate1 + rate2\n",
        "        dS_star_dt = rate1 - rate2\n",
        "\n",
        "        return [dT_dt, dS_dt, dS_star_dt]\n",
        "\n",
        "    # Time span for simulation\n",
        "    t_max = 1000\n",
        "    time_span = (0, t_max)\n",
        "    time_eval = np.linspace(0, t_max, 200)\n",
        "\n",
        "\n",
        "    sol = solve_ivp(reaction_system, time_span, [T0, S0, S_star0], t_eval=time_eval)\n",
        "    results.append(sol)\n",
        "# find conc at Tmes=90\n",
        "Tmes = []\n",
        "for sol in results:\n",
        "    Tmes.append(np.interp(dataset.attrs['T'], sol.t, sol.y[0]))\n",
        "Tmes = np.array(Tmes)"
      ]
    },
    {
      "cell_type": "code",
      "execution_count": null,
      "metadata": {
        "id": "0fF73i_SjzEN"
      },
      "outputs": [],
      "source": [
        "dataset = datasets['FAEmain']\n",
        "indepvar = dataset.attrs['variable']\n",
        "buffer_indices = dataset.attrs.get('buffer_indicies', [])\n",
        "data = dataset.drop(columns=buffer_indices) #get only data values not buffer\n",
        "slicer = slice(1,None)\n",
        "x = data.loc[data.attrs['variable']][slicer]\n",
        "y = data.loc[\"norm_mean\"][slicer] #luminosity normed by avg buffer\n",
        "\n",
        "#plot time series results\n",
        "fig, ax = plt.subplots(figsize=(6, 4))\n",
        "plot_data(ax, [],[])\n",
        "for sol in results:\n",
        "  plt.plot(sol.t, sol.y[0] , color=nicecolors[0])\n",
        "plot_labels(ax, \"time\", \"[ATP]\", f\"{indepvar} kinetics\")\n",
        "plot_lims(ax, sol.t, sol.y[0], [0,'d'],[0,'d'])\n",
        "plot_ticks(ax)\n",
        "plt.show()\n",
        "\n",
        "# plot data and simdata\n",
        "fig, ax = plt.subplots(figsize=(6, 4))\n",
        "shift = 0\n",
        "plot_data(ax, x+shift, y, name=f\"data with x=x{shift}\", color=nicecolors[0])\n",
        "plot_data(ax, var_conc, Tmes, name=f\"sim\", color=nicecolors[1])\n",
        "\n",
        "#fit exponetial and shift\n",
        "popt, popc, R2 = plot_fit(ax, x+shift, y, exp_fit, name = exp_label, color=nicecolors[0])\n",
        "popt, popc, R2 = plot_fit(ax, var_conc, Tmes, exp_fit, name = exp_label, color=nicecolors[1])\n",
        "\n",
        "plot_labels(ax, f\"[{indepvar}]\", \"[ATP]\", f\"{indepvar} kinetics\")\n",
        "plot_lims(ax, x, y, [0,'d'],[0,1.3])\n",
        "plot_ticks(ax)\n",
        "plt.show()\n",
        "\n",
        "\n"
      ]
    },
    {
      "cell_type": "markdown",
      "metadata": {
        "id": "E3YERTM478Jw"
      },
      "source": [
        "### With Aap"
      ]
    },
    {
      "cell_type": "code",
      "execution_count": null,
      "metadata": {
        "id": "qFmkANs5mwaJ"
      },
      "outputs": [],
      "source": [
        "# Define rate constants\n",
        "k1_0 = 0.22428/90 #0.002492  # Intrinsic rate for T + S -> S*\n",
        "k1_c = 0.2  # Catalyzed rate for T + S -> S*\n",
        "k2_0 = 0.0001 # Intrinsic rate for S* -> S\n",
        "k2_c = 0.1  # Catalyzed rate for S* -> S\n",
        "\n",
        "# Initial concentrations\n",
        "T0 = 1.0    # Initial concentration of T\n",
        "# S0 = 0.1    # Initial concentration of S\n",
        "S_star0 = 0.0  # Initial concentration of S*\n",
        "F = 0.   # Catalyst concentration for first reaction\n",
        "# A = 0.      # Catalyst concentration for second reaction\n",
        "\n",
        "concs = np.array([2])\n",
        "var_conc = np.array([\t\t5.0,4.0,3.0,2.0,\t1.0,\t0.8,\t0.6,\t0.4])\n",
        "results = []\n",
        "Tinitial = [1]\n",
        "# Solve the system\n",
        "for i, Aapconc in enumerate(var_conc):\n",
        "    S0 = concs[0]\n",
        "    T0 = Tinitial[0]\n",
        "    A = Aapconc\n",
        "    def reaction_system(t, y):\n",
        "        T, S, S_star = y\n",
        "\n",
        "        # Reaction rates including both intrinsic and catalyzed contributions\n",
        "        rate1 = (k1_0 + k1_c * F) * T * S\n",
        "        rate2 = (k2_0 + k2_c * A) * S_star\n",
        "\n",
        "        # Differential equations\n",
        "        dT_dt = -rate1\n",
        "        dS_dt = -rate1 + rate2\n",
        "        dS_star_dt = rate1 - rate2\n",
        "\n",
        "        return [dT_dt, dS_dt, dS_star_dt]\n",
        "\n",
        "    # Time span for simulation\n",
        "    t_max = 100\n",
        "    time_span = (0, t_max)\n",
        "    time_eval = np.linspace(0, t_max, 200)\n",
        "\n",
        "\n",
        "    sol = solve_ivp(reaction_system, time_span, [T0, S0, S_star0], t_eval=time_eval)\n",
        "    results.append(sol)\n",
        "# find conc at Tmes=90\n",
        "Tmes = []\n",
        "for sol in results:\n",
        "    Tmes.append(np.interp(90, sol.t, sol.y[0]))\n",
        "Tmes = np.array(Tmes)"
      ]
    },
    {
      "cell_type": "code",
      "execution_count": null,
      "metadata": {
        "id": "FxKELS-mnCqn"
      },
      "outputs": [],
      "source": [
        "dataset = datasets['AAPmain']\n",
        "indepvar = dataset.attrs['variable']\n",
        "buffer_indices = dataset.attrs.get('buffer_indicies', [])\n",
        "data = dataset.drop(columns=buffer_indices) #get only data values not buffer\n",
        "slicer = slice(1,None)\n",
        "x = data.loc[data.attrs['variable']][slicer]\n",
        "y = data.loc[\"norm_mean\"][slicer] #luminosity normed by avg buffer\n",
        "\n",
        "#plot time series results\n",
        "fig, ax = plt.subplots(figsize=(6, 4))\n",
        "plot_data(ax, [],[])\n",
        "for sol in results:\n",
        "  plt.plot(sol.t, sol.y[0] , color=nicecolors[0])\n",
        "plot_labels(ax, \"time\", \"[ATP]\", f\"{indepvar} kinetics\")\n",
        "plot_lims(ax, sol.t, sol.y[0], [0,'d'],[0,'d'])\n",
        "plot_ticks(ax)\n",
        "plt.show()\n",
        "\n",
        "# plot data and simdata\n",
        "fig, ax = plt.subplots(figsize=(6, 4))\n",
        "shift = 0\n",
        "plot_data(ax,  (x+shift), (y), name=f\"data with x=x{shift}\", color=nicecolors[0])\n",
        "plot_data(ax, (var_conc), (Tmes), name='sim', color=nicecolors[1])\n",
        "\n",
        "#fit exponetial and shift\n",
        "# popt, popc, R2 = plot_fit(ax, np.log(x+shift), np.log(y), linear_fit, name = exp_label, color=nicecolors[0])\n",
        "# popt, popc, R2 = plot_fit(ax, np.log(var_conc), np.log(Tmes), linear_fit, name = exp_label, color=nicecolors[1])\n",
        "\n",
        "plot_labels(ax, f\"[{indepvar}]\", \"[ATP]\", f\"{indepvar} kinetics\")\n",
        "# plot_lims(ax, x, Tmes, ['d','d'],['d','d'])\n",
        "plot_ticks(ax)\n",
        "plt.show()\n",
        "\n",
        "\n"
      ]
    }
  ],
  "metadata": {
    "colab": {
      "collapsed_sections": [
        "ZneUw9t3aEvo",
        "MQQlRRm2cqgb",
        "iYokRExSiN6i",
        "mf0aU1_SShBH",
        "gFYmj-IhR_o2",
        "hbR4GsulikNl",
        "_wqg4COfaKT3",
        "1nKltWwxD0C6",
        "E3YERTM478Jw"
      ],
      "provenance": []
    },
    "kernelspec": {
      "display_name": "base",
      "language": "python",
      "name": "python3"
    },
    "language_info": {
      "codemirror_mode": {
        "name": "ipython",
        "version": 3
      },
      "file_extension": ".py",
      "mimetype": "text/x-python",
      "name": "python",
      "nbconvert_exporter": "python",
      "pygments_lexer": "ipython3",
      "version": "3.11.5"
    }
  },
  "nbformat": 4,
  "nbformat_minor": 0
}
